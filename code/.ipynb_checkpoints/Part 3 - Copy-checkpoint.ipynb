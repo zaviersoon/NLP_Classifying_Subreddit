{
 "cells": [
  {
   "cell_type": "markdown",
   "id": "6238708a-0e53-4d57-941c-23fcbb937324",
   "metadata": {},
   "source": [
    "# Project 3 : Web APIs & NLP\n",
    "----------"
   ]
  },
  {
   "cell_type": "markdown",
   "id": "d15a0bda-3367-4ff7-8901-de8a2a41ac8b",
   "metadata": {},
   "source": [
    "## Contents:\n",
    "### Part 3\n",
    "\n",
    "1. [Importing Libraries](#1.-Importing-Libraries)\n",
    "2. [Importing Data](#2.-Importing-Data)\n",
    "3. [Feature Engineering](#3.-Feature-Engineering)\n",
    "4. [Model Preparation](#4.-Model-Preparation)\n",
    "5. [Final Model Insights](#5.-Final-Model-Insights)\n",
    "6. [Conclusion](#6.-Conclusion)\n",
    "7. [Recommendations](#7.-Recommendations)\n",
    "8. [Limitations & Improvement](#8.-Limitations-&-Improvement)\n",
    "9. [References](#9.-References)"
   ]
  },
  {
   "cell_type": "markdown",
   "id": "097c5faf-54f0-4675-843f-38e2df1981c7",
   "metadata": {},
   "source": [
    "## 1. Importing Libraries"
   ]
  },
  {
   "cell_type": "code",
   "execution_count": 2585,
   "id": "36eb335d-8a24-47c9-9dcb-04461f03c4bb",
   "metadata": {},
   "outputs": [],
   "source": [
    "import numpy as np\n",
    "import pandas as pd\n",
    "import matplotlib.pyplot as plt\n",
    "import seaborn as sns\n",
    "\n",
    "from nltk.corpus import stopwords\n",
    "from sklearn.model_selection import train_test_split, GridSearchCV\n",
    "from sklearn.pipeline import Pipeline\n",
    "from sklearn.feature_extraction.text import CountVectorizer, TfidfVectorizer\n",
    "from sklearn.linear_model import LogisticRegression\n",
    "from sklearn.naive_bayes import MultinomialNB\n",
    "from sklearn.ensemble import RandomForestClassifier\n",
    "\n",
    "from sklearn.metrics import confusion_matrix, plot_confusion_matrix, classification_report, plot_roc_curve, roc_auc_score, \\\n",
    "                            accuracy_score, precision_score, recall_score, f1_score\n",
    "\n",
    "from prettytable import PrettyTable\n",
    "\n",
    "# Display full output \n",
    "pd.set_option('display.max_rows', 500)\n",
    "pd.set_option('display.max_columns', 500)\n",
    "pd.set_option('display.max_colwidth', None)"
   ]
  },
  {
   "cell_type": "markdown",
   "id": "8c1e26e7-62bd-44e7-962f-e7b48a379b32",
   "metadata": {},
   "source": [
    "## 2. Importing Data"
   ]
  },
  {
   "cell_type": "code",
   "execution_count": 2586,
   "id": "8497b6c5-549e-4987-bf5f-ad1e49e23dd0",
   "metadata": {},
   "outputs": [],
   "source": [
    "# Read in combine csv file\n",
    "\n",
    "df_combine = pd.read_csv('../datasets/combine_sub.csv', keep_default_na = False)"
   ]
  },
  {
   "cell_type": "code",
   "execution_count": 2587,
   "id": "47bc90bb-6717-484b-b2bc-f2c974a83e19",
   "metadata": {},
   "outputs": [
    {
     "data": {
      "text/html": [
       "<div>\n",
       "<style scoped>\n",
       "    .dataframe tbody tr th:only-of-type {\n",
       "        vertical-align: middle;\n",
       "    }\n",
       "\n",
       "    .dataframe tbody tr th {\n",
       "        vertical-align: top;\n",
       "    }\n",
       "\n",
       "    .dataframe thead th {\n",
       "        text-align: right;\n",
       "    }\n",
       "</style>\n",
       "<table border=\"1\" class=\"dataframe\">\n",
       "  <thead>\n",
       "    <tr style=\"text-align: right;\">\n",
       "      <th></th>\n",
       "      <th>index</th>\n",
       "      <th>subreddit</th>\n",
       "      <th>title</th>\n",
       "      <th>selftext</th>\n",
       "      <th>content</th>\n",
       "      <th>content_length</th>\n",
       "      <th>content_word_count</th>\n",
       "      <th>content_token_lemme</th>\n",
       "      <th>content_token_stem</th>\n",
       "    </tr>\n",
       "  </thead>\n",
       "  <tbody>\n",
       "    <tr>\n",
       "      <th>0</th>\n",
       "      <td>0</td>\n",
       "      <td>aliens</td>\n",
       "      <td>omg guys  there are   episodes of american horror story where they show a ufo crash  president eisenhower  how the situation evolved  human alien hybrids  a treat with aliens  president kennedy and marylin monroe involved  abduction and other stuff i don t want to spoil  season    episodes</td>\n",
       "      <td>u can find it on disney  or on the internet   it s worth  episodes came out in august       and in one of them  they say that in      a perfect human alien hybrid is born  it s just a tv series   but what if</td>\n",
       "      <td>omg guys  there are   episodes of american horror story where they show a ufo crash  president eisenhower  how the situation evolved  human alien hybrids  a treat with aliens  president kennedy and marylin monroe involved  abduction and other stuff i don t want to spoil  season    episodes           u can find it on disney  or on the internet   it s worth  episodes came out in august       and in one of them  they say that in      a perfect human alien hybrid is born  it s just a tv series   but what if</td>\n",
       "      <td>510</td>\n",
       "      <td>89</td>\n",
       "      <td>omg guy there are episode of american horror story where they show a ufo crash president eisenhower how the situation evolved human alien hybrid a treat with alien president kennedy and marylin monroe involved abduction and other stuff i don t want to spoil season episode u can find it on disney or on the internet it s worth episode came out in august and in one of them they say that in a perfect human alien hybrid is born it s just a tv series but what if</td>\n",
       "      <td>omg guy there are episod of american horror stori where they show a ufo crash presid eisenhow how the situat evolv human alien hybrid a treat with alien presid kennedi and marylin monro involv abduct and other stuff i don t want to spoil season episod u can find it on disney or on the internet it s worth episod came out in august and in one of them they say that in a perfect human alien hybrid is born it s just a tv seri but what if</td>\n",
       "    </tr>\n",
       "    <tr>\n",
       "      <th>1</th>\n",
       "      <td>1</td>\n",
       "      <td>aliens</td>\n",
       "      <td>the rendlesham glyphs contain a humanoid    and a mantis</td>\n",
       "      <td>the rendlesham glyphs     these are the glyphs that were seen by penniston when he observed the triangular craft up close   noone has yet deciphered them   shape   looks humanoid   shape   looks mantis like  triangular head  long  neck   then multiple sets of limbs     a regular praying   if this is true  do the glyphs then represent   species  what do you guys think</td>\n",
       "      <td>the rendlesham glyphs contain a humanoid    and a mantis  the rendlesham glyphs     these are the glyphs that were seen by penniston when he observed the triangular craft up close   noone has yet deciphered them   shape   looks humanoid   shape   looks mantis like  triangular head  long  neck   then multiple sets of limbs     a regular praying   if this is true  do the glyphs then represent   species  what do you guys think</td>\n",
       "      <td>428</td>\n",
       "      <td>68</td>\n",
       "      <td>the rendlesham glyph contain a humanoid and a mantis the rendlesham glyph these are the glyph that were seen by penniston when he observed the triangular craft up close noone ha yet deciphered them shape look humanoid shape look mantis like triangular head long neck then multiple set of limb a regular praying if this is true do the glyph then represent specie what do you guy think</td>\n",
       "      <td>the rendlesham glyph contain a humanoid and a manti the rendlesham glyph these are the glyph that were seen by penniston when he observ the triangular craft up close noon ha yet deciph them shape look humanoid shape look manti like triangular head long neck then multipl set of limb a regular pray if thi is true do the glyph then repres speci what do you guy think</td>\n",
       "    </tr>\n",
       "    <tr>\n",
       "      <th>2</th>\n",
       "      <td>2</td>\n",
       "      <td>aliens</td>\n",
       "      <td>the rendlesham glyphs contain a humanoid    and a mantis  glyph   and</td>\n",
       "      <td></td>\n",
       "      <td>the rendlesham glyphs contain a humanoid    and a mantis  glyph   and</td>\n",
       "      <td>73</td>\n",
       "      <td>11</td>\n",
       "      <td>the rendlesham glyph contain a humanoid and a mantis glyph and</td>\n",
       "      <td>the rendlesham glyph contain a humanoid and a manti glyph and</td>\n",
       "    </tr>\n",
       "    <tr>\n",
       "      <th>3</th>\n",
       "      <td>3</td>\n",
       "      <td>aliens</td>\n",
       "      <td>any new ufo uap documentaries to watch</td>\n",
       "      <td>i m pretty sure i ve watched all there is to watch since early         may  was hoping there was more to watch as i feel the need to feed my obsession</td>\n",
       "      <td>any new ufo uap documentaries to watch  i m pretty sure i ve watched all there is to watch since early         may  was hoping there was more to watch as i feel the need to feed my obsession</td>\n",
       "      <td>191</td>\n",
       "      <td>38</td>\n",
       "      <td>any new ufo uap documentary to watch i m pretty sure i ve watched all there is to watch since early may wa hoping there wa more to watch a i feel the need to feed my obsession</td>\n",
       "      <td>ani new ufo uap documentari to watch i m pretti sure i ve watch all there is to watch sinc earli may wa hope there wa more to watch as i feel the need to feed my obsess</td>\n",
       "    </tr>\n",
       "    <tr>\n",
       "      <th>4</th>\n",
       "      <td>4</td>\n",
       "      <td>aliens</td>\n",
       "      <td>any explantation for this</td>\n",
       "      <td></td>\n",
       "      <td>any explantation for this</td>\n",
       "      <td>27</td>\n",
       "      <td>4</td>\n",
       "      <td>any explantation for this</td>\n",
       "      <td>ani explant for thi</td>\n",
       "    </tr>\n",
       "  </tbody>\n",
       "</table>\n",
       "</div>"
      ],
      "text/plain": [
       "   index subreddit  \\\n",
       "0      0    aliens   \n",
       "1      1    aliens   \n",
       "2      2    aliens   \n",
       "3      3    aliens   \n",
       "4      4    aliens   \n",
       "\n",
       "                                                                                                                                                                                                                                                                                                          title  \\\n",
       "0  omg guys  there are   episodes of american horror story where they show a ufo crash  president eisenhower  how the situation evolved  human alien hybrids  a treat with aliens  president kennedy and marylin monroe involved  abduction and other stuff i don t want to spoil  season    episodes             \n",
       "1                                                                                                                                                                                                                                                      the rendlesham glyphs contain a humanoid    and a mantis   \n",
       "2                                                                                                                                                                                                                                      the rendlesham glyphs contain a humanoid    and a mantis  glyph   and      \n",
       "3                                                                                                                                                                                                                                                                       any new ufo uap documentaries to watch    \n",
       "4                                                                                                                                                                                                                                                                                    any explantation for this    \n",
       "\n",
       "                                                                                                                                                                                                                                                                                                                                                                              selftext  \\\n",
       "0                                                                                                                                                                    u can find it on disney  or on the internet   it s worth  episodes came out in august       and in one of them  they say that in      a perfect human alien hybrid is born  it s just a tv series   but what if     \n",
       "1   the rendlesham glyphs     these are the glyphs that were seen by penniston when he observed the triangular craft up close   noone has yet deciphered them   shape   looks humanoid   shape   looks mantis like  triangular head  long  neck   then multiple sets of limbs     a regular praying   if this is true  do the glyphs then represent   species  what do you guys think    \n",
       "2                                                                                                                                                                                                                                                                                                                                                                                        \n",
       "3                                                                                                                                                                                                                              i m pretty sure i ve watched all there is to watch since early         may  was hoping there was more to watch as i feel the need to feed my obsession    \n",
       "4                                                                                                                                                                                                                                                                                                                                                                                        \n",
       "\n",
       "                                                                                                                                                                                                                                                                                                                                                                                                                                                                                                                          content  \\\n",
       "0  omg guys  there are   episodes of american horror story where they show a ufo crash  president eisenhower  how the situation evolved  human alien hybrids  a treat with aliens  president kennedy and marylin monroe involved  abduction and other stuff i don t want to spoil  season    episodes           u can find it on disney  or on the internet   it s worth  episodes came out in august       and in one of them  they say that in      a perfect human alien hybrid is born  it s just a tv series   but what if     \n",
       "1                                                                                    the rendlesham glyphs contain a humanoid    and a mantis  the rendlesham glyphs     these are the glyphs that were seen by penniston when he observed the triangular craft up close   noone has yet deciphered them   shape   looks humanoid   shape   looks mantis like  triangular head  long  neck   then multiple sets of limbs     a regular praying   if this is true  do the glyphs then represent   species  what do you guys think    \n",
       "2                                                                                                                                                                                                                                                                                                                                                                                                                                                       the rendlesham glyphs contain a humanoid    and a mantis  glyph   and       \n",
       "3                                                                                                                                                                                                                                                                                                                                 any new ufo uap documentaries to watch  i m pretty sure i ve watched all there is to watch since early         may  was hoping there was more to watch as i feel the need to feed my obsession    \n",
       "4                                                                                                                                                                                                                                                                                                                                                                                                                                                                                                     any explantation for this     \n",
       "\n",
       "   content_length  content_word_count  \\\n",
       "0             510                  89   \n",
       "1             428                  68   \n",
       "2              73                  11   \n",
       "3             191                  38   \n",
       "4              27                   4   \n",
       "\n",
       "                                                                                                                                                                                                                                                                                                                                                                                                                                                            content_token_lemme  \\\n",
       "0  omg guy there are episode of american horror story where they show a ufo crash president eisenhower how the situation evolved human alien hybrid a treat with alien president kennedy and marylin monroe involved abduction and other stuff i don t want to spoil season episode u can find it on disney or on the internet it s worth episode came out in august and in one of them they say that in a perfect human alien hybrid is born it s just a tv series but what if   \n",
       "1                                                                               the rendlesham glyph contain a humanoid and a mantis the rendlesham glyph these are the glyph that were seen by penniston when he observed the triangular craft up close noone ha yet deciphered them shape look humanoid shape look mantis like triangular head long neck then multiple set of limb a regular praying if this is true do the glyph then represent specie what do you guy think   \n",
       "2                                                                                                                                                                                                                                                                                                                                                                                                                the rendlesham glyph contain a humanoid and a mantis glyph and   \n",
       "3                                                                                                                                                                                                                                                                                               any new ufo uap documentary to watch i m pretty sure i ve watched all there is to watch since early may wa hoping there wa more to watch a i feel the need to feed my obsession   \n",
       "4                                                                                                                                                                                                                                                                                                                                                                                                                                                     any explantation for this   \n",
       "\n",
       "                                                                                                                                                                                                                                                                                                                                                                                                                                     content_token_stem  \n",
       "0  omg guy there are episod of american horror stori where they show a ufo crash presid eisenhow how the situat evolv human alien hybrid a treat with alien presid kennedi and marylin monro involv abduct and other stuff i don t want to spoil season episod u can find it on disney or on the internet it s worth episod came out in august and in one of them they say that in a perfect human alien hybrid is born it s just a tv seri but what if  \n",
       "1                                                                         the rendlesham glyph contain a humanoid and a manti the rendlesham glyph these are the glyph that were seen by penniston when he observ the triangular craft up close noon ha yet deciph them shape look humanoid shape look manti like triangular head long neck then multipl set of limb a regular pray if thi is true do the glyph then repres speci what do you guy think  \n",
       "2                                                                                                                                                                                                                                                                                                                                                                                         the rendlesham glyph contain a humanoid and a manti glyph and  \n",
       "3                                                                                                                                                                                                                                                                              ani new ufo uap documentari to watch i m pretti sure i ve watch all there is to watch sinc earli may wa hope there wa more to watch as i feel the need to feed my obsess  \n",
       "4                                                                                                                                                                                                                                                                                                                                                                                                                                   ani explant for thi  "
      ]
     },
     "execution_count": 2587,
     "metadata": {},
     "output_type": "execute_result"
    }
   ],
   "source": [
    "# Check the first 5 rows of combine df\n",
    "\n",
    "df_combine.head()"
   ]
  },
  {
   "cell_type": "markdown",
   "id": "8735088f-daf0-4441-bdb4-eb6a58eec7ef",
   "metadata": {},
   "source": [
    "## 3. Feature Engineering"
   ]
  },
  {
   "cell_type": "code",
   "execution_count": 2588,
   "id": "fb2ca9bf-cf47-45ca-bfd7-599dc72bee5b",
   "metadata": {},
   "outputs": [],
   "source": [
    "# Engineer a feature to turn subreddit into a 1/0 column where 1 indicates aliens and 0 indicates space\n",
    "\n",
    "df_combine['is_aliens'] = [1 if i == 'aliens' else 0 for i in df_combine['subreddit']]"
   ]
  },
  {
   "cell_type": "code",
   "execution_count": 2589,
   "id": "443ad5c1-7881-4994-b527-876dbeffe9e7",
   "metadata": {},
   "outputs": [
    {
     "data": {
      "text/plain": [
       "1    0.507006\n",
       "0    0.492994\n",
       "Name: is_aliens, dtype: float64"
      ]
     },
     "execution_count": 2589,
     "metadata": {},
     "output_type": "execute_result"
    }
   ],
   "source": [
    "# Check for unbalanced classes\n",
    "\n",
    "df_combine['is_aliens'].value_counts(normalize = True)"
   ]
  },
  {
   "cell_type": "code",
   "execution_count": 2590,
   "id": "0a9edb52-7b12-4dfd-a80d-ea326d7e06f8",
   "metadata": {},
   "outputs": [
    {
     "data": {
      "image/png": "[encoded data removed]",
      "text/plain": [
       "<Figure size 432x288 with 1 Axes>"
      ]
     },
     "metadata": {
      "needs_background": "light"
     },
     "output_type": "display_data"
    }
   ],
   "source": [
    "# Plot countplot of is_aliens column\n",
    "\n",
    "sns.countplot(data = df_combine, x = 'is_aliens')\n",
    "\n",
    "plt.title('Countplot of Target')\n",
    "plt.xlabel('Target')\n",
    "plt.ylabel('Counts')\n",
    "plt.show()"
   ]
  },
  {
   "cell_type": "markdown",
   "id": "e05e395d-86e7-4689-bc20-d660555252e6",
   "metadata": {},
   "source": [
    "<b>Observation</b>: \n",
    "\n",
    "1. The data are quite well balanced with almost equal number of 0s and 1s. Standard metrics such as accuracy can be used to evaluate model performance."
   ]
  },
  {
   "cell_type": "markdown",
   "id": "239ee9ac-c0a9-4f97-af48-70ee9f4a32e4",
   "metadata": {},
   "source": [
    "## 4. Model Preparation\n",
    "\n",
    "- <b>Train Test Split</b>\n",
    "\n",
    "- <b>Define Function</b>\n",
    "\n",
    "- <b>Modelling</b>\n",
    "    - Logistic Regression\n",
    "        - CountVectorizer\n",
    "        - TF-IDF Vectorizer\n",
    "    - Multinomial Naive Bayes\n",
    "        - CountVectorizer\n",
    "        - TF-IDF Vectorizer\n",
    "    - Random Forests\n",
    "        - CountVectorizer\n",
    "        - TF-IDF Vectorizer\n",
    "\n",
    "\n",
    "- <b>Model Hyperparameter Tuning</b>\n",
    "\n",
    "    - Vectorizer Hyperparameters\n",
    "    - Model Hyperparameters\n",
    "    - Logistic Regression\n",
    "        - CountVectorizer\n",
    "        - TF-IDF Vectorizer\n",
    "    - Multinomial Naive Bayes\n",
    "        - CountVectorizer\n",
    "        - TF-IDF Vectorizer\n",
    "     - Plot AUC-ROC Curve"
   ]
  },
  {
   "cell_type": "markdown",
   "id": "8751aefe-a894-4876-a833-c766fe28de0f",
   "metadata": {},
   "source": [
    "### 4.1 Train Test Split"
   ]
  },
  {
   "cell_type": "code",
   "execution_count": 2591,
   "id": "7157cba7-621c-4d47-b374-c4c0e3393a45",
   "metadata": {},
   "outputs": [],
   "source": [
    "# Create our feature matrix (X) and target vector (y) from combine dataframe\n",
    "\n",
    "X = df_combine['content_token_lemme']\n",
    "y = df_combine['is_aliens']"
   ]
  },
  {
   "cell_type": "code",
   "execution_count": 2592,
   "id": "73d0ac69-be5d-4cc3-9ef3-fc13e50a7dd3",
   "metadata": {},
   "outputs": [],
   "source": [
    "# Perform a split of our X and y \n",
    "\n",
    "X_train, X_test, y_train, y_test = train_test_split(X, y, train_size = 0.7, random_state = 42, stratify = y)"
   ]
  },
  {
   "cell_type": "code",
   "execution_count": 2593,
   "id": "2fbb5a22-3bf7-40ba-9e1b-d2145ff7ebd6",
   "metadata": {},
   "outputs": [
    {
     "data": {
      "text/plain": [
       "1    0.507431\n",
       "0    0.492569\n",
       "Name: is_aliens, dtype: float64"
      ]
     },
     "execution_count": 2593,
     "metadata": {},
     "output_type": "execute_result"
    }
   ],
   "source": [
    "# Baseline\n",
    "\n",
    "y_test.value_counts(normalize = True)"
   ]
  },
  {
   "cell_type": "markdown",
   "id": "559bf8dc-e602-4b6a-aaac-1d884ca27d40",
   "metadata": {},
   "source": [
    "<b>Observation</b>: \n",
    "\n",
    "1. \n",
    "2. In this case, predicting everything as the majority class will give us a 50.7% accuracy which will be our baseline accuracy in order to evaluate if our model is better than a null model."
   ]
  },
  {
   "cell_type": "code",
   "execution_count": null,
   "id": "fd414930-a388-4986-9396-69491aa026df",
   "metadata": {},
   "outputs": [],
   "source": [
    "# Print English stopwords\n",
    "\n",
    "stopwords = stopwords.words('english')\n",
    "\n",
    "print(stopwords)"
   ]
  },
  {
   "cell_type": "markdown",
   "id": "8ac452ca-518b-4caf-84df-45cf4a906cae",
   "metadata": {},
   "source": [
    "### 4.2 Define Function"
   ]
  },
  {
   "cell_type": "code",
   "execution_count": 2594,
   "id": "de36e8f6-9653-461c-a47c-6babe4714499",
   "metadata": {},
   "outputs": [],
   "source": [
    "# Instantiate vectorizers\n",
    "\n",
    "vectorizers = {'cvec': CountVectorizer(stop_words = 'english'),\n",
    "               'tvec': TfidfVectorizer(stop_words = 'english')}"
   ]
  },
  {
   "cell_type": "code",
   "execution_count": 2595,
   "id": "23d9f7b7-5198-450f-bdad-efaffbad53bd",
   "metadata": {},
   "outputs": [],
   "source": [
    "# Instiantiate models\n",
    "\n",
    "models = {'logreg': LogisticRegression(random_state=42),\n",
    "          'nb': MultinomialNB(),\n",
    "          'rf': RandomForestClassifier(random_state=42)}"
   ]
  },
  {
   "cell_type": "code",
   "execution_count": 2596,
   "id": "e926381f-5a12-4377-b660-f983cac3bf67",
   "metadata": {},
   "outputs": [],
   "source": [
    "# Create a PrettyTable to store overall summary of model performance without hyperparameter tuning\n",
    "\n",
    "summary = PrettyTable(['Model', 'Vectorizer', 'Train Score', 'Test Score', 'ROC', 'Precision', 'Recall', 'F1_score'])\n",
    "\n",
    "\n",
    "# Create a PrettyTable to store overall summary of model performance with hyperparameter tuning\n",
    "\n",
    "summary_tuning = PrettyTable(['Model', 'Vectorizer', 'Train Score', 'Test Score', 'ROC', 'Precision', 'Recall', 'F1_score'])"
   ]
  },
  {
   "cell_type": "code",
   "execution_count": 2597,
   "id": "184026ad-6301-4883-9c4f-20fa107414ce",
   "metadata": {},
   "outputs": [],
   "source": [
    "# Define a function to run model -- input vectorizer and model\n",
    "\n",
    "def run_model(vec, model, title, vec_params = {}, model_params = {}, grid_search = False):\n",
    "    \n",
    "    # Create a PrettyTable for individual model\n",
    "    indv = PrettyTable(['Model', 'Vectorizer', 'Train Score', 'Test Score', 'ROC', 'Precision', 'Recall', 'F1_score'])\n",
    "    \n",
    "    # Set up pipeline with two stages: \n",
    "    # 1. Vectorizer (transformer)\n",
    "    # 2. Model (estimator)\n",
    "    pipe = Pipeline([(vec, vectorizers[vec]),\n",
    "                     (model, models[model])\n",
    "                    ])\n",
    "    \n",
    "    if grid_search == True:\n",
    "        model_gs = GridSearchCV(pipe, param_grid = {**vec_params, **model_params}, cv = 5, verbose = 1, n_jobs = -1)\n",
    "        model_gs.fit(X_train, y_train)\n",
    "        pipe = model_gs\n",
    "        \n",
    "    else:\n",
    "        pipe.fit(X_train, y_train)\n",
    "        \n",
    "    # Get accuracy score for train & test data\n",
    "    train_score = round(pipe.score(X_train, y_train),4)\n",
    "    test_score  = round(pipe.score(X_test, y_test),4)\n",
    "    \n",
    "    # Get predictions\n",
    "    y_preds = pipe.predict(X_test)\n",
    "    \n",
    "    # Get ROC, Precision, Recall & F1_score\n",
    "    roc =  round(roc_auc_score(y_test, y_preds),4)\n",
    "    precision =  round(precision_score(y_test, y_preds),4)\n",
    "    recall =  round(recall_score(y_test, y_preds),4)\n",
    "    f_score =  round(f1_score(y_test, y_preds),4)\n",
    "    \n",
    "    # Add the model performance to indv PrettyTable\n",
    "    indv.add_row([models[model], vectorizers[vec], train_score, test_score, roc, precision, recall, f_score])\n",
    "    display(indv)\n",
    "    \n",
    "    # Add the model performance to overall summary PrettyTable\n",
    "    if grid_search == True:\n",
    "        summary_tuning.add_row([models[model], vectorizers[vec], train_score, test_score, roc, precision, recall, f_score])\n",
    "        print(\"------------------------------------------------------\")\n",
    "        print('\\033[1m'+'\\033[4m'+\"Best Hyperparameter\"+'\\033[0m'+'\\033[0m')\n",
    "        display(pipe.best_params_)\n",
    "    \n",
    "    else:\n",
    "        summary.add_row([models[model], vectorizers[vec], train_score, test_score, roc, precision, recall, f_score])\n",
    "        \n",
    "    # View confusion matrix \n",
    "    print(\"------------------------------------------------------\")\n",
    "    print('\\033[1m'+'\\033[4m'+\"\\nConfusion Matrix\"+'\\033[0m'+'\\033[0m')\n",
    "    plot_confusion_matrix(pipe, X_test, y_test, cmap = 'Blues', values_format = 'd')\n",
    "    plt.title(title)\n",
    "    plt.show()\n",
    "    \n",
    "    tn, fp, fn, tp = confusion_matrix(y_test, y_preds).ravel()\n",
    "    print(f\"\\nTrue Negatives: {tn}\")\n",
    "    print(f\"False Positives: {fp}\")\n",
    "    print(f\"False Negatives: {fn}\")\n",
    "    print(f\"True Positives: {tp}\\n\")\n",
    "    print(\"------------------------------------------------------\")\n",
    "    print('\\033[1m'+'\\033[4m'+\"Classification Report\"+'\\033[0m'+'\\033[0m')\n",
    "    print(classification_report(y_test, y_preds))\n",
    "\n",
    "    return pipe"
   ]
  },
  {
   "cell_type": "markdown",
   "id": "22a0a4bd-756e-45d9-818c-f2c1cad7dbbb",
   "metadata": {},
   "source": [
    "### 4.3 Modelling"
   ]
  },
  {
   "cell_type": "markdown",
   "id": "a384b953-1c3e-42ec-bbe7-9c554ad49a58",
   "metadata": {},
   "source": [
    "#### 4.3.1 Logistic Regression\n",
    "\n",
    "**Logistic Regression** is considered a standard approach for binary classification. Logistic Regression uses an equation as the representation, very much like Linear Regression. Input values (X) are combined linearly using weights or coefficient values to predict an output value (y). A key difference from Linear Regression is that the output value being modeled is a binary values (0 or 1) rather than a numeric value. It is easier to implement, interpret, and very efficient to train. The model coefficients can be interpreted as indicators of feature importance.\n",
    "\n",
    "\n",
    "The major limitation of Logistic Regression is the assumption of linearity between the dependent variable and the independent variables. Non-linear problems can’t be solved with Logistic Regression. Also, if the number of observations is lesser than the number of features, it may lead to overfitting."
   ]
  },
  {
   "cell_type": "markdown",
   "id": "297f1b98-12f6-4ee8-a541-f875a99d837e",
   "metadata": {},
   "source": [
    "##### a) Logistic Regression with CountVectorizer"
   ]
  },
  {
   "cell_type": "code",
   "execution_count": 2598,
   "id": "21a81159-ee8a-4890-b950-766d011512ca",
   "metadata": {},
   "outputs": [
    {
     "data": {
      "text/html": [
       "<table>\n",
       "    <thead>\n",
       "        <tr>\n",
       "            <th>Model</th>\n",
       "            <th>Vectorizer</th>\n",
       "            <th>Train Score</th>\n",
       "            <th>Test Score</th>\n",
       "            <th>ROC</th>\n",
       "            <th>Precision</th>\n",
       "            <th>Recall</th>\n",
       "            <th>F1_score</th>\n",
       "        </tr>\n",
       "    </thead>\n",
       "    <tbody>\n",
       "        <tr>\n",
       "            <td>LogisticRegression(random_state=42)</td>\n",
       "            <td>CountVectorizer(stop_words=&#x27;english&#x27;)</td>\n",
       "            <td>0.9864</td>\n",
       "            <td>0.8684</td>\n",
       "            <td>0.8688</td>\n",
       "            <td>0.8969</td>\n",
       "            <td>0.8368</td>\n",
       "            <td>0.8658</td>\n",
       "        </tr>\n",
       "    </tbody>\n",
       "</table>"
      ],
      "text/plain": [
       "+-------------------------------------+---------------------------------------+-------------+------------+--------+-----------+--------+----------+\n",
       "|                Model                |               Vectorizer              | Train Score | Test Score |  ROC   | Precision | Recall | F1_score |\n",
       "+-------------------------------------+---------------------------------------+-------------+------------+--------+-----------+--------+----------+\n",
       "| LogisticRegression(random_state=42) | CountVectorizer(stop_words='english') |    0.9864   |   0.8684   | 0.8688 |   0.8969  | 0.8368 |  0.8658  |\n",
       "+-------------------------------------+---------------------------------------+-------------+------------+--------+-----------+--------+----------+"
      ]
     },
     "metadata": {},
     "output_type": "display_data"
    },
    {
     "name": "stdout",
     "output_type": "stream",
     "text": [
      "------------------------------------------------------\n",
      "\u001b[1m\u001b[4m\n",
      "Confusion Matrix\u001b[0m\u001b[0m\n"
     ]
    },
    {
     "data": {
      "image/png": "[encoded data removed]",
      "text/plain": [
       "<Figure size 432x288 with 2 Axes>"
      ]
     },
     "metadata": {
      "needs_background": "light"
     },
     "output_type": "display_data"
    },
    {
     "name": "stdout",
     "output_type": "stream",
     "text": [
      "\n",
      "True Negatives: 209\n",
      "False Positives: 23\n",
      "False Negatives: 39\n",
      "True Positives: 200\n",
      "\n",
      "------------------------------------------------------\n",
      "\u001b[1m\u001b[4mClassification Report\u001b[0m\u001b[0m\n",
      "              precision    recall  f1-score   support\n",
      "\n",
      "           0       0.84      0.90      0.87       232\n",
      "           1       0.90      0.84      0.87       239\n",
      "\n",
      "    accuracy                           0.87       471\n",
      "   macro avg       0.87      0.87      0.87       471\n",
      "weighted avg       0.87      0.87      0.87       471\n",
      "\n"
     ]
    },
    {
     "data": {
      "text/plain": [
       "Pipeline(steps=[('cvec', CountVectorizer(stop_words='english')),\n",
       "                ('logreg', LogisticRegression(random_state=42))])"
      ]
     },
     "execution_count": 2598,
     "metadata": {},
     "output_type": "execute_result"
    }
   ],
   "source": [
    "# Run the model - Logistic Regression with CountVectorizer\n",
    "\n",
    "run_model('cvec', 'logreg', 'Logistic Regression with CountVectorizer')"
   ]
  },
  {
   "cell_type": "markdown",
   "id": "0cefcb3a-0e65-4359-9c2e-7070dc52ea5c",
   "metadata": {},
   "source": [
    " "
   ]
  },
  {
   "cell_type": "markdown",
   "id": "0bdc986a-d5ae-4a01-bd4c-7be1c303007d",
   "metadata": {},
   "source": [
    "##### b) Logistic Regression with TF-IDF Vectorizer"
   ]
  },
  {
   "cell_type": "code",
   "execution_count": 2599,
   "id": "52d40d09-815c-4a76-a46b-6e5e5a17aaa4",
   "metadata": {},
   "outputs": [
    {
     "data": {
      "text/html": [
       "<table>\n",
       "    <thead>\n",
       "        <tr>\n",
       "            <th>Model</th>\n",
       "            <th>Vectorizer</th>\n",
       "            <th>Train Score</th>\n",
       "            <th>Test Score</th>\n",
       "            <th>ROC</th>\n",
       "            <th>Precision</th>\n",
       "            <th>Recall</th>\n",
       "            <th>F1_score</th>\n",
       "        </tr>\n",
       "    </thead>\n",
       "    <tbody>\n",
       "        <tr>\n",
       "            <td>LogisticRegression(random_state=42)</td>\n",
       "            <td>TfidfVectorizer(stop_words=&#x27;english&#x27;)</td>\n",
       "            <td>0.9736</td>\n",
       "            <td>0.8705</td>\n",
       "            <td>0.8705</td>\n",
       "            <td>0.8739</td>\n",
       "            <td>0.8703</td>\n",
       "            <td>0.8721</td>\n",
       "        </tr>\n",
       "    </tbody>\n",
       "</table>"
      ],
      "text/plain": [
       "+-------------------------------------+---------------------------------------+-------------+------------+--------+-----------+--------+----------+\n",
       "|                Model                |               Vectorizer              | Train Score | Test Score |  ROC   | Precision | Recall | F1_score |\n",
       "+-------------------------------------+---------------------------------------+-------------+------------+--------+-----------+--------+----------+\n",
       "| LogisticRegression(random_state=42) | TfidfVectorizer(stop_words='english') |    0.9736   |   0.8705   | 0.8705 |   0.8739  | 0.8703 |  0.8721  |\n",
       "+-------------------------------------+---------------------------------------+-------------+------------+--------+-----------+--------+----------+"
      ]
     },
     "metadata": {},
     "output_type": "display_data"
    },
    {
     "name": "stdout",
     "output_type": "stream",
     "text": [
      "------------------------------------------------------\n",
      "\u001b[1m\u001b[4m\n",
      "Confusion Matrix\u001b[0m\u001b[0m\n"
     ]
    },
    {
     "data": {
      "image/png": "[encoded data removed]",
      "text/plain": [
       "<Figure size 432x288 with 2 Axes>"
      ]
     },
     "metadata": {
      "needs_background": "light"
     },
     "output_type": "display_data"
    },
    {
     "name": "stdout",
     "output_type": "stream",
     "text": [
      "\n",
      "True Negatives: 202\n",
      "False Positives: 30\n",
      "False Negatives: 31\n",
      "True Positives: 208\n",
      "\n",
      "------------------------------------------------------\n",
      "\u001b[1m\u001b[4mClassification Report\u001b[0m\u001b[0m\n",
      "              precision    recall  f1-score   support\n",
      "\n",
      "           0       0.87      0.87      0.87       232\n",
      "           1       0.87      0.87      0.87       239\n",
      "\n",
      "    accuracy                           0.87       471\n",
      "   macro avg       0.87      0.87      0.87       471\n",
      "weighted avg       0.87      0.87      0.87       471\n",
      "\n"
     ]
    },
    {
     "data": {
      "text/plain": [
       "Pipeline(steps=[('tvec', TfidfVectorizer(stop_words='english')),\n",
       "                ('logreg', LogisticRegression(random_state=42))])"
      ]
     },
     "execution_count": 2599,
     "metadata": {},
     "output_type": "execute_result"
    }
   ],
   "source": [
    "# Run the model - Logistic Regression with TF-IDF Vectorizer\n",
    "\n",
    "run_model('tvec', 'logreg', 'Logistic Regression with TF-IDF Vectorizer')"
   ]
  },
  {
   "cell_type": "markdown",
   "id": "8ea5eb2b-ae31-42e4-9730-9a0cd2f5120c",
   "metadata": {},
   "source": [
    " "
   ]
  },
  {
   "cell_type": "markdown",
   "id": "60b2e4d4-b641-4e7f-b165-c110565d19e8",
   "metadata": {},
   "source": [
    "<b>Observation<b/> : \n",
    "    \n",
    "1. Based on the above information, I conclude that both **Logistic Regression with CountVectorizer** and **Logistic Regression with TF-IDF Vectorizer** model is slightly overfit to the data but is not a bad model.\n",
    "2. Here, True Negatives(TN) are <mark style=\"background-color: lightgrey\">r/aliens</mark> posts that were correctly classified by our model. True Positives(TP) are <mark style=\"background-color: lightgrey\">r/space</mark> posts that were correctly classified by our model.\n",
    "3. Based on the R2 accuracy, Logistic Regression with TF-IDF Vectorizer model R2 accuracy is higher than Logistic Regression with CountVectorizer model. Logistic Regression with CountVectorizer model is able to accurately predict 87.4% of the the test data and 98.2% of the train data based on our text features whereas Logistic Regression with TF-IDF Vectorizer model is able to accurately predict 89.3% of the the test data and 97.5% of the train data based on our text features. Logistic Regression with TF-IDF Vectorizer model is quite good and less overfit.\n",
    "4. F1-score is the weighted average of Precision and Recall. F1-score takes both false positives and false negatives into account. High F1-score indicate a good Precision and a good Recall score. Based on F1-score, Logistic Regression with TF-IDF Vectorizer is higher than Logistic Regression with CountVectorizer model.\n",
    "5. CountVectorizer is a way to convert a given set of strings into a frequency representation. TF-IDF Vectorizer means Term Frequency - Inverse Document Frequency that is based on the frequency of a word in the corpus but it also provides a numerical representation of how important a word is for statistical analysis. TF-IDF Vectorizer is better than CountVectorizer. "
   ]
  },
  {
   "cell_type": "markdown",
   "id": "0b4aeffd-a362-4a3a-87be-adcd437b7af2",
   "metadata": {},
   "source": [
    "#### 4.3.2 Multinomial Naive Bayes"
   ]
  },
  {
   "cell_type": "markdown",
   "id": "001714b5-23c4-4a60-9fbb-8413dabca4a5",
   "metadata": {},
   "source": [
    "**Naive Bayes** is a learning algorithm frequently used in text classification problems. Naive Bayes algorithm is divided into threre types namely **Bernoulli**, **Multinomial** and **Gaussian Naive Bayes**. Bernoulli is a binary algorithm used when the feature is present or not. On the other hand, Multinomial Naive Bayes consider a feature vector where a given term represents the number of times it appears or very often i.e. frequency. At last Gaussian is based on continuous distribution.\n",
    "\n",
    "Multinomial Naive Bayes is a suitable algorithm to use in our analysis. Multinomial Naive Bayes has low computation cost and work effectively with large datasets. Also, it is easy to implement, fast and accurate method of prediction.\n",
    "\n",
    "The major limitation of Multinomial Naive Bayes is the assumption of independent predictors. This algorithm assumes that all the attributes are mutually independent. In real life, it is almost impossible that we get a set of predictors which are completely independent. Also, it is only used for textual data classification and cannot be used to predict numeric values."
   ]
  },
  {
   "cell_type": "markdown",
   "id": "5d55d24a-4c34-4b44-a742-7e2417e53370",
   "metadata": {},
   "source": [
    "##### a) Multinomial Naive Bayes with CountVectorizer"
   ]
  },
  {
   "cell_type": "code",
   "execution_count": 2600,
   "id": "9c3d0efb-17c9-4ab9-ab19-fe17d4162648",
   "metadata": {},
   "outputs": [
    {
     "data": {
      "text/html": [
       "<table>\n",
       "    <thead>\n",
       "        <tr>\n",
       "            <th>Model</th>\n",
       "            <th>Vectorizer</th>\n",
       "            <th>Train Score</th>\n",
       "            <th>Test Score</th>\n",
       "            <th>ROC</th>\n",
       "            <th>Precision</th>\n",
       "            <th>Recall</th>\n",
       "            <th>F1_score</th>\n",
       "        </tr>\n",
       "    </thead>\n",
       "    <tbody>\n",
       "        <tr>\n",
       "            <td>MultinomialNB()</td>\n",
       "            <td>CountVectorizer(stop_words=&#x27;english&#x27;)</td>\n",
       "            <td>0.9581</td>\n",
       "            <td>0.8514</td>\n",
       "            <td>0.8508</td>\n",
       "            <td>0.8314</td>\n",
       "            <td>0.887</td>\n",
       "            <td>0.8583</td>\n",
       "        </tr>\n",
       "    </tbody>\n",
       "</table>"
      ],
      "text/plain": [
       "+-----------------+---------------------------------------+-------------+------------+--------+-----------+--------+----------+\n",
       "|      Model      |               Vectorizer              | Train Score | Test Score |  ROC   | Precision | Recall | F1_score |\n",
       "+-----------------+---------------------------------------+-------------+------------+--------+-----------+--------+----------+\n",
       "| MultinomialNB() | CountVectorizer(stop_words='english') |    0.9581   |   0.8514   | 0.8508 |   0.8314  | 0.887  |  0.8583  |\n",
       "+-----------------+---------------------------------------+-------------+------------+--------+-----------+--------+----------+"
      ]
     },
     "metadata": {},
     "output_type": "display_data"
    },
    {
     "name": "stdout",
     "output_type": "stream",
     "text": [
      "------------------------------------------------------\n",
      "\u001b[1m\u001b[4m\n",
      "Confusion Matrix\u001b[0m\u001b[0m\n"
     ]
    },
    {
     "data": {
      "image/png": "[encoded data removed]",
      "text/plain": [
       "<Figure size 432x288 with 2 Axes>"
      ]
     },
     "metadata": {
      "needs_background": "light"
     },
     "output_type": "display_data"
    },
    {
     "name": "stdout",
     "output_type": "stream",
     "text": [
      "\n",
      "True Negatives: 189\n",
      "False Positives: 43\n",
      "False Negatives: 27\n",
      "True Positives: 212\n",
      "\n",
      "------------------------------------------------------\n",
      "\u001b[1m\u001b[4mClassification Report\u001b[0m\u001b[0m\n",
      "              precision    recall  f1-score   support\n",
      "\n",
      "           0       0.88      0.81      0.84       232\n",
      "           1       0.83      0.89      0.86       239\n",
      "\n",
      "    accuracy                           0.85       471\n",
      "   macro avg       0.85      0.85      0.85       471\n",
      "weighted avg       0.85      0.85      0.85       471\n",
      "\n"
     ]
    },
    {
     "data": {
      "text/plain": [
       "Pipeline(steps=[('cvec', CountVectorizer(stop_words='english')),\n",
       "                ('nb', MultinomialNB())])"
      ]
     },
     "execution_count": 2600,
     "metadata": {},
     "output_type": "execute_result"
    }
   ],
   "source": [
    "# Run the model - Multinomial Naive Bayes with CountVectorizer\n",
    "\n",
    "run_model('cvec', 'nb', 'Multinomial Naive Bayes with CountVectorizer')"
   ]
  },
  {
   "cell_type": "markdown",
   "id": "0670478d-341a-428e-a293-9e4745b40c35",
   "metadata": {},
   "source": [
    " "
   ]
  },
  {
   "cell_type": "markdown",
   "id": "dcafd8d7-21c1-4415-855d-b68b79425562",
   "metadata": {},
   "source": [
    "##### b) Multinomial Naive Bayes with TF-IDF Vectorizer"
   ]
  },
  {
   "cell_type": "code",
   "execution_count": 2601,
   "id": "8be83b3c-a247-4186-9088-6ba351f94227",
   "metadata": {},
   "outputs": [
    {
     "data": {
      "text/html": [
       "<table>\n",
       "    <thead>\n",
       "        <tr>\n",
       "            <th>Model</th>\n",
       "            <th>Vectorizer</th>\n",
       "            <th>Train Score</th>\n",
       "            <th>Test Score</th>\n",
       "            <th>ROC</th>\n",
       "            <th>Precision</th>\n",
       "            <th>Recall</th>\n",
       "            <th>F1_score</th>\n",
       "        </tr>\n",
       "    </thead>\n",
       "    <tbody>\n",
       "        <tr>\n",
       "            <td>MultinomialNB()</td>\n",
       "            <td>TfidfVectorizer(stop_words=&#x27;english&#x27;)</td>\n",
       "            <td>0.9727</td>\n",
       "            <td>0.8535</td>\n",
       "            <td>0.8529</td>\n",
       "            <td>0.832</td>\n",
       "            <td>0.8912</td>\n",
       "            <td>0.8606</td>\n",
       "        </tr>\n",
       "    </tbody>\n",
       "</table>"
      ],
      "text/plain": [
       "+-----------------+---------------------------------------+-------------+------------+--------+-----------+--------+----------+\n",
       "|      Model      |               Vectorizer              | Train Score | Test Score |  ROC   | Precision | Recall | F1_score |\n",
       "+-----------------+---------------------------------------+-------------+------------+--------+-----------+--------+----------+\n",
       "| MultinomialNB() | TfidfVectorizer(stop_words='english') |    0.9727   |   0.8535   | 0.8529 |   0.832   | 0.8912 |  0.8606  |\n",
       "+-----------------+---------------------------------------+-------------+------------+--------+-----------+--------+----------+"
      ]
     },
     "metadata": {},
     "output_type": "display_data"
    },
    {
     "name": "stdout",
     "output_type": "stream",
     "text": [
      "------------------------------------------------------\n",
      "\u001b[1m\u001b[4m\n",
      "Confusion Matrix\u001b[0m\u001b[0m\n"
     ]
    },
    {
     "data": {
      "image/png": "[encoded data removed]",
      "text/plain": [
       "<Figure size 432x288 with 2 Axes>"
      ]
     },
     "metadata": {
      "needs_background": "light"
     },
     "output_type": "display_data"
    },
    {
     "name": "stdout",
     "output_type": "stream",
     "text": [
      "\n",
      "True Negatives: 189\n",
      "False Positives: 43\n",
      "False Negatives: 26\n",
      "True Positives: 213\n",
      "\n",
      "------------------------------------------------------\n",
      "\u001b[1m\u001b[4mClassification Report\u001b[0m\u001b[0m\n",
      "              precision    recall  f1-score   support\n",
      "\n",
      "           0       0.88      0.81      0.85       232\n",
      "           1       0.83      0.89      0.86       239\n",
      "\n",
      "    accuracy                           0.85       471\n",
      "   macro avg       0.86      0.85      0.85       471\n",
      "weighted avg       0.86      0.85      0.85       471\n",
      "\n"
     ]
    },
    {
     "data": {
      "text/plain": [
       "Pipeline(steps=[('tvec', TfidfVectorizer(stop_words='english')),\n",
       "                ('nb', MultinomialNB())])"
      ]
     },
     "execution_count": 2601,
     "metadata": {},
     "output_type": "execute_result"
    }
   ],
   "source": [
    "# Run the model - Multinomial Naive Bayes with TF-IDF Vectorizer\n",
    "\n",
    "run_model('tvec', 'nb', 'Multinomial Naive Bayes with TF-IDF Vectorizer')"
   ]
  },
  {
   "cell_type": "markdown",
   "id": "18e805fc-d34f-4eb1-a8eb-22e9d560a78c",
   "metadata": {},
   "source": [
    "<b>Observation<b/> : \n",
    "    \n",
    "1. Based on the above information, I conclude that both **Multinomial Naive Bayes with CountVectorizer** and **Multinomial Naive Bayes with TF-IDF Vectorizer** model is slightly overfit to the data but is not a bad model..\n",
    "2. Based on the R2 accuracy, Multinomial Naive Bayes with CountVectorizer model and Multinomial Naive Bayes with TF-IDF Vectorizer model is only a marginal difference with Multinomial Naive Bayes with CountVectorizer model lesser overfit. Multinomial Naive Bayes with CountVectorizer model is able to accurately predict 87.7% of the the test data and 95.5% of the train data based on our text features. However, Multinomial Naive Bayes with TF-IDF Vectorizer model is able to accurately predict only 88.3% of the the test data, given the fact that it able to accurately predict 97.1% of the train data based on our text features. Both model is good and acceptable.\n",
    "4. Based on F1-score, Multinomial Naive Bayes with TF-IDF Vectorizer is only slightly higher than Multinomial Naive Bayes with CountVectorizer."
   ]
  },
  {
   "cell_type": "markdown",
   "id": "082cb89b-cad5-4f5b-97b8-8296fd607696",
   "metadata": {},
   "source": [
    "#### 4.3.3 Random Forests"
   ]
  },
  {
   "cell_type": "markdown",
   "id": "3309023c-740b-4fae-b135-a37f50c7c6b6",
   "metadata": {},
   "source": [
    "**Random Forests** is a classification algorithm consisting of many decisions trees. It uses bagging and feature randomness when building each individual tree to try to create an uncorrelated forest of trees whose prediction by committee is more accurate than that of any individual tree. Random Forests reduces overfitting in decision trees and helps to improve the accuracy. Also, it is flexible to both classification and regression problems and works well with both categorical and continuous values. \n",
    "\n",
    "The major limitation of Random Forests is it requires much computational power as well as resources as it builds numerous trees to combine their outputs. It also requires much time for training as it combines a lot of decision trees to determine the class. Last but not least, due to the ensemble of decision trees, it suffers interpretability and fails to determine the significance of each variable."
   ]
  },
  {
   "cell_type": "markdown",
   "id": "dbd0b009-65ea-45ce-87e7-90cddb36c6f8",
   "metadata": {},
   "source": [
    "##### a) Random Forests with CountVectorizer"
   ]
  },
  {
   "cell_type": "code",
   "execution_count": 2602,
   "id": "d45a4536-1782-466f-91e5-1c77455d5cd8",
   "metadata": {},
   "outputs": [
    {
     "data": {
      "text/html": [
       "<table>\n",
       "    <thead>\n",
       "        <tr>\n",
       "            <th>Model</th>\n",
       "            <th>Vectorizer</th>\n",
       "            <th>Train Score</th>\n",
       "            <th>Test Score</th>\n",
       "            <th>ROC</th>\n",
       "            <th>Precision</th>\n",
       "            <th>Recall</th>\n",
       "            <th>F1_score</th>\n",
       "        </tr>\n",
       "    </thead>\n",
       "    <tbody>\n",
       "        <tr>\n",
       "            <td>RandomForestClassifier(random_state=42)</td>\n",
       "            <td>CountVectorizer(stop_words=&#x27;english&#x27;)</td>\n",
       "            <td>1.0</td>\n",
       "            <td>0.8259</td>\n",
       "            <td>0.8247</td>\n",
       "            <td>0.7834</td>\n",
       "            <td>0.9079</td>\n",
       "            <td>0.8411</td>\n",
       "        </tr>\n",
       "    </tbody>\n",
       "</table>"
      ],
      "text/plain": [
       "+-----------------------------------------+---------------------------------------+-------------+------------+--------+-----------+--------+----------+\n",
       "|                  Model                  |               Vectorizer              | Train Score | Test Score |  ROC   | Precision | Recall | F1_score |\n",
       "+-----------------------------------------+---------------------------------------+-------------+------------+--------+-----------+--------+----------+\n",
       "| RandomForestClassifier(random_state=42) | CountVectorizer(stop_words='english') |     1.0     |   0.8259   | 0.8247 |   0.7834  | 0.9079 |  0.8411  |\n",
       "+-----------------------------------------+---------------------------------------+-------------+------------+--------+-----------+--------+----------+"
      ]
     },
     "metadata": {},
     "output_type": "display_data"
    },
    {
     "name": "stdout",
     "output_type": "stream",
     "text": [
      "------------------------------------------------------\n",
      "\u001b[1m\u001b[4m\n",
      "Confusion Matrix\u001b[0m\u001b[0m\n"
     ]
    },
    {
     "data": {
      "image/png": "[encoded data removed]",
      "text/plain": [
       "<Figure size 432x288 with 2 Axes>"
      ]
     },
     "metadata": {
      "needs_background": "light"
     },
     "output_type": "display_data"
    },
    {
     "name": "stdout",
     "output_type": "stream",
     "text": [
      "\n",
      "True Negatives: 172\n",
      "False Positives: 60\n",
      "False Negatives: 22\n",
      "True Positives: 217\n",
      "\n",
      "------------------------------------------------------\n",
      "\u001b[1m\u001b[4mClassification Report\u001b[0m\u001b[0m\n",
      "              precision    recall  f1-score   support\n",
      "\n",
      "           0       0.89      0.74      0.81       232\n",
      "           1       0.78      0.91      0.84       239\n",
      "\n",
      "    accuracy                           0.83       471\n",
      "   macro avg       0.83      0.82      0.82       471\n",
      "weighted avg       0.83      0.83      0.82       471\n",
      "\n"
     ]
    },
    {
     "data": {
      "text/plain": [
       "Pipeline(steps=[('cvec', CountVectorizer(stop_words='english')),\n",
       "                ('rf', RandomForestClassifier(random_state=42))])"
      ]
     },
     "execution_count": 2602,
     "metadata": {},
     "output_type": "execute_result"
    }
   ],
   "source": [
    "# Run the model - Random Forests with CountVectorizer\n",
    "\n",
    "run_model('cvec', 'rf', 'Random Forests with CountVectorizer')"
   ]
  },
  {
   "cell_type": "markdown",
   "id": "3fcf949a-f3a7-4a3b-b967-87fb052f34a3",
   "metadata": {},
   "source": [
    " "
   ]
  },
  {
   "cell_type": "markdown",
   "id": "0871353e-4c06-4bc3-ba2a-8fb3283fe3ba",
   "metadata": {},
   "source": [
    "##### b) Random Forests with TF-IDF Vectorizer"
   ]
  },
  {
   "cell_type": "code",
   "execution_count": 2603,
   "id": "cdd8dada-f9c5-4310-a866-5eae3e529aa9",
   "metadata": {},
   "outputs": [
    {
     "data": {
      "text/html": [
       "<table>\n",
       "    <thead>\n",
       "        <tr>\n",
       "            <th>Model</th>\n",
       "            <th>Vectorizer</th>\n",
       "            <th>Train Score</th>\n",
       "            <th>Test Score</th>\n",
       "            <th>ROC</th>\n",
       "            <th>Precision</th>\n",
       "            <th>Recall</th>\n",
       "            <th>F1_score</th>\n",
       "        </tr>\n",
       "    </thead>\n",
       "    <tbody>\n",
       "        <tr>\n",
       "            <td>RandomForestClassifier(random_state=42)</td>\n",
       "            <td>TfidfVectorizer(stop_words=&#x27;english&#x27;)</td>\n",
       "            <td>1.0</td>\n",
       "            <td>0.8195</td>\n",
       "            <td>0.8183</td>\n",
       "            <td>0.777</td>\n",
       "            <td>0.9038</td>\n",
       "            <td>0.8356</td>\n",
       "        </tr>\n",
       "    </tbody>\n",
       "</table>"
      ],
      "text/plain": [
       "+-----------------------------------------+---------------------------------------+-------------+------------+--------+-----------+--------+----------+\n",
       "|                  Model                  |               Vectorizer              | Train Score | Test Score |  ROC   | Precision | Recall | F1_score |\n",
       "+-----------------------------------------+---------------------------------------+-------------+------------+--------+-----------+--------+----------+\n",
       "| RandomForestClassifier(random_state=42) | TfidfVectorizer(stop_words='english') |     1.0     |   0.8195   | 0.8183 |   0.777   | 0.9038 |  0.8356  |\n",
       "+-----------------------------------------+---------------------------------------+-------------+------------+--------+-----------+--------+----------+"
      ]
     },
     "metadata": {},
     "output_type": "display_data"
    },
    {
     "name": "stdout",
     "output_type": "stream",
     "text": [
      "------------------------------------------------------\n",
      "\u001b[1m\u001b[4m\n",
      "Confusion Matrix\u001b[0m\u001b[0m\n"
     ]
    },
    {
     "data": {
      "image/png": "[encoded data removed]",
      "text/plain": [
       "<Figure size 432x288 with 2 Axes>"
      ]
     },
     "metadata": {
      "needs_background": "light"
     },
     "output_type": "display_data"
    },
    {
     "name": "stdout",
     "output_type": "stream",
     "text": [
      "\n",
      "True Negatives: 170\n",
      "False Positives: 62\n",
      "False Negatives: 23\n",
      "True Positives: 216\n",
      "\n",
      "------------------------------------------------------\n",
      "\u001b[1m\u001b[4mClassification Report\u001b[0m\u001b[0m\n",
      "              precision    recall  f1-score   support\n",
      "\n",
      "           0       0.88      0.73      0.80       232\n",
      "           1       0.78      0.90      0.84       239\n",
      "\n",
      "    accuracy                           0.82       471\n",
      "   macro avg       0.83      0.82      0.82       471\n",
      "weighted avg       0.83      0.82      0.82       471\n",
      "\n"
     ]
    },
    {
     "data": {
      "text/plain": [
       "Pipeline(steps=[('tvec', TfidfVectorizer(stop_words='english')),\n",
       "                ('rf', RandomForestClassifier(random_state=42))])"
      ]
     },
     "execution_count": 2603,
     "metadata": {},
     "output_type": "execute_result"
    }
   ],
   "source": [
    "# Run the model - Random Forests with TF-IDF Vectorizer\n",
    "\n",
    "run_model('tvec', 'rf', 'Random Forests with TF-IDF Vectorizer')"
   ]
  },
  {
   "cell_type": "markdown",
   "id": "600e44fd-aab2-4b3a-b984-7645db807e78",
   "metadata": {},
   "source": [
    "<b>Observation<b/> : \n",
    "    \n",
    "1. Based on the above information, I conclude that both **Random Forests with CountVectorizer** and **Random Forests with TF-IDF Vectorizer** model is overfit to the data and is a bad model.\n",
    "2. Based on the R2 accuracy, Random Forests with CountVectorizer model and Random Forests with TF-IDF Vectorizer model is only a marginal difference. Random Forests with CountVectorizer model is able to accurately predict 87.0% of the the test data and 99.7% of the train data based on our text features wheras Random Forests with TF-IDF Vectorizer model is able to accurately predict 86.0% of the the test data and 99.7% of the train data based on our text features. Given the fact that both model able to accurately predict more than 99% of the train data but less than 90% of test data, both model are heavily overfitting.\n",
    "3. Based on F1-score, Random Forests with CountVectorizer model is slightly higher than Random Forests with TF-IDF Vectorizer model."
   ]
  },
  {
   "cell_type": "code",
   "execution_count": 2604,
   "id": "0eaa69af-139c-4206-a588-b7aa86805744",
   "metadata": {},
   "outputs": [
    {
     "data": {
      "text/html": [
       "<table>\n",
       "    <thead>\n",
       "        <tr>\n",
       "            <th>Model</th>\n",
       "            <th>Vectorizer</th>\n",
       "            <th>Train Score</th>\n",
       "            <th>Test Score</th>\n",
       "            <th>ROC</th>\n",
       "            <th>Precision</th>\n",
       "            <th>Recall</th>\n",
       "            <th>F1_score</th>\n",
       "        </tr>\n",
       "    </thead>\n",
       "    <tbody>\n",
       "        <tr>\n",
       "            <td>LogisticRegression(random_state=42)</td>\n",
       "            <td>CountVectorizer(stop_words=&#x27;english&#x27;)</td>\n",
       "            <td>0.9864</td>\n",
       "            <td>0.8684</td>\n",
       "            <td>0.8688</td>\n",
       "            <td>0.8969</td>\n",
       "            <td>0.8368</td>\n",
       "            <td>0.8658</td>\n",
       "        </tr>\n",
       "        <tr>\n",
       "            <td>LogisticRegression(random_state=42)</td>\n",
       "            <td>TfidfVectorizer(stop_words=&#x27;english&#x27;)</td>\n",
       "            <td>0.9736</td>\n",
       "            <td>0.8705</td>\n",
       "            <td>0.8705</td>\n",
       "            <td>0.8739</td>\n",
       "            <td>0.8703</td>\n",
       "            <td>0.8721</td>\n",
       "        </tr>\n",
       "        <tr>\n",
       "            <td>MultinomialNB()</td>\n",
       "            <td>CountVectorizer(stop_words=&#x27;english&#x27;)</td>\n",
       "            <td>0.9581</td>\n",
       "            <td>0.8514</td>\n",
       "            <td>0.8508</td>\n",
       "            <td>0.8314</td>\n",
       "            <td>0.887</td>\n",
       "            <td>0.8583</td>\n",
       "        </tr>\n",
       "        <tr>\n",
       "            <td>MultinomialNB()</td>\n",
       "            <td>TfidfVectorizer(stop_words=&#x27;english&#x27;)</td>\n",
       "            <td>0.9727</td>\n",
       "            <td>0.8535</td>\n",
       "            <td>0.8529</td>\n",
       "            <td>0.832</td>\n",
       "            <td>0.8912</td>\n",
       "            <td>0.8606</td>\n",
       "        </tr>\n",
       "        <tr>\n",
       "            <td>RandomForestClassifier(random_state=42)</td>\n",
       "            <td>CountVectorizer(stop_words=&#x27;english&#x27;)</td>\n",
       "            <td>1.0</td>\n",
       "            <td>0.8259</td>\n",
       "            <td>0.8247</td>\n",
       "            <td>0.7834</td>\n",
       "            <td>0.9079</td>\n",
       "            <td>0.8411</td>\n",
       "        </tr>\n",
       "        <tr>\n",
       "            <td>RandomForestClassifier(random_state=42)</td>\n",
       "            <td>TfidfVectorizer(stop_words=&#x27;english&#x27;)</td>\n",
       "            <td>1.0</td>\n",
       "            <td>0.8195</td>\n",
       "            <td>0.8183</td>\n",
       "            <td>0.777</td>\n",
       "            <td>0.9038</td>\n",
       "            <td>0.8356</td>\n",
       "        </tr>\n",
       "    </tbody>\n",
       "</table>"
      ],
      "text/plain": [
       "+-----------------------------------------+---------------------------------------+-------------+------------+--------+-----------+--------+----------+\n",
       "|                  Model                  |               Vectorizer              | Train Score | Test Score |  ROC   | Precision | Recall | F1_score |\n",
       "+-----------------------------------------+---------------------------------------+-------------+------------+--------+-----------+--------+----------+\n",
       "|   LogisticRegression(random_state=42)   | CountVectorizer(stop_words='english') |    0.9864   |   0.8684   | 0.8688 |   0.8969  | 0.8368 |  0.8658  |\n",
       "|   LogisticRegression(random_state=42)   | TfidfVectorizer(stop_words='english') |    0.9736   |   0.8705   | 0.8705 |   0.8739  | 0.8703 |  0.8721  |\n",
       "|             MultinomialNB()             | CountVectorizer(stop_words='english') |    0.9581   |   0.8514   | 0.8508 |   0.8314  | 0.887  |  0.8583  |\n",
       "|             MultinomialNB()             | TfidfVectorizer(stop_words='english') |    0.9727   |   0.8535   | 0.8529 |   0.832   | 0.8912 |  0.8606  |\n",
       "| RandomForestClassifier(random_state=42) | CountVectorizer(stop_words='english') |     1.0     |   0.8259   | 0.8247 |   0.7834  | 0.9079 |  0.8411  |\n",
       "| RandomForestClassifier(random_state=42) | TfidfVectorizer(stop_words='english') |     1.0     |   0.8195   | 0.8183 |   0.777   | 0.9038 |  0.8356  |\n",
       "+-----------------------------------------+---------------------------------------+-------------+------------+--------+-----------+--------+----------+"
      ]
     },
     "execution_count": 2604,
     "metadata": {},
     "output_type": "execute_result"
    }
   ],
   "source": [
    "# Print the summary of modelling without hyperparameter tuning\n",
    "\n",
    "summary"
   ]
  },
  {
   "cell_type": "markdown",
   "id": "2fabc99f-efa4-4984-b4d9-0358101f0bf7",
   "metadata": {},
   "source": [
    "<b>Observation<b/> : \n",
    "    \n",
    "1. Based on the above summary table, all the model R2 accuracy & F1-score is only marginal difference. Model with text vectorized using TF-IDF Vectorizer tends to perform slightly better than CountVectorizer except Random Forests model. Hyperparameter tuning (optimization) is an essential aspect of machine learning process of maximizing a model's performance without overfitting or creating too high of a variance. \n",
    "2. In view of the fact that Random forests is slow in generating predictions because it has multiple decision trees. Whenever it makes a prediction, all the trees in the forest have to make a prediction for the same given input and then perform voting on it. This whole process is time-consuming. Random forests model will be excluded from hyperparameter tuning process.\n",
    "3. Logistic Regression and Multinomial Naive Bayes is easier to implement, interpret, and very efficient to train for predicting real-time applications. Thus, both model will go through hyperparameter tuning."
   ]
  },
  {
   "cell_type": "markdown",
   "id": "790bc90d-0440-4453-85a9-07465094258a",
   "metadata": {},
   "source": [
    "### 4.4 Model Hyperparameter Tuning"
   ]
  },
  {
   "cell_type": "markdown",
   "id": "135beb60-82b5-4ed7-a606-e8795e89b736",
   "metadata": {},
   "source": [
    "#### 4.4.1 Vectorizer Hyperparameters"
   ]
  },
  {
   "cell_type": "code",
   "execution_count": 2605,
   "id": "e2a36194-8e61-4697-b065-914133bef4ac",
   "metadata": {},
   "outputs": [],
   "source": [
    "# Search over the following values of hyperparameters:\n",
    "# Maximum number of features fit: 2000, 3000, 4000, 5000\n",
    "# Minimum number of documents needed to include token: 0, 1, 2\n",
    "# Maximum number of documents needed to include token: 80%, 90%\n",
    "# Check (individual tokens) and also check (individual tokens and 2-grams)\n",
    "\n",
    "cvec_params = {\n",
    "    'cvec__max_features' : [2_000, 3_000, 4_000, 5_000],\n",
    "    'cvec__min_df' : [0, 1, 2],\n",
    "    'cvec__max_df' : [0.8, 0.9],\n",
    "    'cvec__ngram_range': [(1,1), (1,2), (2,2)]\n",
    "}"
   ]
  },
  {
   "cell_type": "code",
   "execution_count": 2606,
   "id": "fa4b13a7-157f-40fb-bebd-0eaf03fbdb12",
   "metadata": {},
   "outputs": [],
   "source": [
    "# Search over the following values of hyperparameters:\n",
    "# Maximum number of features fit: 2000, 3000, 4000, 5000\n",
    "# Minimum number of documents needed to include token: 0, 1, 2\n",
    "# Maximum number of documents needed to include token: 80%, 90%\n",
    "# Check (individual tokens) and also check (individual tokens and 2-grams)\n",
    "\n",
    "tvec_params = {\n",
    "    'tvec__max_features' : [2_000, 3_000, 4_000, 5_000],\n",
    "    'tvec__min_df' : [0, 1, 2],\n",
    "    'tvec__max_df' : [0.8, 0.9],\n",
    "    'tvec__ngram_range': [(1,1), (1,2), (2,2)]\n",
    "}"
   ]
  },
  {
   "cell_type": "markdown",
   "id": "bb1ab5f7-b88d-4ef6-aef0-c791906e2703",
   "metadata": {},
   "source": [
    "#### 4.4.2 Model Hyperparameters"
   ]
  },
  {
   "cell_type": "code",
   "execution_count": 2607,
   "id": "44f5915d-0c84-4b14-a50a-7c9d8c499234",
   "metadata": {},
   "outputs": [],
   "source": [
    "# Search over the following values of hyperparameters:\n",
    "# Inverse of regularization strength: 0.1, 0.5, 1, 10\n",
    "    \n",
    "logreg_params = {\n",
    "    'logreg__C':[0.01, 0.1, 0.5, 1]\n",
    "}"
   ]
  },
  {
   "cell_type": "code",
   "execution_count": 2608,
   "id": "18bf36a7-5ecf-4cf4-9ae9-1cc563e41df5",
   "metadata": {},
   "outputs": [],
   "source": [
    "# Search over the following values of hyperparameters:\n",
    "# Additive smoothing parameter: 0, 0.4, 0.8\n",
    "# Whether to learn class prior probabilities or not: True, False\n",
    "  \n",
    "nb_params = {\n",
    "    'nb__fit_prior': [True, False],\n",
    "    'nb__alpha': [0, 0.4, 0.8]\n",
    "}"
   ]
  },
  {
   "cell_type": "markdown",
   "id": "7c2d3563-64ee-4f97-8c8c-a0bf212c3ffe",
   "metadata": {},
   "source": [
    "#### 4.4.3 Logistic Regression"
   ]
  },
  {
   "cell_type": "markdown",
   "id": "3276f6de-19cc-4f88-baa1-feecfd379fd8",
   "metadata": {},
   "source": [
    "##### a) Logistic Regression with CountVectorizer"
   ]
  },
  {
   "cell_type": "code",
   "execution_count": 2609,
   "id": "2f2fa8da-a37d-49f3-b385-5a636b1748fd",
   "metadata": {},
   "outputs": [
    {
     "name": "stdout",
     "output_type": "stream",
     "text": [
      "Fitting 5 folds for each of 288 candidates, totalling 1440 fits\n"
     ]
    },
    {
     "data": {
      "text/html": [
       "<table>\n",
       "    <thead>\n",
       "        <tr>\n",
       "            <th>Model</th>\n",
       "            <th>Vectorizer</th>\n",
       "            <th>Train Score</th>\n",
       "            <th>Test Score</th>\n",
       "            <th>ROC</th>\n",
       "            <th>Precision</th>\n",
       "            <th>Recall</th>\n",
       "            <th>F1_score</th>\n",
       "        </tr>\n",
       "    </thead>\n",
       "    <tbody>\n",
       "        <tr>\n",
       "            <td>LogisticRegression(random_state=42)</td>\n",
       "            <td>CountVectorizer(stop_words=&#x27;english&#x27;)</td>\n",
       "            <td>0.9845</td>\n",
       "            <td>0.8705</td>\n",
       "            <td>0.8709</td>\n",
       "            <td>0.8973</td>\n",
       "            <td>0.841</td>\n",
       "            <td>0.8683</td>\n",
       "        </tr>\n",
       "    </tbody>\n",
       "</table>"
      ],
      "text/plain": [
       "+-------------------------------------+---------------------------------------+-------------+------------+--------+-----------+--------+----------+\n",
       "|                Model                |               Vectorizer              | Train Score | Test Score |  ROC   | Precision | Recall | F1_score |\n",
       "+-------------------------------------+---------------------------------------+-------------+------------+--------+-----------+--------+----------+\n",
       "| LogisticRegression(random_state=42) | CountVectorizer(stop_words='english') |    0.9845   |   0.8705   | 0.8709 |   0.8973  | 0.841  |  0.8683  |\n",
       "+-------------------------------------+---------------------------------------+-------------+------------+--------+-----------+--------+----------+"
      ]
     },
     "metadata": {},
     "output_type": "display_data"
    },
    {
     "name": "stdout",
     "output_type": "stream",
     "text": [
      "------------------------------------------------------\n",
      "\u001b[1m\u001b[4mBest Hyperparameter\u001b[0m\u001b[0m\n"
     ]
    },
    {
     "data": {
      "text/plain": [
       "{'cvec__max_df': 0.8,\n",
       " 'cvec__max_features': 3000,\n",
       " 'cvec__min_df': 0,\n",
       " 'cvec__ngram_range': (1, 1),\n",
       " 'logreg__C': 1}"
      ]
     },
     "metadata": {},
     "output_type": "display_data"
    },
    {
     "name": "stdout",
     "output_type": "stream",
     "text": [
      "------------------------------------------------------\n",
      "\u001b[1m\u001b[4m\n",
      "Confusion Matrix\u001b[0m\u001b[0m\n"
     ]
    },
    {
     "data": {
      "image/png": "[encoded data removed]",
      "text/plain": [
       "<Figure size 432x288 with 2 Axes>"
      ]
     },
     "metadata": {
      "needs_background": "light"
     },
     "output_type": "display_data"
    },
    {
     "name": "stdout",
     "output_type": "stream",
     "text": [
      "\n",
      "True Negatives: 209\n",
      "False Positives: 23\n",
      "False Negatives: 38\n",
      "True Positives: 201\n",
      "\n",
      "------------------------------------------------------\n",
      "\u001b[1m\u001b[4mClassification Report\u001b[0m\u001b[0m\n",
      "              precision    recall  f1-score   support\n",
      "\n",
      "           0       0.85      0.90      0.87       232\n",
      "           1       0.90      0.84      0.87       239\n",
      "\n",
      "    accuracy                           0.87       471\n",
      "   macro avg       0.87      0.87      0.87       471\n",
      "weighted avg       0.87      0.87      0.87       471\n",
      "\n"
     ]
    }
   ],
   "source": [
    "# Run the model - Logistic Regression with CountVectorizer\n",
    "\n",
    "logreg_cvec_gs = run_model('cvec', 'logreg', 'Logistic Regression with CountVectorizer', vec_params = cvec_params, model_params = logreg_params, grid_search=True)"
   ]
  },
  {
   "cell_type": "markdown",
   "id": "d29fcab9-a355-458b-a596-d5878a6dcc9b",
   "metadata": {},
   "source": [
    " "
   ]
  },
  {
   "cell_type": "markdown",
   "id": "24600969-3d92-44c6-a7db-ae0ac6f3dd8b",
   "metadata": {},
   "source": [
    "##### b) Logistic Regression with TF-IDF Vectorizer"
   ]
  },
  {
   "cell_type": "code",
   "execution_count": 2610,
   "id": "9c9afcf6-b81b-49da-a384-9514175b303d",
   "metadata": {},
   "outputs": [
    {
     "name": "stdout",
     "output_type": "stream",
     "text": [
      "Fitting 5 folds for each of 288 candidates, totalling 1440 fits\n"
     ]
    },
    {
     "data": {
      "text/html": [
       "<table>\n",
       "    <thead>\n",
       "        <tr>\n",
       "            <th>Model</th>\n",
       "            <th>Vectorizer</th>\n",
       "            <th>Train Score</th>\n",
       "            <th>Test Score</th>\n",
       "            <th>ROC</th>\n",
       "            <th>Precision</th>\n",
       "            <th>Recall</th>\n",
       "            <th>F1_score</th>\n",
       "        </tr>\n",
       "    </thead>\n",
       "    <tbody>\n",
       "        <tr>\n",
       "            <td>LogisticRegression(random_state=42)</td>\n",
       "            <td>TfidfVectorizer(stop_words=&#x27;english&#x27;)</td>\n",
       "            <td>0.9654</td>\n",
       "            <td>0.8705</td>\n",
       "            <td>0.8706</td>\n",
       "            <td>0.8771</td>\n",
       "            <td>0.8661</td>\n",
       "            <td>0.8716</td>\n",
       "        </tr>\n",
       "    </tbody>\n",
       "</table>"
      ],
      "text/plain": [
       "+-------------------------------------+---------------------------------------+-------------+------------+--------+-----------+--------+----------+\n",
       "|                Model                |               Vectorizer              | Train Score | Test Score |  ROC   | Precision | Recall | F1_score |\n",
       "+-------------------------------------+---------------------------------------+-------------+------------+--------+-----------+--------+----------+\n",
       "| LogisticRegression(random_state=42) | TfidfVectorizer(stop_words='english') |    0.9654   |   0.8705   | 0.8706 |   0.8771  | 0.8661 |  0.8716  |\n",
       "+-------------------------------------+---------------------------------------+-------------+------------+--------+-----------+--------+----------+"
      ]
     },
     "metadata": {},
     "output_type": "display_data"
    },
    {
     "name": "stdout",
     "output_type": "stream",
     "text": [
      "------------------------------------------------------\n",
      "\u001b[1m\u001b[4mBest Hyperparameter\u001b[0m\u001b[0m\n"
     ]
    },
    {
     "data": {
      "text/plain": [
       "{'logreg__C': 1,\n",
       " 'tvec__max_df': 0.8,\n",
       " 'tvec__max_features': 2000,\n",
       " 'tvec__min_df': 2,\n",
       " 'tvec__ngram_range': (1, 1)}"
      ]
     },
     "metadata": {},
     "output_type": "display_data"
    },
    {
     "name": "stdout",
     "output_type": "stream",
     "text": [
      "------------------------------------------------------\n",
      "\u001b[1m\u001b[4m\n",
      "Confusion Matrix\u001b[0m\u001b[0m\n"
     ]
    },
    {
     "data": {
      "image/png": "[encoded data removed]",
      "text/plain": [
       "<Figure size 432x288 with 2 Axes>"
      ]
     },
     "metadata": {
      "needs_background": "light"
     },
     "output_type": "display_data"
    },
    {
     "name": "stdout",
     "output_type": "stream",
     "text": [
      "\n",
      "True Negatives: 203\n",
      "False Positives: 29\n",
      "False Negatives: 32\n",
      "True Positives: 207\n",
      "\n",
      "------------------------------------------------------\n",
      "\u001b[1m\u001b[4mClassification Report\u001b[0m\u001b[0m\n",
      "              precision    recall  f1-score   support\n",
      "\n",
      "           0       0.86      0.88      0.87       232\n",
      "           1       0.88      0.87      0.87       239\n",
      "\n",
      "    accuracy                           0.87       471\n",
      "   macro avg       0.87      0.87      0.87       471\n",
      "weighted avg       0.87      0.87      0.87       471\n",
      "\n"
     ]
    }
   ],
   "source": [
    "# Run the model - Logistic Regression with TF-IDF Vectorizer\n",
    "\n",
    "logreg_tvec_gs = run_model('tvec', 'logreg', 'Logistic Regression with TF-IDF Vectorizer', vec_params = tvec_params, model_params = logreg_params, grid_search=True)"
   ]
  },
  {
   "cell_type": "markdown",
   "id": "35e84dbc-3aed-4454-ad8a-15cbc750f548",
   "metadata": {},
   "source": [
    "#### 4.4.4 Multinomial Naive Bayes"
   ]
  },
  {
   "cell_type": "markdown",
   "id": "9568779a-7dc3-430e-a700-829c2ad85c63",
   "metadata": {},
   "source": [
    "##### a) Multinomial Naive Bayes with CountVectorizer"
   ]
  },
  {
   "cell_type": "code",
   "execution_count": 2611,
   "id": "4c482579-9a81-489e-a5ba-599051e67479",
   "metadata": {},
   "outputs": [
    {
     "name": "stdout",
     "output_type": "stream",
     "text": [
      "Fitting 5 folds for each of 432 candidates, totalling 2160 fits\n"
     ]
    },
    {
     "data": {
      "text/html": [
       "<table>\n",
       "    <thead>\n",
       "        <tr>\n",
       "            <th>Model</th>\n",
       "            <th>Vectorizer</th>\n",
       "            <th>Train Score</th>\n",
       "            <th>Test Score</th>\n",
       "            <th>ROC</th>\n",
       "            <th>Precision</th>\n",
       "            <th>Recall</th>\n",
       "            <th>F1_score</th>\n",
       "        </tr>\n",
       "    </thead>\n",
       "    <tbody>\n",
       "        <tr>\n",
       "            <td>MultinomialNB()</td>\n",
       "            <td>CountVectorizer(stop_words=&#x27;english&#x27;)</td>\n",
       "            <td>0.9409</td>\n",
       "            <td>0.8471</td>\n",
       "            <td>0.8467</td>\n",
       "            <td>0.83</td>\n",
       "            <td>0.8787</td>\n",
       "            <td>0.8537</td>\n",
       "        </tr>\n",
       "    </tbody>\n",
       "</table>"
      ],
      "text/plain": [
       "+-----------------+---------------------------------------+-------------+------------+--------+-----------+--------+----------+\n",
       "|      Model      |               Vectorizer              | Train Score | Test Score |  ROC   | Precision | Recall | F1_score |\n",
       "+-----------------+---------------------------------------+-------------+------------+--------+-----------+--------+----------+\n",
       "| MultinomialNB() | CountVectorizer(stop_words='english') |    0.9409   |   0.8471   | 0.8467 |    0.83   | 0.8787 |  0.8537  |\n",
       "+-----------------+---------------------------------------+-------------+------------+--------+-----------+--------+----------+"
      ]
     },
     "metadata": {},
     "output_type": "display_data"
    },
    {
     "name": "stdout",
     "output_type": "stream",
     "text": [
      "------------------------------------------------------\n",
      "\u001b[1m\u001b[4mBest Hyperparameter\u001b[0m\u001b[0m\n"
     ]
    },
    {
     "data": {
      "text/plain": [
       "{'cvec__max_df': 0.8,\n",
       " 'cvec__max_features': 2000,\n",
       " 'cvec__min_df': 2,\n",
       " 'cvec__ngram_range': (1, 1),\n",
       " 'nb__alpha': 0.8,\n",
       " 'nb__fit_prior': True}"
      ]
     },
     "metadata": {},
     "output_type": "display_data"
    },
    {
     "name": "stdout",
     "output_type": "stream",
     "text": [
      "------------------------------------------------------\n",
      "\u001b[1m\u001b[4m\n",
      "Confusion Matrix\u001b[0m\u001b[0m\n"
     ]
    },
    {
     "data": {
      "image/png": "[encoded data removed]",
      "text/plain": [
       "<Figure size 432x288 with 2 Axes>"
      ]
     },
     "metadata": {
      "needs_background": "light"
     },
     "output_type": "display_data"
    },
    {
     "name": "stdout",
     "output_type": "stream",
     "text": [
      "\n",
      "True Negatives: 189\n",
      "False Positives: 43\n",
      "False Negatives: 29\n",
      "True Positives: 210\n",
      "\n",
      "------------------------------------------------------\n",
      "\u001b[1m\u001b[4mClassification Report\u001b[0m\u001b[0m\n",
      "              precision    recall  f1-score   support\n",
      "\n",
      "           0       0.87      0.81      0.84       232\n",
      "           1       0.83      0.88      0.85       239\n",
      "\n",
      "    accuracy                           0.85       471\n",
      "   macro avg       0.85      0.85      0.85       471\n",
      "weighted avg       0.85      0.85      0.85       471\n",
      "\n"
     ]
    }
   ],
   "source": [
    "# Run the model - Multinomial Naive Bayes with CountVectorizer\n",
    "\n",
    "nb_cvec_gs = run_model('cvec', 'nb', 'Multinomial Naive Bayes with CountVectorizer', vec_params = cvec_params, model_params = nb_params, grid_search=True)"
   ]
  },
  {
   "cell_type": "markdown",
   "id": "c768ee9e-58f7-4b62-ba99-0a3c795ba59f",
   "metadata": {},
   "source": [
    " "
   ]
  },
  {
   "cell_type": "markdown",
   "id": "43c4de09-fb40-4c50-a228-666f788e6c87",
   "metadata": {},
   "source": [
    "##### b) Multinomial Naive Bayes with TF-IDF Vectorizer"
   ]
  },
  {
   "cell_type": "code",
   "execution_count": 2612,
   "id": "516e8fe4-bd73-4994-9865-5a0e18aa4110",
   "metadata": {},
   "outputs": [
    {
     "name": "stdout",
     "output_type": "stream",
     "text": [
      "Fitting 5 folds for each of 432 candidates, totalling 2160 fits\n"
     ]
    },
    {
     "data": {
      "text/html": [
       "<table>\n",
       "    <thead>\n",
       "        <tr>\n",
       "            <th>Model</th>\n",
       "            <th>Vectorizer</th>\n",
       "            <th>Train Score</th>\n",
       "            <th>Test Score</th>\n",
       "            <th>ROC</th>\n",
       "            <th>Precision</th>\n",
       "            <th>Recall</th>\n",
       "            <th>F1_score</th>\n",
       "        </tr>\n",
       "    </thead>\n",
       "    <tbody>\n",
       "        <tr>\n",
       "            <td>MultinomialNB()</td>\n",
       "            <td>TfidfVectorizer(stop_words=&#x27;english&#x27;)</td>\n",
       "            <td>0.9736</td>\n",
       "            <td>0.8535</td>\n",
       "            <td>0.853</td>\n",
       "            <td>0.8346</td>\n",
       "            <td>0.887</td>\n",
       "            <td>0.86</td>\n",
       "        </tr>\n",
       "    </tbody>\n",
       "</table>"
      ],
      "text/plain": [
       "+-----------------+---------------------------------------+-------------+------------+-------+-----------+--------+----------+\n",
       "|      Model      |               Vectorizer              | Train Score | Test Score |  ROC  | Precision | Recall | F1_score |\n",
       "+-----------------+---------------------------------------+-------------+------------+-------+-----------+--------+----------+\n",
       "| MultinomialNB() | TfidfVectorizer(stop_words='english') |    0.9736   |   0.8535   | 0.853 |   0.8346  | 0.887  |   0.86   |\n",
       "+-----------------+---------------------------------------+-------------+------------+-------+-----------+--------+----------+"
      ]
     },
     "metadata": {},
     "output_type": "display_data"
    },
    {
     "name": "stdout",
     "output_type": "stream",
     "text": [
      "------------------------------------------------------\n",
      "\u001b[1m\u001b[4mBest Hyperparameter\u001b[0m\u001b[0m\n"
     ]
    },
    {
     "data": {
      "text/plain": [
       "{'nb__alpha': 0.8,\n",
       " 'nb__fit_prior': True,\n",
       " 'tvec__max_df': 0.8,\n",
       " 'tvec__max_features': 4000,\n",
       " 'tvec__min_df': 0,\n",
       " 'tvec__ngram_range': (1, 1)}"
      ]
     },
     "metadata": {},
     "output_type": "display_data"
    },
    {
     "name": "stdout",
     "output_type": "stream",
     "text": [
      "------------------------------------------------------\n",
      "\u001b[1m\u001b[4m\n",
      "Confusion Matrix\u001b[0m\u001b[0m\n"
     ]
    },
    {
     "data": {
      "image/png": "[encoded data removed]",
      "text/plain": [
       "<Figure size 432x288 with 2 Axes>"
      ]
     },
     "metadata": {
      "needs_background": "light"
     },
     "output_type": "display_data"
    },
    {
     "name": "stdout",
     "output_type": "stream",
     "text": [
      "\n",
      "True Negatives: 190\n",
      "False Positives: 42\n",
      "False Negatives: 27\n",
      "True Positives: 212\n",
      "\n",
      "------------------------------------------------------\n",
      "\u001b[1m\u001b[4mClassification Report\u001b[0m\u001b[0m\n",
      "              precision    recall  f1-score   support\n",
      "\n",
      "           0       0.88      0.82      0.85       232\n",
      "           1       0.83      0.89      0.86       239\n",
      "\n",
      "    accuracy                           0.85       471\n",
      "   macro avg       0.86      0.85      0.85       471\n",
      "weighted avg       0.85      0.85      0.85       471\n",
      "\n"
     ]
    }
   ],
   "source": [
    "# Run the model - Multinomial Naive Bayes with TF-IDF Vectorizer\n",
    "\n",
    "nb_tvec_gs = run_model('tvec', 'nb', 'Multinomial Naive Bayes with TF-IDF Vectorizer', vec_params = tvec_params, model_params = nb_params, grid_search=True)"
   ]
  },
  {
   "cell_type": "code",
   "execution_count": 2613,
   "id": "e37e7354-9e56-4d5f-b27d-365aa117e8a8",
   "metadata": {
    "tags": []
   },
   "outputs": [
    {
     "data": {
      "text/html": [
       "<table>\n",
       "    <thead>\n",
       "        <tr>\n",
       "            <th>Model</th>\n",
       "            <th>Vectorizer</th>\n",
       "            <th>Train Score</th>\n",
       "            <th>Test Score</th>\n",
       "            <th>ROC</th>\n",
       "            <th>Precision</th>\n",
       "            <th>Recall</th>\n",
       "            <th>F1_score</th>\n",
       "        </tr>\n",
       "    </thead>\n",
       "    <tbody>\n",
       "        <tr>\n",
       "            <td>LogisticRegression(random_state=42)</td>\n",
       "            <td>CountVectorizer(stop_words=&#x27;english&#x27;)</td>\n",
       "            <td>0.9845</td>\n",
       "            <td>0.8705</td>\n",
       "            <td>0.8709</td>\n",
       "            <td>0.8973</td>\n",
       "            <td>0.841</td>\n",
       "            <td>0.8683</td>\n",
       "        </tr>\n",
       "        <tr>\n",
       "            <td>LogisticRegression(random_state=42)</td>\n",
       "            <td>TfidfVectorizer(stop_words=&#x27;english&#x27;)</td>\n",
       "            <td>0.9654</td>\n",
       "            <td>0.8705</td>\n",
       "            <td>0.8706</td>\n",
       "            <td>0.8771</td>\n",
       "            <td>0.8661</td>\n",
       "            <td>0.8716</td>\n",
       "        </tr>\n",
       "        <tr>\n",
       "            <td>MultinomialNB()</td>\n",
       "            <td>CountVectorizer(stop_words=&#x27;english&#x27;)</td>\n",
       "            <td>0.9409</td>\n",
       "            <td>0.8471</td>\n",
       "            <td>0.8467</td>\n",
       "            <td>0.83</td>\n",
       "            <td>0.8787</td>\n",
       "            <td>0.8537</td>\n",
       "        </tr>\n",
       "        <tr>\n",
       "            <td>MultinomialNB()</td>\n",
       "            <td>TfidfVectorizer(stop_words=&#x27;english&#x27;)</td>\n",
       "            <td>0.9736</td>\n",
       "            <td>0.8535</td>\n",
       "            <td>0.853</td>\n",
       "            <td>0.8346</td>\n",
       "            <td>0.887</td>\n",
       "            <td>0.86</td>\n",
       "        </tr>\n",
       "    </tbody>\n",
       "</table>"
      ],
      "text/plain": [
       "+-------------------------------------+---------------------------------------+-------------+------------+--------+-----------+--------+----------+\n",
       "|                Model                |               Vectorizer              | Train Score | Test Score |  ROC   | Precision | Recall | F1_score |\n",
       "+-------------------------------------+---------------------------------------+-------------+------------+--------+-----------+--------+----------+\n",
       "| LogisticRegression(random_state=42) | CountVectorizer(stop_words='english') |    0.9845   |   0.8705   | 0.8709 |   0.8973  | 0.841  |  0.8683  |\n",
       "| LogisticRegression(random_state=42) | TfidfVectorizer(stop_words='english') |    0.9654   |   0.8705   | 0.8706 |   0.8771  | 0.8661 |  0.8716  |\n",
       "|           MultinomialNB()           | CountVectorizer(stop_words='english') |    0.9409   |   0.8471   | 0.8467 |    0.83   | 0.8787 |  0.8537  |\n",
       "|           MultinomialNB()           | TfidfVectorizer(stop_words='english') |    0.9736   |   0.8535   | 0.853  |   0.8346  | 0.887  |   0.86   |\n",
       "+-------------------------------------+---------------------------------------+-------------+------------+--------+-----------+--------+----------+"
      ]
     },
     "execution_count": 2613,
     "metadata": {},
     "output_type": "execute_result"
    }
   ],
   "source": [
    "# Print the summary of modelling after hyperparameter tuning\n",
    "\n",
    "summary_tuning"
   ]
  },
  {
   "cell_type": "markdown",
   "id": "0118f817-b7ef-4de5-b52e-8dc68a777b19",
   "metadata": {},
   "source": [
    "#### 4.4.5 AUC-ROC Curve"
   ]
  },
  {
   "cell_type": "code",
   "execution_count": 2614,
   "id": "8a45f3ba-a11d-4457-a77b-7651438f6b32",
   "metadata": {},
   "outputs": [
    {
     "data": {
      "image/png": "[encoded data removed]",
      "text/plain": [
       "<Figure size 864x576 with 1 Axes>"
      ]
     },
     "metadata": {
      "needs_background": "light"
     },
     "output_type": "display_data"
    }
   ],
   "source": [
    "# Plot AUC-ROC Curve\n",
    "\n",
    "fig, ax = plt.subplots(1, 1, figsize = (12, 8))\n",
    "plot_roc_curve(logreg_cvec_gs, X_test, y_test, ax = ax, name = 'Logistic Regression with CountVectorizer', color='lightgrey')\n",
    "plot_roc_curve(logreg_tvec_gs, X_test, y_test, ax = ax, name = 'Logistic Regression with TF-IDF Vectorizer', color='blue')\n",
    "plot_roc_curve(nb_cvec_gs, X_test, y_test, ax = ax, name = 'Multinomial Naive Bayes with CountVectorizer', color='lightgrey')\n",
    "plot_roc_curve(nb_tvec_gs, X_test, y_test, ax = ax, name = 'Multinomial Naive Bayes with TF-IDF Vectorizer', color='lightgrey')\n",
    "plt.plot([0, 1], [0, 1], color = 'black', lw = 2, linestyle = '--', label = 'Random Guess')\n",
    "plt.legend()\n",
    "plt.show()"
   ]
  },
  {
   "cell_type": "markdown",
   "id": "cb6095f6-675b-44b7-870a-6d0d278ea5a7",
   "metadata": {},
   "source": [
    "<b>Observation<b/> : \n",
    "    \n",
    "1. Based on the above summary table, our model is still overfitting as indicated by the gap between test and train scores.\n",
    "2. Logistic Regression with TF-IDF Vectorizer model returned the highest R2 accuracy and F1-score. Our model able to accurately predict 89.7% of test data based on our text features and lesser overfit.\n",
    "3. AUC-ROC curve is another evaluation metric for binary classification problems. It is a probability curve that plots the True Positive Rate (TPR) against False Positive Rate (FPR) at various threshold values. The Area Under the Curve (AUC) is the measure of the ability of a classifier to distinguish between classes and is used as a summary of the ROC curve. The higher the AUC, the better the performance of the model at distinguishing between the positive and negative classes. Based on AUC-ROC curve, all models are pretty close. However, Logistic Regression with TF-IDF Vectorizer model outperforming other models at most decision thresholds, apart from the start of the curve and the end of the curve. \n",
    "4. Thus, Logistic Regression with TF-IDF Vectorizer model is choose as our production model."
   ]
  },
  {
   "cell_type": "markdown",
   "id": "8a540180-e51d-42f0-9e8a-754a1712314e",
   "metadata": {},
   "source": [
    "## 5. Final Model Insights"
   ]
  },
  {
   "cell_type": "code",
   "execution_count": 2615,
   "id": "65cb739e-4fe3-4796-b990-c9c356b73500",
   "metadata": {},
   "outputs": [
    {
     "data": {
      "text/plain": [
       "Pipeline(steps=[('tvec',\n",
       "                 TfidfVectorizer(max_df=0.8, max_features=2000, min_df=2,\n",
       "                                 stop_words='english')),\n",
       "                ('logreg', LogisticRegression(C=1, random_state=42))])"
      ]
     },
     "execution_count": 2615,
     "metadata": {},
     "output_type": "execute_result"
    }
   ],
   "source": [
    "# Get the best pipeline of our production model - Logistic Regression with TF-IDF Vectorizer \n",
    "\n",
    "logreg_tvec_gs.best_estimator_"
   ]
  },
  {
   "cell_type": "code",
   "execution_count": 2616,
   "id": "c381bfa0-66eb-4016-bc69-62e317821812",
   "metadata": {},
   "outputs": [],
   "source": [
    "# Create a coefs dataframe to store our production model coefficient & feature names\n",
    "\n",
    "coefs = pd.DataFrame(np.exp(logreg_tvec_gs.best_estimator_.steps[1][1].coef_)).T\n",
    "coefs.columns = ['coef']\n",
    "coefs['feature'] = logreg_tvec_gs.best_estimator_.steps[0][1].get_feature_names()\n",
    "\n",
    "# Rearrange the columns\n",
    "coefs = coefs[['feature','coef']]\n",
    "\n",
    "# Sort the coefs dataframe by coef in descending order\n",
    "coefs.sort_values(by = 'coef', ascending = False, inplace = True)"
   ]
  },
  {
   "cell_type": "code",
   "execution_count": 2617,
   "id": "d22d684a-cc3f-4dde-a7f5-a5def8337659",
   "metadata": {},
   "outputs": [
    {
     "data": {
      "text/html": [
       "<div>\n",
       "<style scoped>\n",
       "    .dataframe tbody tr th:only-of-type {\n",
       "        vertical-align: middle;\n",
       "    }\n",
       "\n",
       "    .dataframe tbody tr th {\n",
       "        vertical-align: top;\n",
       "    }\n",
       "\n",
       "    .dataframe thead th {\n",
       "        text-align: right;\n",
       "    }\n",
       "</style>\n",
       "<table border=\"1\" class=\"dataframe\">\n",
       "  <thead>\n",
       "    <tr style=\"text-align: right;\">\n",
       "      <th></th>\n",
       "      <th>feature</th>\n",
       "      <th>coef</th>\n",
       "    </tr>\n",
       "  </thead>\n",
       "  <tbody>\n",
       "    <tr>\n",
       "      <th>43</th>\n",
       "      <td>alien</td>\n",
       "      <td>180.974623</td>\n",
       "    </tr>\n",
       "    <tr>\n",
       "      <th>1601</th>\n",
       "      <td>ufo</td>\n",
       "      <td>32.996116</td>\n",
       "    </tr>\n",
       "    <tr>\n",
       "      <th>1546</th>\n",
       "      <td>think</td>\n",
       "      <td>6.270830</td>\n",
       "    </tr>\n",
       "    <tr>\n",
       "      <th>1118</th>\n",
       "      <td>people</td>\n",
       "      <td>4.556388</td>\n",
       "    </tr>\n",
       "    <tr>\n",
       "      <th>418</th>\n",
       "      <td>disclosure</td>\n",
       "      <td>3.691660</td>\n",
       "    </tr>\n",
       "    <tr>\n",
       "      <th>...</th>\n",
       "      <td>...</td>\n",
       "      <td>...</td>\n",
       "    </tr>\n",
       "    <tr>\n",
       "      <th>855</th>\n",
       "      <td>launch</td>\n",
       "      <td>0.184299</td>\n",
       "    </tr>\n",
       "    <tr>\n",
       "      <th>1524</th>\n",
       "      <td>telescope</td>\n",
       "      <td>0.171638</td>\n",
       "    </tr>\n",
       "    <tr>\n",
       "      <th>1671</th>\n",
       "      <td>webb</td>\n",
       "      <td>0.106551</td>\n",
       "    </tr>\n",
       "    <tr>\n",
       "      <th>823</th>\n",
       "      <td>jwst</td>\n",
       "      <td>0.037422</td>\n",
       "    </tr>\n",
       "    <tr>\n",
       "      <th>1429</th>\n",
       "      <td>space</td>\n",
       "      <td>0.027764</td>\n",
       "    </tr>\n",
       "  </tbody>\n",
       "</table>\n",
       "<p>1723 rows × 2 columns</p>\n",
       "</div>"
      ],
      "text/plain": [
       "         feature        coef\n",
       "43         alien  180.974623\n",
       "1601         ufo   32.996116\n",
       "1546       think    6.270830\n",
       "1118      people    4.556388\n",
       "418   disclosure    3.691660\n",
       "...          ...         ...\n",
       "855       launch    0.184299\n",
       "1524   telescope    0.171638\n",
       "1671        webb    0.106551\n",
       "823         jwst    0.037422\n",
       "1429       space    0.027764\n",
       "\n",
       "[1723 rows x 2 columns]"
      ]
     },
     "execution_count": 2617,
     "metadata": {},
     "output_type": "execute_result"
    }
   ],
   "source": [
    "# Print and view the coefs dataframe\n",
    "\n",
    "coefs"
   ]
  },
  {
   "cell_type": "code",
   "execution_count": 2618,
   "id": "43d07650-4bab-48b8-b2a3-45af16403609",
   "metadata": {},
   "outputs": [
    {
     "data": {
      "image/png": "[encoded data removed]",
      "text/plain": [
       "<Figure size 864x576 with 1 Axes>"
      ]
     },
     "metadata": {
      "needs_background": "light"
     },
     "output_type": "display_data"
    }
   ],
   "source": [
    "# Plot bar chart of top and bottom 15 coefficients in our production model - Logistic Regression with TF-IDF Vectorizer \n",
    "\n",
    "plt.figure(figsize = (12, 8))\n",
    "sns.barplot(data = pd.concat([coefs.head(15), coefs.tail(15)]), x = 'coef', y = 'feature', palette='coolwarm')\n",
    "plt.ylabel('Features')\n",
    "plt.xlabel('Odds')\n",
    "plt.title('Top & Bottom 15 Features Correlated with Aliens & Space Subreddit')\n",
    "plt.show()"
   ]
  },
  {
   "cell_type": "markdown",
   "id": "55b95aa8-6a19-4e6f-bba2-726a8205e9aa",
   "metadata": {},
   "source": [
    "<b>Observation<b/> : \n",
    "    \n",
    "1.  These are the strong predicting features that can be used to classify whether a post belongs to <mark style=\"background-color: lightgrey\">r/aliens</mark> or <mark style=\"background-color: lightgrey\">r/space</mark>.   \n",
    "2. In linear regression the y variable is continuous (i.e. has an infinite set of possibilities). In logistic regression the y variable is categorical(binary), but use of the logit function allows the y variable to be treated as continuous.\n",
    "3. In either linear or logistic regression, each X variable’s effect on the y variable is expressed in the X variable’s coefficient. Though both models’ coefficients look similar, they need to be interpreted in very different ways.\n",
    "4. Interpreting linear regression coefficients is fairly straightforward, and can be verbally describe the coefficients like this: “For every one-unit increase in [X variable], the [y variable] increases by [coefficient] when all other variables are held constant.”\n",
    "5. However, logistic regression coefficients aren’t as easily interpreted. This is because logistic regression uses the logit link function to “bend” our line of best fit and convert our classification problem into a regression problem. Because of the logit function, logistic regression coefficients represent the log odds that an observation is in the target class (“1”) given the values of its X variables. Thus, these log odd coefficients need to be converted to regular odds in order to make sense of them. Happily, this is done by simply exponentiating the log odds coefficients. Now these coefficients can be verbally describe the odds coefficients like this: “For every one-unit increase in [X variable], the odds that the observation is in (y class) are [coefficient] times as large as the odds that the observation is not in (y class) when all other variables are held constant.”\n",
    "6. For example: as variable **space** increases by one unit, the odds that the subreddit represented in the observation are in the target class (\"1\") over 13x as large as the odds that they won't be in the target class. On the other hand, as variable **alien** increases by one unit, the odds that the subreddit are in the target class are 0.018. For odds less than 1 (our negative coefficients), we can take 1/odds to make even better sense of them. So as variable alien increases by one unit, the odds that the subreddit is NOT in the target class are 1/0.018 or 55x  as likely as the odds that IS in the target class."
   ]
  },
  {
   "cell_type": "code",
   "execution_count": 2619,
   "id": "5b7ced8e-12f1-4f34-834e-2f6b9f3ef2c5",
   "metadata": {},
   "outputs": [],
   "source": [
    "# Create a predictions dataframe to store our production model prediction probability of our feature matrix (X)\n",
    "\n",
    "predictions = pd.DataFrame(logreg_tvec_gs.predict_proba(X))\n",
    "predictions['content_token_lemme'] = df_combine['content_token_lemme']\n",
    "predictions.columns = ['aliens', 'space','content_token_lemme']"
   ]
  },
  {
   "cell_type": "code",
   "execution_count": 2620,
   "id": "c9d1d4d8-06e7-4170-a910-853e6f1e0b57",
   "metadata": {},
   "outputs": [
    {
     "data": {
      "text/html": [
       "<div>\n",
       "<style scoped>\n",
       "    .dataframe tbody tr th:only-of-type {\n",
       "        vertical-align: middle;\n",
       "    }\n",
       "\n",
       "    .dataframe tbody tr th {\n",
       "        vertical-align: top;\n",
       "    }\n",
       "\n",
       "    .dataframe thead th {\n",
       "        text-align: right;\n",
       "    }\n",
       "</style>\n",
       "<table border=\"1\" class=\"dataframe\">\n",
       "  <thead>\n",
       "    <tr style=\"text-align: right;\">\n",
       "      <th></th>\n",
       "      <th>aliens</th>\n",
       "      <th>space</th>\n",
       "      <th>content_token_lemme</th>\n",
       "    </tr>\n",
       "  </thead>\n",
       "  <tbody>\n",
       "    <tr>\n",
       "      <th>1051</th>\n",
       "      <td>0.983720</td>\n",
       "      <td>0.016280</td>\n",
       "      <td>james webb space telescope is halfway to the l orbit</td>\n",
       "    </tr>\n",
       "    <tr>\n",
       "      <th>1509</th>\n",
       "      <td>0.983720</td>\n",
       "      <td>0.016280</td>\n",
       "      <td>james webb space telescope s orbit</td>\n",
       "    </tr>\n",
       "    <tr>\n",
       "      <th>1399</th>\n",
       "      <td>0.976651</td>\n",
       "      <td>0.023349</td>\n",
       "      <td>first image come in from the james webb space telescope</td>\n",
       "    </tr>\n",
       "    <tr>\n",
       "      <th>1250</th>\n",
       "      <td>0.976086</td>\n",
       "      <td>0.023914</td>\n",
       "      <td>image of the jwst james webb space telescope trajectory in the czech republic this image is part of the constellation orion barnard loop</td>\n",
       "    </tr>\n",
       "    <tr>\n",
       "      <th>1082</th>\n",
       "      <td>0.975372</td>\n",
       "      <td>0.024628</td>\n",
       "      <td>a space photography odyssey</td>\n",
       "    </tr>\n",
       "    <tr>\n",
       "      <th>899</th>\n",
       "      <td>0.975372</td>\n",
       "      <td>0.024628</td>\n",
       "      <td>space ride</td>\n",
       "    </tr>\n",
       "    <tr>\n",
       "      <th>930</th>\n",
       "      <td>0.975372</td>\n",
       "      <td>0.024628</td>\n",
       "      <td>a space photography odyssey</td>\n",
       "    </tr>\n",
       "    <tr>\n",
       "      <th>900</th>\n",
       "      <td>0.975372</td>\n",
       "      <td>0.024628</td>\n",
       "      <td>i have a crush on space</td>\n",
       "    </tr>\n",
       "    <tr>\n",
       "      <th>1379</th>\n",
       "      <td>0.972769</td>\n",
       "      <td>0.027231</td>\n",
       "      <td>animation the james webb space telescope s orbit</td>\n",
       "    </tr>\n",
       "    <tr>\n",
       "      <th>307</th>\n",
       "      <td>0.969766</td>\n",
       "      <td>0.030234</td>\n",
       "      <td>james webb telescope launch countdown</td>\n",
       "    </tr>\n",
       "  </tbody>\n",
       "</table>\n",
       "</div>"
      ],
      "text/plain": [
       "        aliens     space  \\\n",
       "1051  0.983720  0.016280   \n",
       "1509  0.983720  0.016280   \n",
       "1399  0.976651  0.023349   \n",
       "1250  0.976086  0.023914   \n",
       "1082  0.975372  0.024628   \n",
       "899   0.975372  0.024628   \n",
       "930   0.975372  0.024628   \n",
       "900   0.975372  0.024628   \n",
       "1379  0.972769  0.027231   \n",
       "307   0.969766  0.030234   \n",
       "\n",
       "                                                                                                                           content_token_lemme  \n",
       "1051                                                                                      james webb space telescope is halfway to the l orbit  \n",
       "1509                                                                                                        james webb space telescope s orbit  \n",
       "1399                                                                                   first image come in from the james webb space telescope  \n",
       "1250  image of the jwst james webb space telescope trajectory in the czech republic this image is part of the constellation orion barnard loop  \n",
       "1082                                                                                                               a space photography odyssey  \n",
       "899                                                                                                                                 space ride  \n",
       "930                                                                                                                a space photography odyssey  \n",
       "900                                                                                                                    i have a crush on space  \n",
       "1379                                                                                          animation the james webb space telescope s orbit  \n",
       "307                                                                                                      james webb telescope launch countdown  "
      ]
     },
     "execution_count": 2620,
     "metadata": {},
     "output_type": "execute_result"
    }
   ],
   "source": [
    "# Display the top 10 predictions sorted by aliens probability in descending order \n",
    "\n",
    "predictions.sort_values('aliens', ascending = False).head(10)"
   ]
  },
  {
   "cell_type": "markdown",
   "id": "7c03d875-14fe-4077-b4c9-5ae5292fb5de",
   "metadata": {},
   "source": [
    "<b>Observation<b/> : \n",
    "    \n",
    "1. We can see that our model has a pretty good grasp on typical <mark style=\"background-color: lightgrey\">r/aliens</mark> posts here. Posts that include mention of alien or ufo are strongly predicted as <mark style=\"background-color: lightgrey\">r/aliens</mark> posts."
   ]
  },
  {
   "cell_type": "code",
   "execution_count": 2621,
   "id": "0a13929b-2fa7-45a2-80e1-5014f642b8ae",
   "metadata": {},
   "outputs": [
    {
     "data": {
      "text/html": [
       "<div>\n",
       "<style scoped>\n",
       "    .dataframe tbody tr th:only-of-type {\n",
       "        vertical-align: middle;\n",
       "    }\n",
       "\n",
       "    .dataframe tbody tr th {\n",
       "        vertical-align: top;\n",
       "    }\n",
       "\n",
       "    .dataframe thead th {\n",
       "        text-align: right;\n",
       "    }\n",
       "</style>\n",
       "<table border=\"1\" class=\"dataframe\">\n",
       "  <thead>\n",
       "    <tr style=\"text-align: right;\">\n",
       "      <th></th>\n",
       "      <th>aliens</th>\n",
       "      <th>space</th>\n",
       "      <th>content_token_lemme</th>\n",
       "    </tr>\n",
       "  </thead>\n",
       "  <tbody>\n",
       "    <tr>\n",
       "      <th>681</th>\n",
       "      <td>0.002905</td>\n",
       "      <td>0.997095</td>\n",
       "      <td>ufo alien</td>\n",
       "    </tr>\n",
       "    <tr>\n",
       "      <th>367</th>\n",
       "      <td>0.006039</td>\n",
       "      <td>0.993961</td>\n",
       "      <td>why can t we find alien</td>\n",
       "    </tr>\n",
       "    <tr>\n",
       "      <th>736</th>\n",
       "      <td>0.006039</td>\n",
       "      <td>0.993961</td>\n",
       "      <td>alien or tribal artifact</td>\n",
       "    </tr>\n",
       "    <tr>\n",
       "      <th>767</th>\n",
       "      <td>0.006039</td>\n",
       "      <td>0.993961</td>\n",
       "      <td>scanned amoco alien ad</td>\n",
       "    </tr>\n",
       "    <tr>\n",
       "      <th>718</th>\n",
       "      <td>0.009081</td>\n",
       "      <td>0.990919</td>\n",
       "      <td>ufo and alien s are they real</td>\n",
       "    </tr>\n",
       "    <tr>\n",
       "      <th>775</th>\n",
       "      <td>0.021052</td>\n",
       "      <td>0.978948</td>\n",
       "      <td>grey alien are not actually alien</td>\n",
       "    </tr>\n",
       "    <tr>\n",
       "      <th>777</th>\n",
       "      <td>0.021093</td>\n",
       "      <td>0.978907</td>\n",
       "      <td>alien being human envy</td>\n",
       "    </tr>\n",
       "    <tr>\n",
       "      <th>164</th>\n",
       "      <td>0.023946</td>\n",
       "      <td>0.976054</td>\n",
       "      <td>have you ever had an alien encounter or a ufo sighting</td>\n",
       "    </tr>\n",
       "    <tr>\n",
       "      <th>644</th>\n",
       "      <td>0.025360</td>\n",
       "      <td>0.974640</td>\n",
       "      <td>what s the point even if a full fledged alien walked up to one of you and said he wa an alien you probably wouldn t believe it amp x b alien i m an alien human yeah right dude i know you got in some freak accident that left you looking messed up and you re just trying to mess with me alien my people come from the proxima centauri star system human and you re drinking well that might be how you got in the accident i m done amp x b is their really even a point to any of this what would an alien have to do to prove to some of you it is an alien let me know if you want thank you</td>\n",
       "    </tr>\n",
       "    <tr>\n",
       "      <th>150</th>\n",
       "      <td>0.025780</td>\n",
       "      <td>0.974220</td>\n",
       "      <td>have you ever seen an alien biological extraterrestrial not alien ship but alien being i m very interested in anectodal experience and i believe in ets</td>\n",
       "    </tr>\n",
       "  </tbody>\n",
       "</table>\n",
       "</div>"
      ],
      "text/plain": [
       "       aliens     space  \\\n",
       "681  0.002905  0.997095   \n",
       "367  0.006039  0.993961   \n",
       "736  0.006039  0.993961   \n",
       "767  0.006039  0.993961   \n",
       "718  0.009081  0.990919   \n",
       "775  0.021052  0.978948   \n",
       "777  0.021093  0.978907   \n",
       "164  0.023946  0.976054   \n",
       "644  0.025360  0.974640   \n",
       "150  0.025780  0.974220   \n",
       "\n",
       "                                                                                                                                                                                                                                                                                                                                                                                                                                                                                                                                                                                       content_token_lemme  \n",
       "681                                                                                                                                                                                                                                                                                                                                                                                                                                                                                                                                                                                              ufo alien  \n",
       "367                                                                                                                                                                                                                                                                                                                                                                                                                                                                                                                                                                                why can t we find alien  \n",
       "736                                                                                                                                                                                                                                                                                                                                                                                                                                                                                                                                                                               alien or tribal artifact  \n",
       "767                                                                                                                                                                                                                                                                                                                                                                                                                                                                                                                                                                                 scanned amoco alien ad  \n",
       "718                                                                                                                                                                                                                                                                                                                                                                                                                                                                                                                                                                          ufo and alien s are they real  \n",
       "775                                                                                                                                                                                                                                                                                                                                                                                                                                                                                                                                                                      grey alien are not actually alien  \n",
       "777                                                                                                                                                                                                                                                                                                                                                                                                                                                                                                                                                                                 alien being human envy  \n",
       "164                                                                                                                                                                                                                                                                                                                                                                                                                                                                                                                                                 have you ever had an alien encounter or a ufo sighting  \n",
       "644  what s the point even if a full fledged alien walked up to one of you and said he wa an alien you probably wouldn t believe it amp x b alien i m an alien human yeah right dude i know you got in some freak accident that left you looking messed up and you re just trying to mess with me alien my people come from the proxima centauri star system human and you re drinking well that might be how you got in the accident i m done amp x b is their really even a point to any of this what would an alien have to do to prove to some of you it is an alien let me know if you want thank you  \n",
       "150                                                                                                                                                                                                                                                                                                                                                                                                                                                have you ever seen an alien biological extraterrestrial not alien ship but alien being i m very interested in anectodal experience and i believe in ets  "
      ]
     },
     "execution_count": 2621,
     "metadata": {},
     "output_type": "execute_result"
    }
   ],
   "source": [
    "# Display the top 10 predictions sorted by space probability in descending order \n",
    "\n",
    "predictions.sort_values('space', ascending = False).head(10)"
   ]
  },
  {
   "cell_type": "markdown",
   "id": "662bb6e5-32ed-454a-8730-d7abd9392a4f",
   "metadata": {},
   "source": [
    "<b>Observation<b/> : \n",
    "    \n",
    "1. We see that strongly predicted <mark style=\"background-color: lightgrey\">r/space</mark> posts are posts that involve mention of the James Webb Space Telescope. This suggests that discussion of James Webb Space Telescope issues are largely absent from <mark style=\"background-color: lightgrey\">r/aliens</mark>. We can probably assume that both subreddit doesn't have a particularly intersectional topic."
   ]
  },
  {
   "cell_type": "code",
   "execution_count": 2622,
   "id": "eecbca64-b6bc-4d4f-9adf-eae8470ebb03",
   "metadata": {},
   "outputs": [],
   "source": [
    "# Get the predictions of our feature matrix (X) and add to predictions dataframe\n",
    "# Add the actual results to predictions dataframe\n",
    "\n",
    "predictions['preds'] = logreg_tvec_gs.predict(X)\n",
    "predictions['actual'] = df_combine['is_aliens']\n",
    "\n",
    "# Rearrange the columns\n",
    "predictions = predictions[['aliens', 'space', 'preds', 'actual', 'content_token_lemme']]"
   ]
  },
  {
   "cell_type": "code",
   "execution_count": 2623,
   "id": "1594f44a-d4f2-47ec-82cd-3791fd353a74",
   "metadata": {},
   "outputs": [
    {
     "data": {
      "text/html": [
       "<div>\n",
       "<style scoped>\n",
       "    .dataframe tbody tr th:only-of-type {\n",
       "        vertical-align: middle;\n",
       "    }\n",
       "\n",
       "    .dataframe tbody tr th {\n",
       "        vertical-align: top;\n",
       "    }\n",
       "\n",
       "    .dataframe thead th {\n",
       "        text-align: right;\n",
       "    }\n",
       "</style>\n",
       "<table border=\"1\" class=\"dataframe\">\n",
       "  <thead>\n",
       "    <tr style=\"text-align: right;\">\n",
       "      <th></th>\n",
       "      <th>aliens</th>\n",
       "      <th>space</th>\n",
       "      <th>preds</th>\n",
       "      <th>actual</th>\n",
       "      <th>content_token_lemme</th>\n",
       "    </tr>\n",
       "  </thead>\n",
       "  <tbody>\n",
       "    <tr>\n",
       "      <th>0</th>\n",
       "      <td>0.082431</td>\n",
       "      <td>0.917569</td>\n",
       "      <td>1</td>\n",
       "      <td>1</td>\n",
       "      <td>omg guy there are episode of american horror story where they show a ufo crash president eisenhower how the situation evolved human alien hybrid a treat with alien president kennedy and marylin monroe involved abduction and other stuff i don t want to spoil season episode u can find it on disney or on the internet it s worth episode came out in august and in one of them they say that in a perfect human alien hybrid is born it s just a tv series but what if</td>\n",
       "    </tr>\n",
       "    <tr>\n",
       "      <th>1</th>\n",
       "      <td>0.204792</td>\n",
       "      <td>0.795208</td>\n",
       "      <td>1</td>\n",
       "      <td>1</td>\n",
       "      <td>the rendlesham glyph contain a humanoid and a mantis the rendlesham glyph these are the glyph that were seen by penniston when he observed the triangular craft up close noone ha yet deciphered them shape look humanoid shape look mantis like triangular head long neck then multiple set of limb a regular praying if this is true do the glyph then represent specie what do you guy think</td>\n",
       "    </tr>\n",
       "    <tr>\n",
       "      <th>2</th>\n",
       "      <td>0.383485</td>\n",
       "      <td>0.616515</td>\n",
       "      <td>1</td>\n",
       "      <td>1</td>\n",
       "      <td>the rendlesham glyph contain a humanoid and a mantis glyph and</td>\n",
       "    </tr>\n",
       "    <tr>\n",
       "      <th>3</th>\n",
       "      <td>0.229525</td>\n",
       "      <td>0.770475</td>\n",
       "      <td>1</td>\n",
       "      <td>1</td>\n",
       "      <td>any new ufo uap documentary to watch i m pretty sure i ve watched all there is to watch since early may wa hoping there wa more to watch a i feel the need to feed my obsession</td>\n",
       "    </tr>\n",
       "    <tr>\n",
       "      <th>4</th>\n",
       "      <td>0.523711</td>\n",
       "      <td>0.476289</td>\n",
       "      <td>0</td>\n",
       "      <td>1</td>\n",
       "      <td>any explantation for this</td>\n",
       "    </tr>\n",
       "  </tbody>\n",
       "</table>\n",
       "</div>"
      ],
      "text/plain": [
       "     aliens     space  preds  actual  \\\n",
       "0  0.082431  0.917569      1       1   \n",
       "1  0.204792  0.795208      1       1   \n",
       "2  0.383485  0.616515      1       1   \n",
       "3  0.229525  0.770475      1       1   \n",
       "4  0.523711  0.476289      0       1   \n",
       "\n",
       "                                                                                                                                                                                                                                                                                                                                                                                                                                                            content_token_lemme  \n",
       "0  omg guy there are episode of american horror story where they show a ufo crash president eisenhower how the situation evolved human alien hybrid a treat with alien president kennedy and marylin monroe involved abduction and other stuff i don t want to spoil season episode u can find it on disney or on the internet it s worth episode came out in august and in one of them they say that in a perfect human alien hybrid is born it s just a tv series but what if  \n",
       "1                                                                               the rendlesham glyph contain a humanoid and a mantis the rendlesham glyph these are the glyph that were seen by penniston when he observed the triangular craft up close noone ha yet deciphered them shape look humanoid shape look mantis like triangular head long neck then multiple set of limb a regular praying if this is true do the glyph then represent specie what do you guy think  \n",
       "2                                                                                                                                                                                                                                                                                                                                                                                                                the rendlesham glyph contain a humanoid and a mantis glyph and  \n",
       "3                                                                                                                                                                                                                                                                                               any new ufo uap documentary to watch i m pretty sure i ve watched all there is to watch since early may wa hoping there wa more to watch a i feel the need to feed my obsession  \n",
       "4                                                                                                                                                                                                                                                                                                                                                                                                                                                     any explantation for this  "
      ]
     },
     "execution_count": 2623,
     "metadata": {},
     "output_type": "execute_result"
    }
   ],
   "source": [
    "# Check the first 5 rows of predictions dataframe\n",
    "\n",
    "predictions.head()"
   ]
  },
  {
   "cell_type": "code",
   "execution_count": 2624,
   "id": "1ee01e5a-3d16-4f43-8aff-99605b086b35",
   "metadata": {},
   "outputs": [],
   "source": [
    "# Filter predictions dataframe where predictions not equal to actual\n",
    "\n",
    "wrong_predictions = predictions[predictions['preds'] != predictions['actual']]"
   ]
  },
  {
   "cell_type": "code",
   "execution_count": 2625,
   "id": "43e450d6-cdf5-4448-8585-0604c433ea3b",
   "metadata": {},
   "outputs": [
    {
     "data": {
      "text/html": [
       "<div>\n",
       "<style scoped>\n",
       "    .dataframe tbody tr th:only-of-type {\n",
       "        vertical-align: middle;\n",
       "    }\n",
       "\n",
       "    .dataframe tbody tr th {\n",
       "        vertical-align: top;\n",
       "    }\n",
       "\n",
       "    .dataframe thead th {\n",
       "        text-align: right;\n",
       "    }\n",
       "</style>\n",
       "<table border=\"1\" class=\"dataframe\">\n",
       "  <thead>\n",
       "    <tr style=\"text-align: right;\">\n",
       "      <th></th>\n",
       "      <th>aliens</th>\n",
       "      <th>space</th>\n",
       "      <th>preds</th>\n",
       "      <th>actual</th>\n",
       "      <th>content_token_lemme</th>\n",
       "    </tr>\n",
       "  </thead>\n",
       "  <tbody>\n",
       "    <tr>\n",
       "      <th>800</th>\n",
       "      <td>0.335792</td>\n",
       "      <td>0.664208</td>\n",
       "      <td>1</td>\n",
       "      <td>0</td>\n",
       "      <td>what s the minimal negative g force human could survive i read somewere that human could survive g force not smaller than g is that true</td>\n",
       "    </tr>\n",
       "    <tr>\n",
       "      <th>908</th>\n",
       "      <td>0.274424</td>\n",
       "      <td>0.725576</td>\n",
       "      <td>1</td>\n",
       "      <td>0</td>\n",
       "      <td>greed v existence don t look up movie thought</td>\n",
       "    </tr>\n",
       "    <tr>\n",
       "      <th>923</th>\n",
       "      <td>0.228403</td>\n",
       "      <td>0.771597</td>\n",
       "      <td>1</td>\n",
       "      <td>0</td>\n",
       "      <td>ufo i m jake paul video</td>\n",
       "    </tr>\n",
       "    <tr>\n",
       "      <th>929</th>\n",
       "      <td>0.474396</td>\n",
       "      <td>0.525604</td>\n",
       "      <td>1</td>\n",
       "      <td>0</td>\n",
       "      <td>anybody seen the flashing below beteleguise just now happened on both side of it for about min wondering what it wa</td>\n",
       "    </tr>\n",
       "    <tr>\n",
       "      <th>942</th>\n",
       "      <td>0.351275</td>\n",
       "      <td>0.648725</td>\n",
       "      <td>1</td>\n",
       "      <td>0</td>\n",
       "      <td>thinking of the big bang we shouldn t think of it a something that happened but rather a something that is happening and we are still currently experiencing i ll publish an article later today on what i mean so this doesn t need to be removed</td>\n",
       "    </tr>\n",
       "    <tr>\n",
       "      <th>959</th>\n",
       "      <td>0.485281</td>\n",
       "      <td>0.514719</td>\n",
       "      <td>1</td>\n",
       "      <td>0</td>\n",
       "      <td>pic i found hope you like it</td>\n",
       "    </tr>\n",
       "    <tr>\n",
       "      <th>966</th>\n",
       "      <td>0.323569</td>\n",
       "      <td>0.676431</td>\n",
       "      <td>1</td>\n",
       "      <td>0</td>\n",
       "      <td>don t look up on netflix idiocracy although this movie ha mixed review right now i feel it might grow on audience later on and become one of the cult movie just like idiocracy</td>\n",
       "    </tr>\n",
       "    <tr>\n",
       "      <th>970</th>\n",
       "      <td>0.490955</td>\n",
       "      <td>0.509045</td>\n",
       "      <td>1</td>\n",
       "      <td>0</td>\n",
       "      <td>don t look up on netflix just finished watching don t look up on netflix and i m rolling on the floor it s a dark comedy and you need to watched it through to the rolling credit</td>\n",
       "    </tr>\n",
       "    <tr>\n",
       "      <th>1005</th>\n",
       "      <td>0.493889</td>\n",
       "      <td>0.506111</td>\n",
       "      <td>1</td>\n",
       "      <td>0</td>\n",
       "      <td>how to view any instagram video or account without having an account tip that will tell you how to view instagram without having an account</td>\n",
       "    </tr>\n",
       "    <tr>\n",
       "      <th>1015</th>\n",
       "      <td>0.439650</td>\n",
       "      <td>0.560350</td>\n",
       "      <td>1</td>\n",
       "      <td>0</td>\n",
       "      <td>is it possible there wa another big bang somewhere</td>\n",
       "    </tr>\n",
       "    <tr>\n",
       "      <th>1024</th>\n",
       "      <td>0.405642</td>\n",
       "      <td>0.594358</td>\n",
       "      <td>1</td>\n",
       "      <td>0</td>\n",
       "      <td>how to find alien dyson sphere</td>\n",
       "    </tr>\n",
       "    <tr>\n",
       "      <th>1026</th>\n",
       "      <td>0.232799</td>\n",
       "      <td>0.767201</td>\n",
       "      <td>1</td>\n",
       "      <td>0</td>\n",
       "      <td>is it possible to detect alien life in exoplanets based on the influence they have in their own planet atmosphere</td>\n",
       "    </tr>\n",
       "    <tr>\n",
       "      <th>1042</th>\n",
       "      <td>0.478092</td>\n",
       "      <td>0.521908</td>\n",
       "      <td>1</td>\n",
       "      <td>0</td>\n",
       "      <td>a big fu to reddit</td>\n",
       "    </tr>\n",
       "    <tr>\n",
       "      <th>1047</th>\n",
       "      <td>0.460205</td>\n",
       "      <td>0.539795</td>\n",
       "      <td>1</td>\n",
       "      <td>0</td>\n",
       "      <td>ask ethan how long until our calendar need replacing</td>\n",
       "    </tr>\n",
       "    <tr>\n",
       "      <th>1075</th>\n",
       "      <td>0.405666</td>\n",
       "      <td>0.594334</td>\n",
       "      <td>1</td>\n",
       "      <td>0</td>\n",
       "      <td>how to use telegram without sharing contact</td>\n",
       "    </tr>\n",
       "    <tr>\n",
       "      <th>1080</th>\n",
       "      <td>0.472037</td>\n",
       "      <td>0.527963</td>\n",
       "      <td>1</td>\n",
       "      <td>0</td>\n",
       "      <td>kic the strangeness continues any thought on this by other expert here seems very interesting</td>\n",
       "    </tr>\n",
       "    <tr>\n",
       "      <th>1084</th>\n",
       "      <td>0.483422</td>\n",
       "      <td>0.516578</td>\n",
       "      <td>1</td>\n",
       "      <td>0</td>\n",
       "      <td>my hand washer are venus i guess</td>\n",
       "    </tr>\n",
       "    <tr>\n",
       "      <th>1092</th>\n",
       "      <td>0.240784</td>\n",
       "      <td>0.759216</td>\n",
       "      <td>1</td>\n",
       "      <td>0</td>\n",
       "      <td>i think you gonna like this ufo science animation</td>\n",
       "    </tr>\n",
       "    <tr>\n",
       "      <th>1120</th>\n",
       "      <td>0.467522</td>\n",
       "      <td>0.532478</td>\n",
       "      <td>1</td>\n",
       "      <td>0</td>\n",
       "      <td>a conversation on the universe anti science and vexed question of ufo with neil degrasse tyson</td>\n",
       "    </tr>\n",
       "    <tr>\n",
       "      <th>1145</th>\n",
       "      <td>0.266095</td>\n",
       "      <td>0.733905</td>\n",
       "      <td>1</td>\n",
       "      <td>0</td>\n",
       "      <td>wa so weird that big ufo news totally went over our head</td>\n",
       "    </tr>\n",
       "    <tr>\n",
       "      <th>1154</th>\n",
       "      <td>0.408511</td>\n",
       "      <td>0.591489</td>\n",
       "      <td>1</td>\n",
       "      <td>0</td>\n",
       "      <td>know all about the bittrex error generating address</td>\n",
       "    </tr>\n",
       "    <tr>\n",
       "      <th>1155</th>\n",
       "      <td>0.418195</td>\n",
       "      <td>0.581805</td>\n",
       "      <td>1</td>\n",
       "      <td>0</td>\n",
       "      <td>life on venus could be hiding in it weird cloud</td>\n",
       "    </tr>\n",
       "    <tr>\n",
       "      <th>1168</th>\n",
       "      <td>0.463704</td>\n",
       "      <td>0.536296</td>\n",
       "      <td>1</td>\n",
       "      <td>0</td>\n",
       "      <td>how bright is amdromeda in person</td>\n",
       "    </tr>\n",
       "    <tr>\n",
       "      <th>1180</th>\n",
       "      <td>0.363033</td>\n",
       "      <td>0.636967</td>\n",
       "      <td>1</td>\n",
       "      <td>0</td>\n",
       "      <td>an m paint build a system kit for everyone s use i can t take all the credit it mostly a few addition to slimysomething s original design i think it s very nice and would like to share it s</td>\n",
       "    </tr>\n",
       "    <tr>\n",
       "      <th>1182</th>\n",
       "      <td>0.420310</td>\n",
       "      <td>0.579690</td>\n",
       "      <td>1</td>\n",
       "      <td>0</td>\n",
       "      <td>the universe is expanding faster than light which mean it ha acceleration einstein said acceleration and gravity are the same thing so could this explain dark energy matter</td>\n",
       "    </tr>\n",
       "    <tr>\n",
       "      <th>1203</th>\n",
       "      <td>0.357414</td>\n",
       "      <td>0.642586</td>\n",
       "      <td>1</td>\n",
       "      <td>0</td>\n",
       "      <td>nasa hasn t hired theologian to study reaction to alien life</td>\n",
       "    </tr>\n",
       "    <tr>\n",
       "      <th>1231</th>\n",
       "      <td>0.388263</td>\n",
       "      <td>0.611737</td>\n",
       "      <td>1</td>\n",
       "      <td>0</td>\n",
       "      <td>what if the earth stopped spinning will humanity end will it be end of the world</td>\n",
       "    </tr>\n",
       "    <tr>\n",
       "      <th>1251</th>\n",
       "      <td>0.259658</td>\n",
       "      <td>0.740342</td>\n",
       "      <td>1</td>\n",
       "      <td>0</td>\n",
       "      <td>ufo flight antigravitics compared to an ordinary airplane</td>\n",
       "    </tr>\n",
       "    <tr>\n",
       "      <th>1278</th>\n",
       "      <td>0.498852</td>\n",
       "      <td>0.501148</td>\n",
       "      <td>1</td>\n",
       "      <td>0</td>\n",
       "      <td>lot of talk about lagrange point recently let scott manley explain them if you re curious</td>\n",
       "    </tr>\n",
       "    <tr>\n",
       "      <th>1284</th>\n",
       "      <td>0.434125</td>\n",
       "      <td>0.565875</td>\n",
       "      <td>1</td>\n",
       "      <td>0</td>\n",
       "      <td>from this planetary fact sheet what doe it mean that venus ha a rotation period of hour doe it mean that venus is spinning the other direction or doe it mean something else thanks</td>\n",
       "    </tr>\n",
       "    <tr>\n",
       "      <th>1287</th>\n",
       "      <td>0.493136</td>\n",
       "      <td>0.506864</td>\n",
       "      <td>1</td>\n",
       "      <td>0</td>\n",
       "      <td>the chandrasekhar limit feat dr fransesc ferrer</td>\n",
       "    </tr>\n",
       "    <tr>\n",
       "      <th>1306</th>\n",
       "      <td>0.373878</td>\n",
       "      <td>0.626122</td>\n",
       "      <td>1</td>\n",
       "      <td>0</td>\n",
       "      <td>friend merry christmas please add me to your friend s for raid s optimosis i hope everyone have a merry christmas</td>\n",
       "    </tr>\n",
       "    <tr>\n",
       "      <th>1329</th>\n",
       "      <td>0.453574</td>\n",
       "      <td>0.546426</td>\n",
       "      <td>1</td>\n",
       "      <td>0</td>\n",
       "      <td>if jwst ever find trace of intelligent life do you think we would ever find out or it would be kept a secret</td>\n",
       "    </tr>\n",
       "    <tr>\n",
       "      <th>1341</th>\n",
       "      <td>0.330623</td>\n",
       "      <td>0.669377</td>\n",
       "      <td>1</td>\n",
       "      <td>0</td>\n",
       "      <td>alien encounter protocol are there any official document or knowledge out there anyone ha a to info about if any country have any protocol procedure set up to do if an encounter take place</td>\n",
       "    </tr>\n",
       "    <tr>\n",
       "      <th>1371</th>\n",
       "      <td>0.189421</td>\n",
       "      <td>0.810579</td>\n",
       "      <td>1</td>\n",
       "      <td>0</td>\n",
       "      <td>alien say hi</td>\n",
       "    </tr>\n",
       "    <tr>\n",
       "      <th>1386</th>\n",
       "      <td>0.291190</td>\n",
       "      <td>0.708810</td>\n",
       "      <td>1</td>\n",
       "      <td>0</td>\n",
       "      <td>nothing ha ever made me feel so small</td>\n",
       "    </tr>\n",
       "    <tr>\n",
       "      <th>1394</th>\n",
       "      <td>0.379874</td>\n",
       "      <td>0.620126</td>\n",
       "      <td>1</td>\n",
       "      <td>0</td>\n",
       "      <td>how did they discover quasar in the s</td>\n",
       "    </tr>\n",
       "    <tr>\n",
       "      <th>1411</th>\n",
       "      <td>0.446416</td>\n",
       "      <td>0.553584</td>\n",
       "      <td>1</td>\n",
       "      <td>0</td>\n",
       "      <td>ign there s a weird cube on the moon ign</td>\n",
       "    </tr>\n",
       "    <tr>\n",
       "      <th>1417</th>\n",
       "      <td>0.488004</td>\n",
       "      <td>0.511996</td>\n",
       "      <td>1</td>\n",
       "      <td>0</td>\n",
       "      <td>astonishing reason why we know god created the universe</td>\n",
       "    </tr>\n",
       "    <tr>\n",
       "      <th>1436</th>\n",
       "      <td>0.368508</td>\n",
       "      <td>0.631492</td>\n",
       "      <td>1</td>\n",
       "      <td>0</td>\n",
       "      <td>got this with my new nexstar se if my alignment wa correct that is the general area of m doesn t look like any pic i ve seen of andromeda though any insight</td>\n",
       "    </tr>\n",
       "    <tr>\n",
       "      <th>1454</th>\n",
       "      <td>0.472779</td>\n",
       "      <td>0.527221</td>\n",
       "      <td>1</td>\n",
       "      <td>0</td>\n",
       "      <td>this really cool book i got for cristmass this year</td>\n",
       "    </tr>\n",
       "    <tr>\n",
       "      <th>1457</th>\n",
       "      <td>0.413377</td>\n",
       "      <td>0.586623</td>\n",
       "      <td>1</td>\n",
       "      <td>0</td>\n",
       "      <td>the firmament short film</td>\n",
       "    </tr>\n",
       "    <tr>\n",
       "      <th>1489</th>\n",
       "      <td>0.424900</td>\n",
       "      <td>0.575100</td>\n",
       "      <td>1</td>\n",
       "      <td>0</td>\n",
       "      <td>can it i wa wondering if the speed of an object could cancel the force of a magnet no matter how strong it is</td>\n",
       "    </tr>\n",
       "    <tr>\n",
       "      <th>1549</th>\n",
       "      <td>0.452544</td>\n",
       "      <td>0.547456</td>\n",
       "      <td>1</td>\n",
       "      <td>0</td>\n",
       "      <td>mcc a i wa busy with family damned holiday interrupting my nerdery and didn t see anything about the first mid course correction did everything go swimmingly</td>\n",
       "    </tr>\n",
       "    <tr>\n",
       "      <th>1550</th>\n",
       "      <td>0.480186</td>\n",
       "      <td>0.519814</td>\n",
       "      <td>1</td>\n",
       "      <td>0</td>\n",
       "      <td>isaac newton day i can not belive that no one ha mentioned isaac newton at all to day the inventer of gravity him self all anyone is talking about is some weeb called james</td>\n",
       "    </tr>\n",
       "    <tr>\n",
       "      <th>1562</th>\n",
       "      <td>0.278929</td>\n",
       "      <td>0.721071</td>\n",
       "      <td>1</td>\n",
       "      <td>0</td>\n",
       "      <td>what are these i saw them today while driving i m downer grove il pm</td>\n",
       "    </tr>\n",
       "    <tr>\n",
       "      <th>1567</th>\n",
       "      <td>0.485184</td>\n",
       "      <td>0.514816</td>\n",
       "      <td>1</td>\n",
       "      <td>0</td>\n",
       "      <td>gyan ganga realspiritual knowledge saintrampalji</td>\n",
       "    </tr>\n",
       "  </tbody>\n",
       "</table>\n",
       "</div>"
      ],
      "text/plain": [
       "        aliens     space  preds  actual  \\\n",
       "800   0.335792  0.664208      1       0   \n",
       "908   0.274424  0.725576      1       0   \n",
       "923   0.228403  0.771597      1       0   \n",
       "929   0.474396  0.525604      1       0   \n",
       "942   0.351275  0.648725      1       0   \n",
       "959   0.485281  0.514719      1       0   \n",
       "966   0.323569  0.676431      1       0   \n",
       "970   0.490955  0.509045      1       0   \n",
       "1005  0.493889  0.506111      1       0   \n",
       "1015  0.439650  0.560350      1       0   \n",
       "1024  0.405642  0.594358      1       0   \n",
       "1026  0.232799  0.767201      1       0   \n",
       "1042  0.478092  0.521908      1       0   \n",
       "1047  0.460205  0.539795      1       0   \n",
       "1075  0.405666  0.594334      1       0   \n",
       "1080  0.472037  0.527963      1       0   \n",
       "1084  0.483422  0.516578      1       0   \n",
       "1092  0.240784  0.759216      1       0   \n",
       "1120  0.467522  0.532478      1       0   \n",
       "1145  0.266095  0.733905      1       0   \n",
       "1154  0.408511  0.591489      1       0   \n",
       "1155  0.418195  0.581805      1       0   \n",
       "1168  0.463704  0.536296      1       0   \n",
       "1180  0.363033  0.636967      1       0   \n",
       "1182  0.420310  0.579690      1       0   \n",
       "1203  0.357414  0.642586      1       0   \n",
       "1231  0.388263  0.611737      1       0   \n",
       "1251  0.259658  0.740342      1       0   \n",
       "1278  0.498852  0.501148      1       0   \n",
       "1284  0.434125  0.565875      1       0   \n",
       "1287  0.493136  0.506864      1       0   \n",
       "1306  0.373878  0.626122      1       0   \n",
       "1329  0.453574  0.546426      1       0   \n",
       "1341  0.330623  0.669377      1       0   \n",
       "1371  0.189421  0.810579      1       0   \n",
       "1386  0.291190  0.708810      1       0   \n",
       "1394  0.379874  0.620126      1       0   \n",
       "1411  0.446416  0.553584      1       0   \n",
       "1417  0.488004  0.511996      1       0   \n",
       "1436  0.368508  0.631492      1       0   \n",
       "1454  0.472779  0.527221      1       0   \n",
       "1457  0.413377  0.586623      1       0   \n",
       "1489  0.424900  0.575100      1       0   \n",
       "1549  0.452544  0.547456      1       0   \n",
       "1550  0.480186  0.519814      1       0   \n",
       "1562  0.278929  0.721071      1       0   \n",
       "1567  0.485184  0.514816      1       0   \n",
       "\n",
       "                                                                                                                                                                                                                                     content_token_lemme  \n",
       "800                                                                                                             what s the minimal negative g force human could survive i read somewere that human could survive g force not smaller than g is that true  \n",
       "908                                                                                                                                                                                                        greed v existence don t look up movie thought  \n",
       "923                                                                                                                                                                                                                              ufo i m jake paul video  \n",
       "929                                                                                                                                  anybody seen the flashing below beteleguise just now happened on both side of it for about min wondering what it wa  \n",
       "942   thinking of the big bang we shouldn t think of it a something that happened but rather a something that is happening and we are still currently experiencing i ll publish an article later today on what i mean so this doesn t need to be removed  \n",
       "959                                                                                                                                                                                                                         pic i found hope you like it  \n",
       "966                                                                      don t look up on netflix idiocracy although this movie ha mixed review right now i feel it might grow on audience later on and become one of the cult movie just like idiocracy  \n",
       "970                                                                    don t look up on netflix just finished watching don t look up on netflix and i m rolling on the floor it s a dark comedy and you need to watched it through to the rolling credit  \n",
       "1005                                                                                                         how to view any instagram video or account without having an account tip that will tell you how to view instagram without having an account  \n",
       "1015                                                                                                                                                                                                  is it possible there wa another big bang somewhere  \n",
       "1024                                                                                                                                                                                                                      how to find alien dyson sphere  \n",
       "1026                                                                                                                                   is it possible to detect alien life in exoplanets based on the influence they have in their own planet atmosphere  \n",
       "1042                                                                                                                                                                                                                                  a big fu to reddit  \n",
       "1047                                                                                                                                                                                                ask ethan how long until our calendar need replacing  \n",
       "1075                                                                                                                                                                                                         how to use telegram without sharing contact  \n",
       "1080                                                                                                                                                       kic the strangeness continues any thought on this by other expert here seems very interesting  \n",
       "1084                                                                                                                                                                                                                    my hand washer are venus i guess  \n",
       "1092                                                                                                                                                                                                   i think you gonna like this ufo science animation  \n",
       "1120                                                                                                                                                      a conversation on the universe anti science and vexed question of ufo with neil degrasse tyson  \n",
       "1145                                                                                                                                                                                            wa so weird that big ufo news totally went over our head  \n",
       "1154                                                                                                                                                                                                 know all about the bittrex error generating address  \n",
       "1155                                                                                                                                                                                                     life on venus could be hiding in it weird cloud  \n",
       "1168                                                                                                                                                                                                                   how bright is amdromeda in person  \n",
       "1180                                                       an m paint build a system kit for everyone s use i can t take all the credit it mostly a few addition to slimysomething s original design i think it s very nice and would like to share it s  \n",
       "1182                                                                        the universe is expanding faster than light which mean it ha acceleration einstein said acceleration and gravity are the same thing so could this explain dark energy matter  \n",
       "1203                                                                                                                                                                                        nasa hasn t hired theologian to study reaction to alien life  \n",
       "1231                                                                                                                                                                    what if the earth stopped spinning will humanity end will it be end of the world  \n",
       "1251                                                                                                                                                                                           ufo flight antigravitics compared to an ordinary airplane  \n",
       "1278                                                                                                                                                           lot of talk about lagrange point recently let scott manley explain them if you re curious  \n",
       "1284                                                                 from this planetary fact sheet what doe it mean that venus ha a rotation period of hour doe it mean that venus is spinning the other direction or doe it mean something else thanks  \n",
       "1287                                                                                                                                                                                                     the chandrasekhar limit feat dr fransesc ferrer  \n",
       "1306                                                                                                                                   friend merry christmas please add me to your friend s for raid s optimosis i hope everyone have a merry christmas  \n",
       "1329                                                                                                                                        if jwst ever find trace of intelligent life do you think we would ever find out or it would be kept a secret  \n",
       "1341                                                        alien encounter protocol are there any official document or knowledge out there anyone ha a to info about if any country have any protocol procedure set up to do if an encounter take place  \n",
       "1371                                                                                                                                                                                                                                        alien say hi  \n",
       "1386                                                                                                                                                                                                               nothing ha ever made me feel so small  \n",
       "1394                                                                                                                                                                                                               how did they discover quasar in the s  \n",
       "1411                                                                                                                                                                                                            ign there s a weird cube on the moon ign  \n",
       "1417                                                                                                                                                                                             astonishing reason why we know god created the universe  \n",
       "1436                                                                                        got this with my new nexstar se if my alignment wa correct that is the general area of m doesn t look like any pic i ve seen of andromeda though any insight  \n",
       "1454                                                                                                                                                                                                 this really cool book i got for cristmass this year  \n",
       "1457                                                                                                                                                                                                                            the firmament short film  \n",
       "1489                                                                                                                                       can it i wa wondering if the speed of an object could cancel the force of a magnet no matter how strong it is  \n",
       "1549                                                                                       mcc a i wa busy with family damned holiday interrupting my nerdery and didn t see anything about the first mid course correction did everything go swimmingly  \n",
       "1550                                                                        isaac newton day i can not belive that no one ha mentioned isaac newton at all to day the inventer of gravity him self all anyone is talking about is some weeb called james  \n",
       "1562                                                                                                                                                                                what are these i saw them today while driving i m downer grove il pm  \n",
       "1567                                                                                                                                                                                                    gyan ganga realspiritual knowledge saintrampalji  "
      ]
     },
     "execution_count": 2625,
     "metadata": {},
     "output_type": "execute_result"
    }
   ],
   "source": [
    "# False positive - posts that wrongly classifies as space subreddit\n",
    "\n",
    "wrong_predictions[wrong_predictions['preds'] == 1]"
   ]
  },
  {
   "cell_type": "code",
   "execution_count": 2626,
   "id": "e459ba1b-d7a4-4f25-97f8-f4a0d78ec68b",
   "metadata": {},
   "outputs": [
    {
     "data": {
      "text/html": [
       "<div>\n",
       "<style scoped>\n",
       "    .dataframe tbody tr th:only-of-type {\n",
       "        vertical-align: middle;\n",
       "    }\n",
       "\n",
       "    .dataframe tbody tr th {\n",
       "        vertical-align: top;\n",
       "    }\n",
       "\n",
       "    .dataframe thead th {\n",
       "        text-align: right;\n",
       "    }\n",
       "</style>\n",
       "<table border=\"1\" class=\"dataframe\">\n",
       "  <thead>\n",
       "    <tr style=\"text-align: right;\">\n",
       "      <th></th>\n",
       "      <th>aliens</th>\n",
       "      <th>space</th>\n",
       "      <th>preds</th>\n",
       "      <th>actual</th>\n",
       "      <th>content_token_lemme</th>\n",
       "    </tr>\n",
       "  </thead>\n",
       "  <tbody>\n",
       "    <tr>\n",
       "      <th>4</th>\n",
       "      <td>0.523711</td>\n",
       "      <td>0.476289</td>\n",
       "      <td>0</td>\n",
       "      <td>1</td>\n",
       "      <td>any explantation for this</td>\n",
       "    </tr>\n",
       "    <tr>\n",
       "      <th>6</th>\n",
       "      <td>0.600220</td>\n",
       "      <td>0.399780</td>\n",
       "      <td>0</td>\n",
       "      <td>1</td>\n",
       "      <td>secret space program ssp and the cold war</td>\n",
       "    </tr>\n",
       "    <tr>\n",
       "      <th>12</th>\n",
       "      <td>0.739988</td>\n",
       "      <td>0.260012</td>\n",
       "      <td>0</td>\n",
       "      <td>1</td>\n",
       "      <td>new study say the octopus may have come from space</td>\n",
       "    </tr>\n",
       "    <tr>\n",
       "      <th>62</th>\n",
       "      <td>0.523711</td>\n",
       "      <td>0.476289</td>\n",
       "      <td>0</td>\n",
       "      <td>1</td>\n",
       "      <td>atmospheric compatibility</td>\n",
       "    </tr>\n",
       "    <tr>\n",
       "      <th>77</th>\n",
       "      <td>0.523711</td>\n",
       "      <td>0.476289</td>\n",
       "      <td>0</td>\n",
       "      <td>1</td>\n",
       "      <td>i will hug him and squeeze him and call him george</td>\n",
       "    </tr>\n",
       "    <tr>\n",
       "      <th>85</th>\n",
       "      <td>0.566228</td>\n",
       "      <td>0.433772</td>\n",
       "      <td>0</td>\n",
       "      <td>1</td>\n",
       "      <td>happy new year earthling</td>\n",
       "    </tr>\n",
       "    <tr>\n",
       "      <th>96</th>\n",
       "      <td>0.585751</td>\n",
       "      <td>0.414249</td>\n",
       "      <td>0</td>\n",
       "      <td>1</td>\n",
       "      <td>on a bug hunt for new year eve</td>\n",
       "    </tr>\n",
       "    <tr>\n",
       "      <th>103</th>\n",
       "      <td>0.600024</td>\n",
       "      <td>0.399976</td>\n",
       "      <td>0</td>\n",
       "      <td>1</td>\n",
       "      <td>how far in the future are we from reaching star trek level of tech how far in the future are we from reaching star trek level of tech</td>\n",
       "    </tr>\n",
       "    <tr>\n",
       "      <th>110</th>\n",
       "      <td>0.516157</td>\n",
       "      <td>0.483843</td>\n",
       "      <td>0</td>\n",
       "      <td>1</td>\n",
       "      <td>wa it only a paper moon</td>\n",
       "    </tr>\n",
       "    <tr>\n",
       "      <th>125</th>\n",
       "      <td>0.508204</td>\n",
       "      <td>0.491796</td>\n",
       "      <td>0</td>\n",
       "      <td>1</td>\n",
       "      <td>weird blue shape zoom in to the right next to wtc</td>\n",
       "    </tr>\n",
       "    <tr>\n",
       "      <th>126</th>\n",
       "      <td>0.549969</td>\n",
       "      <td>0.450031</td>\n",
       "      <td>0</td>\n",
       "      <td>1</td>\n",
       "      <td>a tower spotted in a crater on the moon</td>\n",
       "    </tr>\n",
       "    <tr>\n",
       "      <th>139</th>\n",
       "      <td>0.513961</td>\n",
       "      <td>0.486039</td>\n",
       "      <td>0</td>\n",
       "      <td>1</td>\n",
       "      <td>i recently found this photograph and noticed an object in the upper right corner of this photograph of my father taken in what do you think</td>\n",
       "    </tr>\n",
       "    <tr>\n",
       "      <th>145</th>\n",
       "      <td>0.537602</td>\n",
       "      <td>0.462398</td>\n",
       "      <td>0</td>\n",
       "      <td>1</td>\n",
       "      <td>water on earth the earth is b year old and the milky way is b alien discovered a goldilocks planet then steered icy asteroid at it over the course of thousand of year to give it the water it needed to start the colonization process every other goldilocks planet in the milky way ha water on it and life all billion of them alien are machine and have been doing this for billion of year human are good at colonizing earth like planet and other humanoid are good for other planet this is the origin of water on earth wiki</td>\n",
       "    </tr>\n",
       "    <tr>\n",
       "      <th>151</th>\n",
       "      <td>0.530601</td>\n",
       "      <td>0.469399</td>\n",
       "      <td>0</td>\n",
       "      <td>1</td>\n",
       "      <td>a nasa captura imagens de objeto n o identificado em marte youtubeisl</td>\n",
       "    </tr>\n",
       "    <tr>\n",
       "      <th>156</th>\n",
       "      <td>0.636700</td>\n",
       "      <td>0.363300</td>\n",
       "      <td>0</td>\n",
       "      <td>1</td>\n",
       "      <td>kic tabby s star</td>\n",
       "    </tr>\n",
       "    <tr>\n",
       "      <th>201</th>\n",
       "      <td>0.548723</td>\n",
       "      <td>0.451277</td>\n",
       "      <td>0</td>\n",
       "      <td>1</td>\n",
       "      <td>i recently caught through the telescope a structure of some unidentified object passed over the surface of the moon what are these</td>\n",
       "    </tr>\n",
       "    <tr>\n",
       "      <th>204</th>\n",
       "      <td>0.678062</td>\n",
       "      <td>0.321938</td>\n",
       "      <td>0</td>\n",
       "      <td>1</td>\n",
       "      <td>james webb telescope live track incredible view of earth will we find life</td>\n",
       "    </tr>\n",
       "    <tr>\n",
       "      <th>215</th>\n",
       "      <td>0.564178</td>\n",
       "      <td>0.435822</td>\n",
       "      <td>0</td>\n",
       "      <td>1</td>\n",
       "      <td>david bohm non locality and the holographic universe</td>\n",
       "    </tr>\n",
       "    <tr>\n",
       "      <th>222</th>\n",
       "      <td>0.523711</td>\n",
       "      <td>0.476289</td>\n",
       "      <td>0</td>\n",
       "      <td>1</td>\n",
       "      <td>welcoming party</td>\n",
       "    </tr>\n",
       "    <tr>\n",
       "      <th>251</th>\n",
       "      <td>0.510592</td>\n",
       "      <td>0.489408</td>\n",
       "      <td>0</td>\n",
       "      <td>1</td>\n",
       "      <td>jwst zeta reticuli apart from the multitude of story betty amp barney hill bob lazar skinny bob alleging sign of life within the zeta reticuli star system doe the jwst have any scientific reason to look there</td>\n",
       "    </tr>\n",
       "    <tr>\n",
       "      <th>260</th>\n",
       "      <td>0.616174</td>\n",
       "      <td>0.383826</td>\n",
       "      <td>0</td>\n",
       "      <td>1</td>\n",
       "      <td>came across this image is it legit</td>\n",
       "    </tr>\n",
       "    <tr>\n",
       "      <th>273</th>\n",
       "      <td>0.543376</td>\n",
       "      <td>0.456624</td>\n",
       "      <td>0</td>\n",
       "      <td>1</td>\n",
       "      <td>strategy and analysis scoop it</td>\n",
       "    </tr>\n",
       "    <tr>\n",
       "      <th>279</th>\n",
       "      <td>0.520613</td>\n",
       "      <td>0.479387</td>\n",
       "      <td>0</td>\n",
       "      <td>1</td>\n",
       "      <td>did anyone else notice all the anomaly moving in the back ground during the jwst launch once they started showing the footage of the separation you could see some object moving in the background some were small round one some moved up and across and other moved back and forth</td>\n",
       "    </tr>\n",
       "    <tr>\n",
       "      <th>285</th>\n",
       "      <td>0.523711</td>\n",
       "      <td>0.476289</td>\n",
       "      <td>0</td>\n",
       "      <td>1</td>\n",
       "      <td>what would you do</td>\n",
       "    </tr>\n",
       "    <tr>\n",
       "      <th>290</th>\n",
       "      <td>0.628516</td>\n",
       "      <td>0.371484</td>\n",
       "      <td>0</td>\n",
       "      <td>1</td>\n",
       "      <td>do alien exist the key mystery that could be unlocked after the james webb telescope launched world news</td>\n",
       "    </tr>\n",
       "    <tr>\n",
       "      <th>294</th>\n",
       "      <td>0.839719</td>\n",
       "      <td>0.160281</td>\n",
       "      <td>0</td>\n",
       "      <td>1</td>\n",
       "      <td>jwst launch can you spot any uap</td>\n",
       "    </tr>\n",
       "    <tr>\n",
       "      <th>307</th>\n",
       "      <td>0.969766</td>\n",
       "      <td>0.030234</td>\n",
       "      <td>0</td>\n",
       "      <td>1</td>\n",
       "      <td>james webb telescope launch countdown</td>\n",
       "    </tr>\n",
       "    <tr>\n",
       "      <th>319</th>\n",
       "      <td>0.523711</td>\n",
       "      <td>0.476289</td>\n",
       "      <td>0</td>\n",
       "      <td>1</td>\n",
       "      <td>anpa mike mcculloch quantised inertia</td>\n",
       "    </tr>\n",
       "    <tr>\n",
       "      <th>333</th>\n",
       "      <td>0.511992</td>\n",
       "      <td>0.488008</td>\n",
       "      <td>0</td>\n",
       "      <td>1</td>\n",
       "      <td>mxpx phone modesto hey if delonge reading sorry for taking mxpxs phone backstage</td>\n",
       "    </tr>\n",
       "    <tr>\n",
       "      <th>351</th>\n",
       "      <td>0.508202</td>\n",
       "      <td>0.491798</td>\n",
       "      <td>0</td>\n",
       "      <td>1</td>\n",
       "      <td>james telescope in le than hour the james telescope is gonna be used and we are gonna see what wa before bing bang and i m very happy about that but on the other hand i m kinda scared because what if we don t see anything that mean that god exists but then who created god or how he appeared but again if it something before that mean that we are in a loop and we are god idk man it am and i didn t sleep for like and a half day and my english is pretty bad a well but i hope that you get what i m trying to say</td>\n",
       "    </tr>\n",
       "    <tr>\n",
       "      <th>361</th>\n",
       "      <td>0.551232</td>\n",
       "      <td>0.448768</td>\n",
       "      <td>0</td>\n",
       "      <td>1</td>\n",
       "      <td>what is that bright light it s brighter than the north star orion s belt and seems closer than the moon also i checked the night sky app and there weren t any planet near i see this light everyday at different hour but always in the same general area</td>\n",
       "    </tr>\n",
       "    <tr>\n",
       "      <th>413</th>\n",
       "      <td>0.523711</td>\n",
       "      <td>0.476289</td>\n",
       "      <td>0</td>\n",
       "      <td>1</td>\n",
       "      <td>artwork by me</td>\n",
       "    </tr>\n",
       "    <tr>\n",
       "      <th>416</th>\n",
       "      <td>0.523711</td>\n",
       "      <td>0.476289</td>\n",
       "      <td>0</td>\n",
       "      <td>1</td>\n",
       "      <td>this one s for you all</td>\n",
       "    </tr>\n",
       "    <tr>\n",
       "      <th>421</th>\n",
       "      <td>0.649118</td>\n",
       "      <td>0.350882</td>\n",
       "      <td>0</td>\n",
       "      <td>1</td>\n",
       "      <td>one of the pyramid of elysium on mar almost time taller than the egyptian pyramid more surround it and their origin is not concretely explained</td>\n",
       "    </tr>\n",
       "    <tr>\n",
       "      <th>465</th>\n",
       "      <td>0.538418</td>\n",
       "      <td>0.461582</td>\n",
       "      <td>0</td>\n",
       "      <td>1</td>\n",
       "      <td>what is the ultimate goal of any advanced civilization the goal is to become a level and beyond type civilization to turn the universe into nothing more than a sandbox literally unimaginable technology anything you can think of in your head will be primitive to this civilization moving star the power of god performing miracle everything in star trek creating other universe turning a galaxy into a giant computer immortality etc this is our goal this is every living being s goal in the universe so what s after that after we ve usurped god after we ve conquered all knowledge after we can travel outside of space and time what s after that it won t take that long for u to do it once the singularity happens so what s next</td>\n",
       "    </tr>\n",
       "    <tr>\n",
       "      <th>467</th>\n",
       "      <td>0.561554</td>\n",
       "      <td>0.438446</td>\n",
       "      <td>0</td>\n",
       "      <td>1</td>\n",
       "      <td>finally nasa discovered alien in mar</td>\n",
       "    </tr>\n",
       "    <tr>\n",
       "      <th>505</th>\n",
       "      <td>0.710020</td>\n",
       "      <td>0.289980</td>\n",
       "      <td>0</td>\n",
       "      <td>1</td>\n",
       "      <td>watch strange angel how rocket scientist and satanist jack parson laid the foundation for space travel jet propulsion laboratory jack parson s laboratory beginning</td>\n",
       "    </tr>\n",
       "    <tr>\n",
       "      <th>506</th>\n",
       "      <td>0.754681</td>\n",
       "      <td>0.245319</td>\n",
       "      <td>0</td>\n",
       "      <td>1</td>\n",
       "      <td>what are you most excited regarding the james webb telescope is there any chance that nasa is hiding any function ability of the telescope</td>\n",
       "    </tr>\n",
       "    <tr>\n",
       "      <th>540</th>\n",
       "      <td>0.502848</td>\n",
       "      <td>0.497152</td>\n",
       "      <td>0</td>\n",
       "      <td>1</td>\n",
       "      <td>weird shit in the night sky</td>\n",
       "    </tr>\n",
       "    <tr>\n",
       "      <th>542</th>\n",
       "      <td>0.607313</td>\n",
       "      <td>0.392687</td>\n",
       "      <td>0</td>\n",
       "      <td>1</td>\n",
       "      <td>mar orbiter image show a crashed flying saucer or something else entirely</td>\n",
       "    </tr>\n",
       "    <tr>\n",
       "      <th>572</th>\n",
       "      <td>0.508449</td>\n",
       "      <td>0.491551</td>\n",
       "      <td>0</td>\n",
       "      <td>1</td>\n",
       "      <td>hiding in plain sight</td>\n",
       "    </tr>\n",
       "    <tr>\n",
       "      <th>602</th>\n",
       "      <td>0.697882</td>\n",
       "      <td>0.302118</td>\n",
       "      <td>0</td>\n",
       "      <td>1</td>\n",
       "      <td>photo taken by nasa that appears to show some form of unidentified object on the mar surface</td>\n",
       "    </tr>\n",
       "    <tr>\n",
       "      <th>603</th>\n",
       "      <td>0.502918</td>\n",
       "      <td>0.497082</td>\n",
       "      <td>0</td>\n",
       "      <td>1</td>\n",
       "      <td>filmed these on my phone the past few day more detail will be in a comment</td>\n",
       "    </tr>\n",
       "    <tr>\n",
       "      <th>636</th>\n",
       "      <td>0.523711</td>\n",
       "      <td>0.476289</td>\n",
       "      <td>0</td>\n",
       "      <td>1</td>\n",
       "      <td>do you see what i see</td>\n",
       "    </tr>\n",
       "    <tr>\n",
       "      <th>666</th>\n",
       "      <td>0.602812</td>\n",
       "      <td>0.397188</td>\n",
       "      <td>0</td>\n",
       "      <td>1</td>\n",
       "      <td>light over rural oklahoma</td>\n",
       "    </tr>\n",
       "    <tr>\n",
       "      <th>672</th>\n",
       "      <td>0.542524</td>\n",
       "      <td>0.457476</td>\n",
       "      <td>0</td>\n",
       "      <td>1</td>\n",
       "      <td>cosmic whistleblower</td>\n",
       "    </tr>\n",
       "    <tr>\n",
       "      <th>691</th>\n",
       "      <td>0.521126</td>\n",
       "      <td>0.478874</td>\n",
       "      <td>0</td>\n",
       "      <td>1</td>\n",
       "      <td>candidate for a vision of the cross of constantine otherwise known a the chi rho what did he really see in ad perhaps contrail positioned next to the sun</td>\n",
       "    </tr>\n",
       "    <tr>\n",
       "      <th>723</th>\n",
       "      <td>0.590464</td>\n",
       "      <td>0.409536</td>\n",
       "      <td>0</td>\n",
       "      <td>1</td>\n",
       "      <td>extinction level event happen to force evolution to become a space faring specie</td>\n",
       "    </tr>\n",
       "    <tr>\n",
       "      <th>747</th>\n",
       "      <td>0.612814</td>\n",
       "      <td>0.387186</td>\n",
       "      <td>0</td>\n",
       "      <td>1</td>\n",
       "      <td>stanton t friedman live tnt mar attack</td>\n",
       "    </tr>\n",
       "    <tr>\n",
       "      <th>756</th>\n",
       "      <td>0.544111</td>\n",
       "      <td>0.455889</td>\n",
       "      <td>0</td>\n",
       "      <td>1</td>\n",
       "      <td>editorial u s need to solve mystery in the sky</td>\n",
       "    </tr>\n",
       "    <tr>\n",
       "      <th>781</th>\n",
       "      <td>0.789414</td>\n",
       "      <td>0.210586</td>\n",
       "      <td>0</td>\n",
       "      <td>1</td>\n",
       "      <td>what is that official nasa moon photo</td>\n",
       "    </tr>\n",
       "    <tr>\n",
       "      <th>787</th>\n",
       "      <td>0.504110</td>\n",
       "      <td>0.495890</td>\n",
       "      <td>0</td>\n",
       "      <td>1</td>\n",
       "      <td>james webb space telescope may detect artificial led light on proxima centauri b there s a high chance of alien existing</td>\n",
       "    </tr>\n",
       "  </tbody>\n",
       "</table>\n",
       "</div>"
      ],
      "text/plain": [
       "       aliens     space  preds  actual  \\\n",
       "4    0.523711  0.476289      0       1   \n",
       "6    0.600220  0.399780      0       1   \n",
       "12   0.739988  0.260012      0       1   \n",
       "62   0.523711  0.476289      0       1   \n",
       "77   0.523711  0.476289      0       1   \n",
       "85   0.566228  0.433772      0       1   \n",
       "96   0.585751  0.414249      0       1   \n",
       "103  0.600024  0.399976      0       1   \n",
       "110  0.516157  0.483843      0       1   \n",
       "125  0.508204  0.491796      0       1   \n",
       "126  0.549969  0.450031      0       1   \n",
       "139  0.513961  0.486039      0       1   \n",
       "145  0.537602  0.462398      0       1   \n",
       "151  0.530601  0.469399      0       1   \n",
       "156  0.636700  0.363300      0       1   \n",
       "201  0.548723  0.451277      0       1   \n",
       "204  0.678062  0.321938      0       1   \n",
       "215  0.564178  0.435822      0       1   \n",
       "222  0.523711  0.476289      0       1   \n",
       "251  0.510592  0.489408      0       1   \n",
       "260  0.616174  0.383826      0       1   \n",
       "273  0.543376  0.456624      0       1   \n",
       "279  0.520613  0.479387      0       1   \n",
       "285  0.523711  0.476289      0       1   \n",
       "290  0.628516  0.371484      0       1   \n",
       "294  0.839719  0.160281      0       1   \n",
       "307  0.969766  0.030234      0       1   \n",
       "319  0.523711  0.476289      0       1   \n",
       "333  0.511992  0.488008      0       1   \n",
       "351  0.508202  0.491798      0       1   \n",
       "361  0.551232  0.448768      0       1   \n",
       "413  0.523711  0.476289      0       1   \n",
       "416  0.523711  0.476289      0       1   \n",
       "421  0.649118  0.350882      0       1   \n",
       "465  0.538418  0.461582      0       1   \n",
       "467  0.561554  0.438446      0       1   \n",
       "505  0.710020  0.289980      0       1   \n",
       "506  0.754681  0.245319      0       1   \n",
       "540  0.502848  0.497152      0       1   \n",
       "542  0.607313  0.392687      0       1   \n",
       "572  0.508449  0.491551      0       1   \n",
       "602  0.697882  0.302118      0       1   \n",
       "603  0.502918  0.497082      0       1   \n",
       "636  0.523711  0.476289      0       1   \n",
       "666  0.602812  0.397188      0       1   \n",
       "672  0.542524  0.457476      0       1   \n",
       "691  0.521126  0.478874      0       1   \n",
       "723  0.590464  0.409536      0       1   \n",
       "747  0.612814  0.387186      0       1   \n",
       "756  0.544111  0.455889      0       1   \n",
       "781  0.789414  0.210586      0       1   \n",
       "787  0.504110  0.495890      0       1   \n",
       "\n",
       "                                                                                                                                                                                                                                                                                                                                                                                                                                                                                                                                                                                                                                                                                                                                       content_token_lemme  \n",
       "4                                                                                                                                                                                                                                                                                                                                                                                                                                                                                                                                                                                                                                                                                                                                any explantation for this  \n",
       "6                                                                                                                                                                                                                                                                                                                                                                                                                                                                                                                                                                                                                                                                                                                secret space program ssp and the cold war  \n",
       "12                                                                                                                                                                                                                                                                                                                                                                                                                                                                                                                                                                                                                                                                                                      new study say the octopus may have come from space  \n",
       "62                                                                                                                                                                                                                                                                                                                                                                                                                                                                                                                                                                                                                                                                                                                               atmospheric compatibility  \n",
       "77                                                                                                                                                                                                                                                                                                                                                                                                                                                                                                                                                                                                                                                                                                      i will hug him and squeeze him and call him george  \n",
       "85                                                                                                                                                                                                                                                                                                                                                                                                                                                                                                                                                                                                                                                                                                                                happy new year earthling  \n",
       "96                                                                                                                                                                                                                                                                                                                                                                                                                                                                                                                                                                                                                                                                                                                          on a bug hunt for new year eve  \n",
       "103                                                                                                                                                                                                                                                                                                                                                                                                                                                                                                                                                                                                                  how far in the future are we from reaching star trek level of tech how far in the future are we from reaching star trek level of tech  \n",
       "110                                                                                                                                                                                                                                                                                                                                                                                                                                                                                                                                                                                                                                                                                                                                wa it only a paper moon  \n",
       "125                                                                                                                                                                                                                                                                                                                                                                                                                                                                                                                                                                                                                                                                                                      weird blue shape zoom in to the right next to wtc  \n",
       "126                                                                                                                                                                                                                                                                                                                                                                                                                                                                                                                                                                                                                                                                                                                a tower spotted in a crater on the moon  \n",
       "139                                                                                                                                                                                                                                                                                                                                                                                                                                                                                                                                                                                                            i recently found this photograph and noticed an object in the upper right corner of this photograph of my father taken in what do you think  \n",
       "145                                                                                                                                                                                                                water on earth the earth is b year old and the milky way is b alien discovered a goldilocks planet then steered icy asteroid at it over the course of thousand of year to give it the water it needed to start the colonization process every other goldilocks planet in the milky way ha water on it and life all billion of them alien are machine and have been doing this for billion of year human are good at colonizing earth like planet and other humanoid are good for other planet this is the origin of water on earth wiki  \n",
       "151                                                                                                                                                                                                                                                                                                                                                                                                                                                                                                                                                                                                                                                                                  a nasa captura imagens de objeto n o identificado em marte youtubeisl  \n",
       "156                                                                                                                                                                                                                                                                                                                                                                                                                                                                                                                                                                                                                                                                                                                                       kic tabby s star  \n",
       "201                                                                                                                                                                                                                                                                                                                                                                                                                                                                                                                                                                                                                     i recently caught through the telescope a structure of some unidentified object passed over the surface of the moon what are these  \n",
       "204                                                                                                                                                                                                                                                                                                                                                                                                                                                                                                                                                                                                                                                                             james webb telescope live track incredible view of earth will we find life  \n",
       "215                                                                                                                                                                                                                                                                                                                                                                                                                                                                                                                                                                                                                                                                                                   david bohm non locality and the holographic universe  \n",
       "222                                                                                                                                                                                                                                                                                                                                                                                                                                                                                                                                                                                                                                                                                                                                        welcoming party  \n",
       "251                                                                                                                                                                                                                                                                                                                                                                                                                                                                                                                                       jwst zeta reticuli apart from the multitude of story betty amp barney hill bob lazar skinny bob alleging sign of life within the zeta reticuli star system doe the jwst have any scientific reason to look there  \n",
       "260                                                                                                                                                                                                                                                                                                                                                                                                                                                                                                                                                                                                                                                                                                                     came across this image is it legit  \n",
       "273                                                                                                                                                                                                                                                                                                                                                                                                                                                                                                                                                                                                                                                                                                                         strategy and analysis scoop it  \n",
       "279                                                                                                                                                                                                                                                                                                                                                                                                                                                                   did anyone else notice all the anomaly moving in the back ground during the jwst launch once they started showing the footage of the separation you could see some object moving in the background some were small round one some moved up and across and other moved back and forth  \n",
       "285                                                                                                                                                                                                                                                                                                                                                                                                                                                                                                                                                                                                                                                                                                                                      what would you do  \n",
       "290                                                                                                                                                                                                                                                                                                                                                                                                                                                                                                                                                                                                                                               do alien exist the key mystery that could be unlocked after the james webb telescope launched world news  \n",
       "294                                                                                                                                                                                                                                                                                                                                                                                                                                                                                                                                                                                                                                                                                                                       jwst launch can you spot any uap  \n",
       "307                                                                                                                                                                                                                                                                                                                                                                                                                                                                                                                                                                                                                                                                                                                  james webb telescope launch countdown  \n",
       "319                                                                                                                                                                                                                                                                                                                                                                                                                                                                                                                                                                                                                                                                                                                  anpa mike mcculloch quantised inertia  \n",
       "333                                                                                                                                                                                                                                                                                                                                                                                                                                                                                                                                                                                                                                                                       mxpx phone modesto hey if delonge reading sorry for taking mxpxs phone backstage  \n",
       "351                                                                                                                                                                                                                        james telescope in le than hour the james telescope is gonna be used and we are gonna see what wa before bing bang and i m very happy about that but on the other hand i m kinda scared because what if we don t see anything that mean that god exists but then who created god or how he appeared but again if it something before that mean that we are in a loop and we are god idk man it am and i didn t sleep for like and a half day and my english is pretty bad a well but i hope that you get what i m trying to say  \n",
       "361                                                                                                                                                                                                                                                                                                                                                                                                                                                                                             what is that bright light it s brighter than the north star orion s belt and seems closer than the moon also i checked the night sky app and there weren t any planet near i see this light everyday at different hour but always in the same general area  \n",
       "413                                                                                                                                                                                                                                                                                                                                                                                                                                                                                                                                                                                                                                                                                                                                          artwork by me  \n",
       "416                                                                                                                                                                                                                                                                                                                                                                                                                                                                                                                                                                                                                                                                                                                                 this one s for you all  \n",
       "421                                                                                                                                                                                                                                                                                                                                                                                                                                                                                                                                                                                                        one of the pyramid of elysium on mar almost time taller than the egyptian pyramid more surround it and their origin is not concretely explained  \n",
       "465  what is the ultimate goal of any advanced civilization the goal is to become a level and beyond type civilization to turn the universe into nothing more than a sandbox literally unimaginable technology anything you can think of in your head will be primitive to this civilization moving star the power of god performing miracle everything in star trek creating other universe turning a galaxy into a giant computer immortality etc this is our goal this is every living being s goal in the universe so what s after that after we ve usurped god after we ve conquered all knowledge after we can travel outside of space and time what s after that it won t take that long for u to do it once the singularity happens so what s next  \n",
       "467                                                                                                                                                                                                                                                                                                                                                                                                                                                                                                                                                                                                                                                                                                                   finally nasa discovered alien in mar  \n",
       "505                                                                                                                                                                                                                                                                                                                                                                                                                                                                                                                                                                                    watch strange angel how rocket scientist and satanist jack parson laid the foundation for space travel jet propulsion laboratory jack parson s laboratory beginning  \n",
       "506                                                                                                                                                                                                                                                                                                                                                                                                                                                                                                                                                                                                             what are you most excited regarding the james webb telescope is there any chance that nasa is hiding any function ability of the telescope  \n",
       "540                                                                                                                                                                                                                                                                                                                                                                                                                                                                                                                                                                                                                                                                                                                            weird shit in the night sky  \n",
       "542                                                                                                                                                                                                                                                                                                                                                                                                                                                                                                                                                                                                                                                                              mar orbiter image show a crashed flying saucer or something else entirely  \n",
       "572                                                                                                                                                                                                                                                                                                                                                                                                                                                                                                                                                                                                                                                                                                                                  hiding in plain sight  \n",
       "602                                                                                                                                                                                                                                                                                                                                                                                                                                                                                                                                                                                                                                                           photo taken by nasa that appears to show some form of unidentified object on the mar surface  \n",
       "603                                                                                                                                                                                                                                                                                                                                                                                                                                                                                                                                                                                                                                                                             filmed these on my phone the past few day more detail will be in a comment  \n",
       "636                                                                                                                                                                                                                                                                                                                                                                                                                                                                                                                                                                                                                                                                                                                                  do you see what i see  \n",
       "666                                                                                                                                                                                                                                                                                                                                                                                                                                                                                                                                                                                                                                                                                                                              light over rural oklahoma  \n",
       "672                                                                                                                                                                                                                                                                                                                                                                                                                                                                                                                                                                                                                                                                                                                                   cosmic whistleblower  \n",
       "691                                                                                                                                                                                                                                                                                                                                                                                                                                                                                                                                                                                              candidate for a vision of the cross of constantine otherwise known a the chi rho what did he really see in ad perhaps contrail positioned next to the sun  \n",
       "723                                                                                                                                                                                                                                                                                                                                                                                                                                                                                                                                                                                                                                                                       extinction level event happen to force evolution to become a space faring specie  \n",
       "747                                                                                                                                                                                                                                                                                                                                                                                                                                                                                                                                                                                                                                                                                                                 stanton t friedman live tnt mar attack  \n",
       "756                                                                                                                                                                                                                                                                                                                                                                                                                                                                                                                                                                                                                                                                                                         editorial u s need to solve mystery in the sky  \n",
       "781                                                                                                                                                                                                                                                                                                                                                                                                                                                                                                                                                                                                                                                                                                                  what is that official nasa moon photo  \n",
       "787                                                                                                                                                                                                                                                                                                                                                                                                                                                                                                                                                                                                                               james webb space telescope may detect artificial led light on proxima centauri b there s a high chance of alien existing  "
      ]
     },
     "execution_count": 2626,
     "metadata": {},
     "output_type": "execute_result"
    }
   ],
   "source": [
    "# False negative - posts that wrongly classifies as aliens subreddit\n",
    "\n",
    "wrong_predictions[wrong_predictions['preds'] == 0]"
   ]
  },
  {
   "cell_type": "markdown",
   "id": "1ad84084-7dc6-4c09-bd3f-75ca56af96d1",
   "metadata": {},
   "source": [
    "## 6. Conclusion\n",
    "|Model|Vectorizer|Train Score|Test Score|F1_score|Remarks|\n",
    "|---|---|---|---|---|---|\n",
    "|LogisticRegression(random_state=42)|CountVectorizer(stop_words='english')|0.9827|0.8747|0.8773|With Hyperparameter Tuning| \n",
    "|LogisticRegression(random_state=42)|TfidfVectorizer(stop_words='english')|0.9609|0.8981|0.8947|With Hyperparameter Tuning|\n",
    "|MultinomialNB()|CountVectorizer(stop_words='english')|0.9591|0.8769|0.8688|With Hyperparameter Tuning|\n",
    "|MultinomialNB()|TfidfVectorizer(stop_words='english')|0.9809|0.8811|0.8739|With Hyperparameter Tuning|\n",
    "|RandomForestClassifier(random_state=42)|CountVectorizer(stop_words='english')|0.9973|0.8705|0.8610|Without Hyperparameter Tuning|\n",
    "|RandomForestClassifier(random_state=42)|TfidfVectorizer(stop_words='english')|0.9973|0.8599|0.8514|Without Hyperparameter Tuning|\n",
    "\n",
    "\n",
    "As we can see, all models R2 accuracy and F1-score are fairly similar. Overall, Logistic Regression with TF-IDF Vectorizer produces the highest accuracy results among other models. After careful consideration and judgement, we decided to choose Logistic Regression with TF-IDF Vectorizer model as our production model because:\n",
    "\n",
    "- It is easier to implement and interpret. \n",
    "- The model coefficients can be easily interpreted as indicators of feature importance.\n",
    "\n",
    "\n",
    "\n",
    "Observation\n",
    "Overall, both Netflix and AmazonPrimeVideo are popular for movies and tv shows\n",
    "From this exercise, it is interesting to note that Netflix's personal brand relates to its original tv shows. \"Netflix Original\" means they either produce or own exclusive streaming rights in a given country\n",
    "In my preliminary data exploration, top Netflix words relate to its original tv shows."
   ]
  },
  {
   "cell_type": "markdown",
   "id": "f6cd66fd-2aae-4502-bf8e-1647ae85f68a",
   "metadata": {},
   "source": [
    "## 7. Recommendations\n",
    "\n",
    "\n"
   ]
  },
  {
   "cell_type": "markdown",
   "id": "3647f17a-f9cb-4914-91d8-174679b8d739",
   "metadata": {},
   "source": [
    "## 8. Limitations & Improvement\n",
    "\n",
    "As demonstrated by the false predictions above, our model does have some limitations\n",
    "\n",
    "\n",
    "Areas for improvement and future exploration:\n",
    "1. Use word similarities (e.g. word2vec) to classify posts instead of frequency.\n",
    "2. Try Support Vector Machine algorithm for classification.\n",
    "3. Explore relationship between post content, number of comments, and upvote ratio.\n",
    "4. Implement Sentiment Analysis such as Positive and Negative Comment.\n",
    "5. Develop set of StopWords for the Model."
   ]
  },
  {
   "cell_type": "markdown",
   "id": "66097fa5-7e9e-4416-a4d4-bd4f51a551cd",
   "metadata": {},
   "source": [
    "## 9. References"
   ]
  },
  {
   "cell_type": "markdown",
   "id": "76f8a863-aa1b-4cc9-bca0-8a550fe38906",
   "metadata": {},
   "source": [
    "1. https://www.upgrad.com/blog/multinomial-naive-bayes-explained/\n",
    "2. https://www.geeksforgeeks.org/advantages-and-disadvantages-of-logistic-regression/\n",
    "3. https://www.upgrad.com/blog/multinomial-naive-bayes-explained/\n",
    "4. https://www.mygreatlearning.com/blog/random-forest-algorithm/\n",
    "5. https://www.analyticsvidhya.com/blog/2020/06/auc-roc-curve-machine-learning/\n",
    "6. https://towardsdatascience.com/what-metrics-should-we-use-on-imbalanced-data-set-precision-recall-roc-e2e79252aeba\n",
    "7. https://towardsdatascience.com/interpreting-coefficients-in-linear-and-logistic-regression-6ddf1295f6f1?gi=171712960afd"
   ]
  },
  {
   "cell_type": "markdown",
   "id": "9ab88bb3-dd43-4999-b005-45674e79f864",
   "metadata": {},
   "source": [
    "both types of errors are undesirable, then we will select a model based on F1-score "
   ]
  },
  {
   "cell_type": "markdown",
   "id": "42b8b318-3b91-407a-952a-13e48db8093f",
   "metadata": {},
   "source": [
    "The main limitation of random forest is that a large number of trees can make the algorithm too slow and ineffective for real-time predictions. In general, these algorithms are fast to train, but quite slow to create predictions once they are trained."
   ]
  },
  {
   "cell_type": "markdown",
   "id": "ea715f9e-c6a5-468d-ad6b-acfc812495cd",
   "metadata": {},
   "source": [
    "Top 20 Features for Logistic Regression (r/Netflix)\n",
    "\n",
    "As expected, the word Netflix overwhelm the rest of the words. \n",
    "Various key words relating to Netflix tv shows, for eg, ragnarok, dead, army and tooth appear in the top 20.\n",
    "We can interpret the coefficient this way:\n",
    "- with every 1 unit increase in the word count for Netflix, it is ~1,150 times more likely that it will be from r/Netflix\n",
    "In a way, this seems like a no brainer.. if the word Netflix appear, of course this belongs to Netflix subcategory.. but then we take cognizance that when netizens discuss about a topic online.. not all the time the brandname (in this case, the word ‘netflix’) may be mentioned.."
   ]
  },
  {
   "cell_type": "code",
   "execution_count": 2627,
   "id": "3f1beecf-7f81-4fc2-b30d-155a38b7ef74",
   "metadata": {},
   "outputs": [
    {
     "ename": "SyntaxError",
     "evalue": "invalid syntax (<ipython-input-2627-baf04efcfbcb>, line 1)",
     "output_type": "error",
     "traceback": [
      "\u001b[1;36m  File \u001b[1;32m\"<ipython-input-2627-baf04efcfbcb>\"\u001b[1;36m, line \u001b[1;32m1\u001b[0m\n\u001b[1;33m    The Random Forest model may be deployed to classify consolidated comments/discussions from various social media into subtopics because it is able to classify various categories\u001b[0m\n\u001b[1;37m        ^\u001b[0m\n\u001b[1;31mSyntaxError\u001b[0m\u001b[1;31m:\u001b[0m invalid syntax\n"
     ]
    }
   ],
   "source": [
    "\n",
    "The Random Forest model may be deployed to classify consolidated comments/discussions from various social media into subtopics because it is able to classify various categories\n",
    "\n",
    "Despite the limitations, the model is still useful to give users, namely data scientist, marketing team some guide\n",
    "\n",
    "Future steps\n",
    "Train the model with more data so that it can classify more subtopics other than the current Netflix and AmazonPrimeVideo\n"
   ]
  },
  {
   "cell_type": "code",
   "execution_count": null,
   "id": "3ae3f892-3d18-4ca4-a69b-e5e6223a2b83",
   "metadata": {},
   "outputs": [],
   "source": [
    "# Plot R2 comparison by Model & Train/Test Data\n",
    "\n",
    "labels = ['LR-CVEC', 'LR-TVEC', 'NB-CVEC', 'NB-TVEC']\n",
    "\n",
    "train_r2 = [logreg_cvec_gs.score(X_train, y_train), \n",
    "            logreg_tvec_gs.score(X_train, y_train), \n",
    "            nb_cvec_gs.score(X_train, y_train), \n",
    "            nb_tvec_gs.score(X_train, y_train)]\n",
    "\n",
    "test_r2 = [logreg_cvec_gs.score(X_test, y_test), \n",
    "           logreg_tvec_gs.score(X_test, y_test), \n",
    "           nb_cvec_gs.score(X_test, y_test), \n",
    "           nb_tvec_gs.score(X_test, y_test)]\n",
    "\n",
    "x = np.arange(len(labels))  # the label locations\n",
    "width = 0.3  # the width of the bars\n",
    "\n",
    "fig, ax = plt.subplots(figsize = (8,6))\n",
    "ax.bar(x - width/2, train_r2, width, label='train_r2')\n",
    "ax.bar(x + width/2, test_r2, width, label='test_r2', color='skyblue')\n",
    "\n",
    "# Set the y-label, x-axis tick label & title .\n",
    "ax.set_ylabel('R2')\n",
    "ax.set_xlabel('Model')\n",
    "ax.set_title('R2 by Model')\n",
    "ax.set_xticks(x)\n",
    "ax.set_xticklabels(labels)\n",
    "ax.axhline(y = 0.507, linestyle='dotted', color='red', label='baseline accuracy')\n",
    "\n",
    "# Set the legend location\n",
    "ax.legend(loc = \"lower right\")\n",
    "fig.tight_layout()\n"
   ]
  },
  {
   "cell_type": "code",
   "execution_count": null,
   "id": "6746e1a6-10b2-4e21-a603-83c2ecaf3b63",
   "metadata": {},
   "outputs": [],
   "source": []
  },
  {
   "cell_type": "code",
   "execution_count": null,
   "id": "1332852c-fef9-4405-ba16-843c6d2e57d4",
   "metadata": {},
   "outputs": [],
   "source": []
  },
  {
   "cell_type": "code",
   "execution_count": null,
   "id": "fad97629-ad2f-4b67-b3ab-802b4d818401",
   "metadata": {},
   "outputs": [],
   "source": []
  },
  {
   "cell_type": "code",
   "execution_count": null,
   "id": "d003b36f-96b7-4a1c-989f-1c8d1494bedd",
   "metadata": {},
   "outputs": [],
   "source": []
  },
  {
   "cell_type": "code",
   "execution_count": null,
   "id": "e7793ebe-9eb0-4954-80ea-ec3b6cfa23a0",
   "metadata": {},
   "outputs": [],
   "source": []
  }
 ],
 "metadata": {
  "kernelspec": {
   "display_name": "Python 3",
   "language": "python",
   "name": "python3"
  },
  "language_info": {
   "codemirror_mode": {
    "name": "ipython",
    "version": 3
   },
   "file_extension": ".py",
   "mimetype": "text/x-python",
   "name": "python",
   "nbconvert_exporter": "python",
   "pygments_lexer": "ipython3",
   "version": "3.8.8"
  }
 },
 "nbformat": 4,
 "nbformat_minor": 5
}
