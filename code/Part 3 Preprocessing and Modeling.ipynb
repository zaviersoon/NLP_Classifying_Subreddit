{
 "cells": [
  {
   "cell_type": "markdown",
   "id": "6238708a-0e53-4d57-941c-23fcbb937324",
   "metadata": {},
   "source": [
    "# Project 3 : Web APIs & NLP\n",
    "----------"
   ]
  },
  {
   "cell_type": "markdown",
   "id": "d15a0bda-3367-4ff7-8901-de8a2a41ac8b",
   "metadata": {},
   "source": [
    "## Contents:\n",
    "### Part 3 Preprocessing and Modeling\n",
    "\n",
    "1. [Importing Libraries](#1.-Importing-Libraries)\n",
    "2. [Importing Data](#2.-Importing-Data)\n",
    "3. [Feature Engineering](#3.-Feature-Engineering)\n",
    "4. [Model Preparation](#4.-Model-Preparation)\n",
    "5. [Final Model Insights](#5.-Final-Model-Insights)\n",
    "6. [Conclusion](#6.-Conclusion)\n",
    "7. [Recommendations](#7.-Recommendations)\n",
    "8. [Limitations & Improvement](#8.-Limitations-&-Improvement)\n",
    "9. [References](#9.-References)\n",
    "--------"
   ]
  },
  {
   "cell_type": "markdown",
   "id": "097c5faf-54f0-4675-843f-38e2df1981c7",
   "metadata": {},
   "source": [
    "## 1. Importing Libraries"
   ]
  },
  {
   "cell_type": "code",
   "execution_count": 3749,
   "id": "36eb335d-8a24-47c9-9dcb-04461f03c4bb",
   "metadata": {},
   "outputs": [],
   "source": [
    "import numpy as np\n",
    "import pandas as pd\n",
    "import matplotlib.pyplot as plt\n",
    "import seaborn as sns\n",
    "\n",
    "from nltk.corpus import stopwords\n",
    "from sklearn.model_selection import train_test_split, GridSearchCV\n",
    "from sklearn.pipeline import Pipeline\n",
    "from sklearn.feature_extraction.text import CountVectorizer, TfidfVectorizer\n",
    "from sklearn.linear_model import LogisticRegression\n",
    "from sklearn.naive_bayes import MultinomialNB\n",
    "from sklearn.ensemble import RandomForestClassifier\n",
    "\n",
    "from sklearn.metrics import confusion_matrix, plot_confusion_matrix, classification_report, plot_roc_curve, roc_auc_score, \\\n",
    "                            accuracy_score, precision_score, recall_score, f1_score\n",
    "\n",
    "from prettytable import PrettyTable\n",
    "\n",
    "# Display full output \n",
    "pd.set_option('display.max_rows', 500)\n",
    "pd.set_option('display.max_columns', 500)\n",
    "pd.set_option('display.max_colwidth', None)"
   ]
  },
  {
   "cell_type": "markdown",
   "id": "8c1e26e7-62bd-44e7-962f-e7b48a379b32",
   "metadata": {},
   "source": [
    "## 2. Importing Data"
   ]
  },
  {
   "cell_type": "code",
   "execution_count": 3750,
   "id": "8497b6c5-549e-4987-bf5f-ad1e49e23dd0",
   "metadata": {},
   "outputs": [],
   "source": [
    "# Read in combine csv file\n",
    "\n",
    "df_combine = pd.read_csv('../datasets/combine_sub.csv', keep_default_na = False)"
   ]
  },
  {
   "cell_type": "code",
   "execution_count": 3751,
   "id": "47bc90bb-6717-484b-b2bc-f2c974a83e19",
   "metadata": {
    "scrolled": true,
    "tags": []
   },
   "outputs": [
    {
     "data": {
      "text/html": [
       "<div>\n",
       "<style scoped>\n",
       "    .dataframe tbody tr th:only-of-type {\n",
       "        vertical-align: middle;\n",
       "    }\n",
       "\n",
       "    .dataframe tbody tr th {\n",
       "        vertical-align: top;\n",
       "    }\n",
       "\n",
       "    .dataframe thead th {\n",
       "        text-align: right;\n",
       "    }\n",
       "</style>\n",
       "<table border=\"1\" class=\"dataframe\">\n",
       "  <thead>\n",
       "    <tr style=\"text-align: right;\">\n",
       "      <th></th>\n",
       "      <th>index</th>\n",
       "      <th>subreddit</th>\n",
       "      <th>title</th>\n",
       "      <th>selftext</th>\n",
       "      <th>content</th>\n",
       "      <th>content_length</th>\n",
       "      <th>content_word_count</th>\n",
       "      <th>content_token_lemma</th>\n",
       "      <th>content_token_stem</th>\n",
       "    </tr>\n",
       "  </thead>\n",
       "  <tbody>\n",
       "    <tr>\n",
       "      <th>0</th>\n",
       "      <td>1</td>\n",
       "      <td>aliens</td>\n",
       "      <td>would the discovery of ultra advanced intelligent alien life shake the anthropocentric views of religious people and spiritualists alike</td>\n",
       "      <td>i d like to have a discussion on this  while i know that aliens existing wouldn t automatically disprove god  it for sure as hell would shake up the earth centric perspective people have and humanity s self importance  thoughts</td>\n",
       "      <td>would the discovery of ultra advanced intelligent alien life shake the anthropocentric views of religious people and spiritualists alike  i d like to have a discussion on this  while i know that aliens existing wouldn t automatically disprove god  it for sure as hell would shake up the earth centric perspective people have and humanity s self importance  thoughts</td>\n",
       "      <td>366</td>\n",
       "      <td>59</td>\n",
       "      <td>would the discovery of ultra advanced intelligent alien life shake the anthropocentric view of religious people and spiritualist alike i d like to have a discussion on this while i know that alien existing wouldn t automatically disprove god it for sure a hell would shake up the earth centric perspective people have and humanity s self importance thought</td>\n",
       "      <td>would the discoveri of ultra advanc intellig alien life shake the anthropocentr view of religi peopl and spiritualist alik i d like to have a discuss on thi while i know that alien exist wouldn t automat disprov god it for sure as hell would shake up the earth centric perspect peopl have and human s self import thought</td>\n",
       "    </tr>\n",
       "    <tr>\n",
       "      <th>1</th>\n",
       "      <td>2</td>\n",
       "      <td>aliens</td>\n",
       "      <td>the remarkable ufo encounter incident by british policeman alan godfrey</td>\n",
       "      <td></td>\n",
       "      <td>the remarkable ufo encounter incident by british policeman alan godfrey</td>\n",
       "      <td>72</td>\n",
       "      <td>10</td>\n",
       "      <td>the remarkable ufo encounter incident by british policeman alan godfrey</td>\n",
       "      <td>the remark ufo encount incid by british policeman alan godfrey</td>\n",
       "    </tr>\n",
       "    <tr>\n",
       "      <th>2</th>\n",
       "      <td>4</td>\n",
       "      <td>aliens</td>\n",
       "      <td>need documentary and book recommendations</td>\n",
       "      <td>recommendations about aliens being hostile  evil  having nefarious agenda etc  i don t buy this claims they want to help humanity or are good  i think i finally cracked through the matrix</td>\n",
       "      <td>need documentary and book recommendations recommendations about aliens being hostile  evil  having nefarious agenda etc  i don t buy this claims they want to help humanity or are good  i think i finally cracked through the matrix</td>\n",
       "      <td>230</td>\n",
       "      <td>37</td>\n",
       "      <td>need documentary and book recommendation recommendation about alien being hostile evil having nefarious agenda etc i don t buy this claim they want to help humanity or are good i think i finally cracked through the matrix</td>\n",
       "      <td>need documentari and book recommend recommend about alien be hostil evil have nefari agenda etc i don t buy thi claim they want to help human or are good i think i final crack through the matrix</td>\n",
       "    </tr>\n",
       "    <tr>\n",
       "      <th>3</th>\n",
       "      <td>5</td>\n",
       "      <td>aliens</td>\n",
       "      <td>giant snakes do exist</td>\n",
       "      <td></td>\n",
       "      <td>giant snakes do exist</td>\n",
       "      <td>22</td>\n",
       "      <td>4</td>\n",
       "      <td>giant snake do exist</td>\n",
       "      <td>giant snake do exist</td>\n",
       "    </tr>\n",
       "    <tr>\n",
       "      <th>4</th>\n",
       "      <td>6</td>\n",
       "      <td>aliens</td>\n",
       "      <td>if ufo s are future humans  which country are they  are they a military branch or a police force or something else</td>\n",
       "      <td>to answer the question  look at the whole ufo field and interpret it all as if its future humans  so rendlesham year       disabling of nukes  havanna syndrome  abductions  etc</td>\n",
       "      <td>if ufo s are future humans  which country are they  are they a military branch or a police force or something else  to answer the question  look at the whole ufo field and interpret it all as if its future humans  so rendlesham year       disabling of nukes  havanna syndrome  abductions  etc</td>\n",
       "      <td>293</td>\n",
       "      <td>51</td>\n",
       "      <td>if ufo s are future human which country are they are they a military branch or a police force or something else to answer the question look at the whole ufo field and interpret it all a if it future human so rendlesham year disabling of nuke havanna syndrome abduction etc</td>\n",
       "      <td>if ufo s are futur human which countri are they are they a militari branch or a polic forc or someth els to answer the question look at the whole ufo field and interpret it all as if it futur human so rendlesham year disabl of nuke havanna syndrom abduct etc</td>\n",
       "    </tr>\n",
       "  </tbody>\n",
       "</table>\n",
       "</div>"
      ],
      "text/plain": [
       "   index subreddit  \\\n",
       "0      1    aliens   \n",
       "1      2    aliens   \n",
       "2      4    aliens   \n",
       "3      5    aliens   \n",
       "4      6    aliens   \n",
       "\n",
       "                                                                                                                                       title  \\\n",
       "0  would the discovery of ultra advanced intelligent alien life shake the anthropocentric views of religious people and spiritualists alike    \n",
       "1                                                                    the remarkable ufo encounter incident by british policeman alan godfrey   \n",
       "2                                                                                                  need documentary and book recommendations   \n",
       "3                                                                                                                      giant snakes do exist   \n",
       "4                        if ufo s are future humans  which country are they  are they a military branch or a police force or something else    \n",
       "\n",
       "                                                                                                                                                                                                                               selftext  \\\n",
       "0  i d like to have a discussion on this  while i know that aliens existing wouldn t automatically disprove god  it for sure as hell would shake up the earth centric perspective people have and humanity s self importance  thoughts    \n",
       "1                                                                                                                                                                                                                                         \n",
       "2                                          recommendations about aliens being hostile  evil  having nefarious agenda etc  i don t buy this claims they want to help humanity or are good  i think i finally cracked through the matrix    \n",
       "3                                                                                                                                                                                                                                         \n",
       "4                                                     to answer the question  look at the whole ufo field and interpret it all as if its future humans  so rendlesham year       disabling of nukes  havanna syndrome  abductions  etc    \n",
       "\n",
       "                                                                                                                                                                                                                                                                                                                                                                          content  \\\n",
       "0  would the discovery of ultra advanced intelligent alien life shake the anthropocentric views of religious people and spiritualists alike  i d like to have a discussion on this  while i know that aliens existing wouldn t automatically disprove god  it for sure as hell would shake up the earth centric perspective people have and humanity s self importance  thoughts    \n",
       "1                                                                                                                                                                                                                                                                                                        the remarkable ufo encounter incident by british policeman alan godfrey    \n",
       "2                                                                                                                                          need documentary and book recommendations recommendations about aliens being hostile  evil  having nefarious agenda etc  i don t buy this claims they want to help humanity or are good  i think i finally cracked through the matrix    \n",
       "3                                                                                                                                                                                                                                                                                                                                                          giant snakes do exist    \n",
       "4                                                                           if ufo s are future humans  which country are they  are they a military branch or a police force or something else  to answer the question  look at the whole ufo field and interpret it all as if its future humans  so rendlesham year       disabling of nukes  havanna syndrome  abductions  etc    \n",
       "\n",
       "   content_length  content_word_count  \\\n",
       "0             366                  59   \n",
       "1              72                  10   \n",
       "2             230                  37   \n",
       "3              22                   4   \n",
       "4             293                  51   \n",
       "\n",
       "                                                                                                                                                                                                                                                                                                                                                    content_token_lemma  \\\n",
       "0  would the discovery of ultra advanced intelligent alien life shake the anthropocentric view of religious people and spiritualist alike i d like to have a discussion on this while i know that alien existing wouldn t automatically disprove god it for sure a hell would shake up the earth centric perspective people have and humanity s self importance thought   \n",
       "1                                                                                                                                                                                                                                                                                               the remarkable ufo encounter incident by british policeman alan godfrey   \n",
       "2                                                                                                                                         need documentary and book recommendation recommendation about alien being hostile evil having nefarious agenda etc i don t buy this claim they want to help humanity or are good i think i finally cracked through the matrix   \n",
       "3                                                                                                                                                                                                                                                                                                                                                  giant snake do exist   \n",
       "4                                                                                      if ufo s are future human which country are they are they a military branch or a police force or something else to answer the question look at the whole ufo field and interpret it all a if it future human so rendlesham year disabling of nuke havanna syndrome abduction etc   \n",
       "\n",
       "                                                                                                                                                                                                                                                                                                                 content_token_stem  \n",
       "0  would the discoveri of ultra advanc intellig alien life shake the anthropocentr view of religi peopl and spiritualist alik i d like to have a discuss on thi while i know that alien exist wouldn t automat disprov god it for sure as hell would shake up the earth centric perspect peopl have and human s self import thought  \n",
       "1                                                                                                                                                                                                                                                                    the remark ufo encount incid by british policeman alan godfrey  \n",
       "2                                                                                                                                need documentari and book recommend recommend about alien be hostil evil have nefari agenda etc i don t buy thi claim they want to help human or are good i think i final crack through the matrix  \n",
       "3                                                                                                                                                                                                                                                                                                              giant snake do exist  \n",
       "4                                                                if ufo s are futur human which countri are they are they a militari branch or a polic forc or someth els to answer the question look at the whole ufo field and interpret it all as if it futur human so rendlesham year disabl of nuke havanna syndrom abduct etc  "
      ]
     },
     "execution_count": 3751,
     "metadata": {},
     "output_type": "execute_result"
    }
   ],
   "source": [
    "# Check the first 5 rows of combine df\n",
    "\n",
    "df_combine.head()"
   ]
  },
  {
   "cell_type": "markdown",
   "id": "8735088f-daf0-4441-bdb4-eb6a58eec7ef",
   "metadata": {},
   "source": [
    "## 3. Feature Engineering"
   ]
  },
  {
   "cell_type": "code",
   "execution_count": 3752,
   "id": "fb2ca9bf-cf47-45ca-bfd7-599dc72bee5b",
   "metadata": {},
   "outputs": [],
   "source": [
    "# Engineer a feature to turn subreddit into a 1/0 column where 1 indicates aliens and 0 indicates space\n",
    "\n",
    "df_combine['is_aliens'] = [1 if i == 'aliens' else 0 for i in df_combine['subreddit']]"
   ]
  },
  {
   "cell_type": "code",
   "execution_count": 3753,
   "id": "443ad5c1-7881-4994-b527-876dbeffe9e7",
   "metadata": {},
   "outputs": [
    {
     "data": {
      "text/plain": [
       "1    0.505596\n",
       "0    0.494404\n",
       "Name: is_aliens, dtype: float64"
      ]
     },
     "execution_count": 3753,
     "metadata": {},
     "output_type": "execute_result"
    }
   ],
   "source": [
    "# Check for unbalanced classes\n",
    "\n",
    "df_combine['is_aliens'].value_counts(normalize = True)"
   ]
  },
  {
   "cell_type": "code",
   "execution_count": 3754,
   "id": "0a9edb52-7b12-4dfd-a80d-ea326d7e06f8",
   "metadata": {},
   "outputs": [
    {
     "data": {
      "image/png": "[encoded data removed]",
      "text/plain": [
       "<Figure size 432x288 with 1 Axes>"
      ]
     },
     "metadata": {
      "needs_background": "light"
     },
     "output_type": "display_data"
    }
   ],
   "source": [
    "# Plot countplot of is_aliens column\n",
    "\n",
    "sns.countplot(data = df_combine, x = 'is_aliens')\n",
    "\n",
    "plt.title('Countplot of Target')\n",
    "plt.xlabel('Target')\n",
    "plt.ylabel('Counts')\n",
    "plt.savefig('../image/Countplot of Target.png')\n",
    "plt.show()"
   ]
  },
  {
   "cell_type": "markdown",
   "id": "e05e395d-86e7-4689-bc20-d660555252e6",
   "metadata": {},
   "source": [
    "<b>Observation</b>: \n",
    "\n",
    "1. The data are quite well balanced with almost equal number of 0s and 1s. Standard metrics such as accuracy can be used to evaluate model performance."
   ]
  },
  {
   "cell_type": "markdown",
   "id": "239ee9ac-c0a9-4f97-af48-70ee9f4a32e4",
   "metadata": {},
   "source": [
    "## 4. Model Preparation\n",
    "\n",
    "- <b>Train Test Split</b>\n",
    "\n",
    "- <b>Define Function</b>\n",
    "\n",
    "- <b>Modelling</b>\n",
    "    - Logistic Regression\n",
    "        - CountVectorizer\n",
    "        - TF-IDF Vectorizer\n",
    "    - Multinomial Naive Bayes\n",
    "        - CountVectorizer\n",
    "        - TF-IDF Vectorizer\n",
    "    - Random Forests\n",
    "        - CountVectorizer\n",
    "        - TF-IDF Vectorizer\n",
    "\n",
    "\n",
    "- <b>Model Hyperparameter Tuning</b>\n",
    "\n",
    "    - Vectorizer Hyperparameters\n",
    "    - Model Hyperparameters\n",
    "    - Logistic Regression\n",
    "        - CountVectorizer\n",
    "        - TF-IDF Vectorizer\n",
    "    - Multinomial Naive Bayes\n",
    "        - CountVectorizer\n",
    "        - TF-IDF Vectorizer\n",
    "     - Plot AUC-ROC Curve"
   ]
  },
  {
   "cell_type": "markdown",
   "id": "8751aefe-a894-4876-a833-c766fe28de0f",
   "metadata": {},
   "source": [
    "### 4.1 Train Test Split"
   ]
  },
  {
   "cell_type": "code",
   "execution_count": 3755,
   "id": "7157cba7-621c-4d47-b374-c4c0e3393a45",
   "metadata": {},
   "outputs": [],
   "source": [
    "# Create our feature matrix (X) and target vector (y) from combine dataframe\n",
    "\n",
    "X = df_combine['content_token_lemma']\n",
    "y = df_combine['is_aliens']"
   ]
  },
  {
   "cell_type": "code",
   "execution_count": 3756,
   "id": "73d0ac69-be5d-4cc3-9ef3-fc13e50a7dd3",
   "metadata": {},
   "outputs": [],
   "source": [
    "# Perform a split of our X and y \n",
    "\n",
    "X_train, X_test, y_train, y_test = train_test_split(X, y, train_size = 0.7, random_state = 42, stratify = y)"
   ]
  },
  {
   "cell_type": "code",
   "execution_count": 3757,
   "id": "2fbb5a22-3bf7-40ba-9e1b-d2145ff7ebd6",
   "metadata": {},
   "outputs": [
    {
     "data": {
      "text/plain": [
       "1    0.506579\n",
       "0    0.493421\n",
       "Name: is_aliens, dtype: float64"
      ]
     },
     "execution_count": 3757,
     "metadata": {},
     "output_type": "execute_result"
    }
   ],
   "source": [
    "# Baseline\n",
    "\n",
    "y_test.value_counts(normalize = True)"
   ]
  },
  {
   "cell_type": "markdown",
   "id": "fa0357bc-c2cc-4a3d-8fc7-4b2375c54675",
   "metadata": {},
   "source": [
    "<b>Observation</b>: \n",
    "\n",
    "1. In order to have something to compare our model against, we will use the normalized value of y, or the percentage of y within our target. This represents the simplest model we can use.\n",
    "2. In this case, assigning a post randomly will give us a 50.6% accuracy of classifying it correctly, which will be our baseline accuracy in order to evaluate if our model is better than a null model.\n",
    "4. Accuracy and F1-score will be our main metrics here, given that we're not too particularly concerned about minimizing either false negatives and false positives. Ideally we'd like to minimize both as far as possible."
   ]
  },
  {
   "cell_type": "markdown",
   "id": "8ac452ca-518b-4caf-84df-45cf4a906cae",
   "metadata": {},
   "source": [
    "### 4.2 Define Function"
   ]
  },
  {
   "cell_type": "code",
   "execution_count": 3758,
   "id": "de36e8f6-9653-461c-a47c-6babe4714499",
   "metadata": {},
   "outputs": [],
   "source": [
    "# Instantiate vectorizers\n",
    "\n",
    "vectorizers = {'cvec': CountVectorizer(stop_words = 'english'),\n",
    "               'tvec': TfidfVectorizer(stop_words = 'english')}"
   ]
  },
  {
   "cell_type": "code",
   "execution_count": 3759,
   "id": "23d9f7b7-5198-450f-bdad-efaffbad53bd",
   "metadata": {},
   "outputs": [],
   "source": [
    "# Instiantiate models\n",
    "\n",
    "models = {'logreg': LogisticRegression(random_state=42),\n",
    "          'nb': MultinomialNB(),\n",
    "          'rf': RandomForestClassifier(random_state=42)}"
   ]
  },
  {
   "cell_type": "code",
   "execution_count": 3760,
   "id": "e926381f-5a12-4377-b660-f983cac3bf67",
   "metadata": {},
   "outputs": [],
   "source": [
    "# Create a PrettyTable to store overall summary of model performance without hyperparameter tuning\n",
    "\n",
    "summary = PrettyTable(['Model', 'Vectorizer', 'Train Score', 'Test Score', 'ROC', 'Precision', 'Recall', 'F1_score'])\n",
    "\n",
    "\n",
    "# Create a PrettyTable to store overall summary of model performance with hyperparameter tuning\n",
    "\n",
    "summary_tuning = PrettyTable(['Model', 'Vectorizer', 'Train Score', 'Test Score', 'ROC', 'Precision', 'Recall', 'F1_score'])"
   ]
  },
  {
   "cell_type": "code",
   "execution_count": 3761,
   "id": "184026ad-6301-4883-9c4f-20fa107414ce",
   "metadata": {},
   "outputs": [],
   "source": [
    "# Define a function to run model -- input vectorizer and model\n",
    "\n",
    "def run_model(vec, model, title, vec_params = {}, model_params = {}, grid_search = False):\n",
    "        \n",
    "    # Create a PrettyTable for individual model\n",
    "    indv = PrettyTable(['Model', 'Vectorizer', 'Train Score', 'Test Score', 'ROC', 'Precision', 'Recall', 'F1_score'])\n",
    "    \n",
    "    # Set up pipeline with two stages: \n",
    "    # 1. Vectorizer (transformer)\n",
    "    # 2. Model (estimator)\n",
    "    pipe = Pipeline([(vec, vectorizers[vec]),\n",
    "                     (model, models[model])])\n",
    "    \n",
    "    if grid_search == True:\n",
    "        model_gs = GridSearchCV(pipe, param_grid = {**vec_params, **model_params}, cv = 10, verbose = 1, n_jobs = -1)\n",
    "        model_gs.fit(X_train, y_train)\n",
    "        pipe = model_gs\n",
    "        \n",
    "    else:\n",
    "        pipe.fit(X_train, y_train)\n",
    "        \n",
    "    # Get accuracy score for train & test data\n",
    "    train_score = round(pipe.score(X_train, y_train),4)\n",
    "    test_score  = round(pipe.score(X_test, y_test),4)\n",
    "    \n",
    "    # Get predictions\n",
    "    y_preds = pipe.predict(X_test)\n",
    "    \n",
    "    # Get ROC, Precision, Recall & F1_score\n",
    "    roc =  round(roc_auc_score(y_test, y_preds),4)\n",
    "    precision =  round(precision_score(y_test, y_preds),4)\n",
    "    recall =  round(recall_score(y_test, y_preds),4)\n",
    "    f_score =  round(f1_score(y_test, y_preds),4)\n",
    "    \n",
    "    # Add the model performance to indv PrettyTable\n",
    "    indv.add_row([models[model], vectorizers[vec], train_score, test_score, roc, precision, recall, f_score])\n",
    "    display(indv)\n",
    "    \n",
    "    # Add the model performance to overall summary PrettyTable\n",
    "    if grid_search == True:\n",
    "        summary_tuning.add_row([models[model], vectorizers[vec], train_score, test_score, roc, precision, recall, f_score])\n",
    "        print(\"------------------------------------------------------\")\n",
    "        print('\\033[1m'+'\\033[4m'+\"Best Hyperparameter\"+'\\033[0m'+'\\033[0m')\n",
    "        display(pipe.best_params_)\n",
    "    \n",
    "    else:\n",
    "        summary.add_row([models[model], vectorizers[vec], train_score, test_score, roc, precision, recall, f_score])\n",
    "        \n",
    "    # View confusion matrix \n",
    "    print(\"------------------------------------------------------\")\n",
    "    print('\\033[1m'+'\\033[4m'+\"\\nConfusion Matrix\"+'\\033[0m'+'\\033[0m')\n",
    "    plot_confusion_matrix(pipe, X_test, y_test, cmap = 'Blues', values_format = 'd')\n",
    "    plt.title(title)\n",
    "    plt.show()\n",
    "    \n",
    "    tn, fp, fn, tp = confusion_matrix(y_test, y_preds).ravel()\n",
    "    print(f\"\\nTrue Negatives: {tn}\")\n",
    "    print(f\"False Positives: {fp}\")\n",
    "    print(f\"False Negatives: {fn}\")\n",
    "    print(f\"True Positives: {tp}\\n\")\n",
    "    print(\"------------------------------------------------------\")\n",
    "    print('\\033[1m'+'\\033[4m'+\"Classification Report\"+'\\033[0m'+'\\033[0m')\n",
    "    print(classification_report(y_test, y_preds))\n",
    "\n",
    "    return pipe"
   ]
  },
  {
   "cell_type": "markdown",
   "id": "22a0a4bd-756e-45d9-818c-f2c1cad7dbbb",
   "metadata": {},
   "source": [
    "### 4.3 Modelling"
   ]
  },
  {
   "cell_type": "markdown",
   "id": "a384b953-1c3e-42ec-bbe7-9c554ad49a58",
   "metadata": {},
   "source": [
    "#### 4.3.1 Logistic Regression\n",
    "\n",
    "**Logistic Regression** is considered a standard approach for binary classification. Logistic Regression uses an equation as the representation, very much like Linear Regression. Input values (X) are combined linearly using weights or coefficient values to predict an output value (y). A key difference from Linear Regression is that the output value being modeled is a binary values (0 or 1) rather than a numeric value. It is easier to implement, interpret, and very efficient to train. The model coefficients can be interpreted as indicators of feature importance.\n",
    "\n",
    "\n",
    "The major limitation of Logistic Regression is the assumption of linearity between the dependent variable and the independent variables. Non-linear problems can’t be solved with Logistic Regression. Also, if the number of observations is lesser than the number of features, it may lead to overfitting."
   ]
  },
  {
   "cell_type": "markdown",
   "id": "297f1b98-12f6-4ee8-a541-f875a99d837e",
   "metadata": {},
   "source": [
    "##### a) Logistic Regression with CountVectorizer"
   ]
  },
  {
   "cell_type": "code",
   "execution_count": 3762,
   "id": "21a81159-ee8a-4890-b950-766d011512ca",
   "metadata": {},
   "outputs": [
    {
     "data": {
      "text/html": [
       "<table>\n",
       "    <thead>\n",
       "        <tr>\n",
       "            <th>Model</th>\n",
       "            <th>Vectorizer</th>\n",
       "            <th>Train Score</th>\n",
       "            <th>Test Score</th>\n",
       "            <th>ROC</th>\n",
       "            <th>Precision</th>\n",
       "            <th>Recall</th>\n",
       "            <th>F1_score</th>\n",
       "        </tr>\n",
       "    </thead>\n",
       "    <tbody>\n",
       "        <tr>\n",
       "            <td>LogisticRegression(random_state=42)</td>\n",
       "            <td>CountVectorizer(stop_words=&#x27;english&#x27;)</td>\n",
       "            <td>0.9897</td>\n",
       "            <td>0.8925</td>\n",
       "            <td>0.8924</td>\n",
       "            <td>0.8856</td>\n",
       "            <td>0.9048</td>\n",
       "            <td>0.8951</td>\n",
       "        </tr>\n",
       "    </tbody>\n",
       "</table>"
      ],
      "text/plain": [
       "+-------------------------------------+---------------------------------------+-------------+------------+--------+-----------+--------+----------+\n",
       "|                Model                |               Vectorizer              | Train Score | Test Score |  ROC   | Precision | Recall | F1_score |\n",
       "+-------------------------------------+---------------------------------------+-------------+------------+--------+-----------+--------+----------+\n",
       "| LogisticRegression(random_state=42) | CountVectorizer(stop_words='english') |    0.9897   |   0.8925   | 0.8924 |   0.8856  | 0.9048 |  0.8951  |\n",
       "+-------------------------------------+---------------------------------------+-------------+------------+--------+-----------+--------+----------+"
      ]
     },
     "metadata": {},
     "output_type": "display_data"
    },
    {
     "name": "stdout",
     "output_type": "stream",
     "text": [
      "------------------------------------------------------\n",
      "\u001b[1m\u001b[4m\n",
      "Confusion Matrix\u001b[0m\u001b[0m\n"
     ]
    },
    {
     "data": {
      "image/png": "[encoded data removed]",
      "text/plain": [
       "<Figure size 432x288 with 2 Axes>"
      ]
     },
     "metadata": {
      "needs_background": "light"
     },
     "output_type": "display_data"
    },
    {
     "name": "stdout",
     "output_type": "stream",
     "text": [
      "\n",
      "True Negatives: 198\n",
      "False Positives: 27\n",
      "False Negatives: 22\n",
      "True Positives: 209\n",
      "\n",
      "------------------------------------------------------\n",
      "\u001b[1m\u001b[4mClassification Report\u001b[0m\u001b[0m\n",
      "              precision    recall  f1-score   support\n",
      "\n",
      "           0       0.90      0.88      0.89       225\n",
      "           1       0.89      0.90      0.90       231\n",
      "\n",
      "    accuracy                           0.89       456\n",
      "   macro avg       0.89      0.89      0.89       456\n",
      "weighted avg       0.89      0.89      0.89       456\n",
      "\n"
     ]
    }
   ],
   "source": [
    "# Run the model - Logistic Regression with CountVectorizer\n",
    "\n",
    "logreg_cvec = run_model('cvec', 'logreg', 'Logistic Regression with CountVectorizer')"
   ]
  },
  {
   "cell_type": "markdown",
   "id": "0cefcb3a-0e65-4359-9c2e-7070dc52ea5c",
   "metadata": {},
   "source": [
    " "
   ]
  },
  {
   "cell_type": "markdown",
   "id": "0bdc986a-d5ae-4a01-bd4c-7be1c303007d",
   "metadata": {},
   "source": [
    "##### b) Logistic Regression with TF-IDF Vectorizer"
   ]
  },
  {
   "cell_type": "code",
   "execution_count": 3763,
   "id": "52d40d09-815c-4a76-a46b-6e5e5a17aaa4",
   "metadata": {},
   "outputs": [
    {
     "data": {
      "text/html": [
       "<table>\n",
       "    <thead>\n",
       "        <tr>\n",
       "            <th>Model</th>\n",
       "            <th>Vectorizer</th>\n",
       "            <th>Train Score</th>\n",
       "            <th>Test Score</th>\n",
       "            <th>ROC</th>\n",
       "            <th>Precision</th>\n",
       "            <th>Recall</th>\n",
       "            <th>F1_score</th>\n",
       "        </tr>\n",
       "    </thead>\n",
       "    <tbody>\n",
       "        <tr>\n",
       "            <td>LogisticRegression(random_state=42)</td>\n",
       "            <td>TfidfVectorizer(stop_words=&#x27;english&#x27;)</td>\n",
       "            <td>0.9774</td>\n",
       "            <td>0.9057</td>\n",
       "            <td>0.9052</td>\n",
       "            <td>0.879</td>\n",
       "            <td>0.9437</td>\n",
       "            <td>0.9102</td>\n",
       "        </tr>\n",
       "    </tbody>\n",
       "</table>"
      ],
      "text/plain": [
       "+-------------------------------------+---------------------------------------+-------------+------------+--------+-----------+--------+----------+\n",
       "|                Model                |               Vectorizer              | Train Score | Test Score |  ROC   | Precision | Recall | F1_score |\n",
       "+-------------------------------------+---------------------------------------+-------------+------------+--------+-----------+--------+----------+\n",
       "| LogisticRegression(random_state=42) | TfidfVectorizer(stop_words='english') |    0.9774   |   0.9057   | 0.9052 |   0.879   | 0.9437 |  0.9102  |\n",
       "+-------------------------------------+---------------------------------------+-------------+------------+--------+-----------+--------+----------+"
      ]
     },
     "metadata": {},
     "output_type": "display_data"
    },
    {
     "name": "stdout",
     "output_type": "stream",
     "text": [
      "------------------------------------------------------\n",
      "\u001b[1m\u001b[4m\n",
      "Confusion Matrix\u001b[0m\u001b[0m\n"
     ]
    },
    {
     "data": {
      "image/png": "[encoded data removed]",
      "text/plain": [
       "<Figure size 432x288 with 2 Axes>"
      ]
     },
     "metadata": {
      "needs_background": "light"
     },
     "output_type": "display_data"
    },
    {
     "name": "stdout",
     "output_type": "stream",
     "text": [
      "\n",
      "True Negatives: 195\n",
      "False Positives: 30\n",
      "False Negatives: 13\n",
      "True Positives: 218\n",
      "\n",
      "------------------------------------------------------\n",
      "\u001b[1m\u001b[4mClassification Report\u001b[0m\u001b[0m\n",
      "              precision    recall  f1-score   support\n",
      "\n",
      "           0       0.94      0.87      0.90       225\n",
      "           1       0.88      0.94      0.91       231\n",
      "\n",
      "    accuracy                           0.91       456\n",
      "   macro avg       0.91      0.91      0.91       456\n",
      "weighted avg       0.91      0.91      0.91       456\n",
      "\n"
     ]
    }
   ],
   "source": [
    "# Run the model - Logistic Regression with TF-IDF Vectorizer\n",
    "\n",
    "logreg_tvec = run_model('tvec', 'logreg', 'Logistic Regression with TF-IDF Vectorizer')"
   ]
  },
  {
   "cell_type": "markdown",
   "id": "8ea5eb2b-ae31-42e4-9730-9a0cd2f5120c",
   "metadata": {},
   "source": [
    " "
   ]
  },
  {
   "cell_type": "markdown",
   "id": "60b2e4d4-b641-4e7f-b165-c110565d19e8",
   "metadata": {},
   "source": [
    "<b>Observation<b/> : \n",
    "    \n",
    "1. Based on the above information, I conclude that both **Logistic Regression with CountVectorizer** and **Logistic Regression with TF-IDF Vectorizer** model is slightly overfit to the data but is not a bad model.\n",
    "2. Here, True Positives(TP) is <mark style=\"background-color: lightgrey\">r/aliens</mark> posts that were correctly classified by our model. True Negatives(TN) are <mark style=\"background-color: lightgrey\">r/space</mark> posts that were correctly classified by our model.\n",
    "3. Based on the R2 accuracy, Logistic Regression with TF-IDF Vectorizer model R2 accuracy is slightly higher than Logistic Regression with CountVectorizer model. Logistic Regression with CountVectorizer model is able to accurately predict 89.2% of the the test data and 98.9% of the train data based on our text features whereas Logistic Regression with TF-IDF Vectorizer model is able to accurately predict 90.5% of the the test data and 97.7% of the train data based on our text features. Logistic Regression with TF-IDF Vectorizer model is quite good and less overfit.\n",
    "4. F1-score is the weighted average of Precision and Recall. F1-score takes both false positives and false negatives into account. High F1-score indicate a good Precision and a good Recall score. Based on F1-score, Logistic Regression with TF-IDF Vectorizer is higher than Logistic Regression with CountVectorizer model.\n",
    "5. CountVectorizer is a way to convert a given set of strings into a frequency representation. TF-IDF Vectorizer means Term Frequency - Inverse Document Frequency that is based on the frequency of a word in the corpus but it also provides a numerical representation of how important a word is for statistical analysis. TF-IDF Vectorizer is better than CountVectorizer. "
   ]
  },
  {
   "cell_type": "markdown",
   "id": "0b4aeffd-a362-4a3a-87be-adcd437b7af2",
   "metadata": {},
   "source": [
    "#### 4.3.2 Multinomial Naive Bayes"
   ]
  },
  {
   "cell_type": "markdown",
   "id": "001714b5-23c4-4a60-9fbb-8413dabca4a5",
   "metadata": {},
   "source": [
    "**Naive Bayes** is a learning algorithm frequently used in text classification problems. Naive Bayes algorithm is divided into threre types namely **Bernoulli**, **Multinomial** and **Gaussian Naive Bayes**. Bernoulli is a binary algorithm used when the feature is present or not. On the other hand, Multinomial Naive Bayes consider a feature vector where a given term represents the number of times it appears or very often i.e. frequency. At last Gaussian is based on continuous distribution.\n",
    "\n",
    "Multinomial Naive Bayes is a suitable algorithm to use in our analysis. Multinomial Naive Bayes has low computation cost and work effectively with large datasets. Also, it is easy to implement, fast and accurate method of prediction.\n",
    "\n",
    "The major limitation of Multinomial Naive Bayes is the assumption of independent predictors. This algorithm assumes that all the attributes are mutually independent. In real life, it is almost impossible that we get a set of predictors which are completely independent. Also, it is only used for textual data classification and cannot be used to predict numeric values."
   ]
  },
  {
   "cell_type": "markdown",
   "id": "5d55d24a-4c34-4b44-a742-7e2417e53370",
   "metadata": {},
   "source": [
    "##### a) Multinomial Naive Bayes with CountVectorizer"
   ]
  },
  {
   "cell_type": "code",
   "execution_count": 3764,
   "id": "9c3d0efb-17c9-4ab9-ab19-fe17d4162648",
   "metadata": {},
   "outputs": [
    {
     "data": {
      "text/html": [
       "<table>\n",
       "    <thead>\n",
       "        <tr>\n",
       "            <th>Model</th>\n",
       "            <th>Vectorizer</th>\n",
       "            <th>Train Score</th>\n",
       "            <th>Test Score</th>\n",
       "            <th>ROC</th>\n",
       "            <th>Precision</th>\n",
       "            <th>Recall</th>\n",
       "            <th>F1_score</th>\n",
       "        </tr>\n",
       "    </thead>\n",
       "    <tbody>\n",
       "        <tr>\n",
       "            <td>MultinomialNB()</td>\n",
       "            <td>CountVectorizer(stop_words=&#x27;english&#x27;)</td>\n",
       "            <td>0.9643</td>\n",
       "            <td>0.8969</td>\n",
       "            <td>0.8965</td>\n",
       "            <td>0.877</td>\n",
       "            <td>0.9264</td>\n",
       "            <td>0.9011</td>\n",
       "        </tr>\n",
       "    </tbody>\n",
       "</table>"
      ],
      "text/plain": [
       "+-----------------+---------------------------------------+-------------+------------+--------+-----------+--------+----------+\n",
       "|      Model      |               Vectorizer              | Train Score | Test Score |  ROC   | Precision | Recall | F1_score |\n",
       "+-----------------+---------------------------------------+-------------+------------+--------+-----------+--------+----------+\n",
       "| MultinomialNB() | CountVectorizer(stop_words='english') |    0.9643   |   0.8969   | 0.8965 |   0.877   | 0.9264 |  0.9011  |\n",
       "+-----------------+---------------------------------------+-------------+------------+--------+-----------+--------+----------+"
      ]
     },
     "metadata": {},
     "output_type": "display_data"
    },
    {
     "name": "stdout",
     "output_type": "stream",
     "text": [
      "------------------------------------------------------\n",
      "\u001b[1m\u001b[4m\n",
      "Confusion Matrix\u001b[0m\u001b[0m\n"
     ]
    },
    {
     "data": {
      "image/png": "[encoded data removed]",
      "text/plain": [
       "<Figure size 432x288 with 2 Axes>"
      ]
     },
     "metadata": {
      "needs_background": "light"
     },
     "output_type": "display_data"
    },
    {
     "name": "stdout",
     "output_type": "stream",
     "text": [
      "\n",
      "True Negatives: 195\n",
      "False Positives: 30\n",
      "False Negatives: 17\n",
      "True Positives: 214\n",
      "\n",
      "------------------------------------------------------\n",
      "\u001b[1m\u001b[4mClassification Report\u001b[0m\u001b[0m\n",
      "              precision    recall  f1-score   support\n",
      "\n",
      "           0       0.92      0.87      0.89       225\n",
      "           1       0.88      0.93      0.90       231\n",
      "\n",
      "    accuracy                           0.90       456\n",
      "   macro avg       0.90      0.90      0.90       456\n",
      "weighted avg       0.90      0.90      0.90       456\n",
      "\n"
     ]
    }
   ],
   "source": [
    "# Run the model - Multinomial Naive Bayes with CountVectorizer\n",
    "\n",
    "nb_cvec = run_model('cvec', 'nb', 'Multinomial Naive Bayes with CountVectorizer')"
   ]
  },
  {
   "cell_type": "markdown",
   "id": "0670478d-341a-428e-a293-9e4745b40c35",
   "metadata": {},
   "source": [
    " "
   ]
  },
  {
   "cell_type": "markdown",
   "id": "dcafd8d7-21c1-4415-855d-b68b79425562",
   "metadata": {},
   "source": [
    "##### b) Multinomial Naive Bayes with TF-IDF Vectorizer"
   ]
  },
  {
   "cell_type": "code",
   "execution_count": 3765,
   "id": "8be83b3c-a247-4186-9088-6ba351f94227",
   "metadata": {},
   "outputs": [
    {
     "data": {
      "text/html": [
       "<table>\n",
       "    <thead>\n",
       "        <tr>\n",
       "            <th>Model</th>\n",
       "            <th>Vectorizer</th>\n",
       "            <th>Train Score</th>\n",
       "            <th>Test Score</th>\n",
       "            <th>ROC</th>\n",
       "            <th>Precision</th>\n",
       "            <th>Recall</th>\n",
       "            <th>F1_score</th>\n",
       "        </tr>\n",
       "    </thead>\n",
       "    <tbody>\n",
       "        <tr>\n",
       "            <td>MultinomialNB()</td>\n",
       "            <td>TfidfVectorizer(stop_words=&#x27;english&#x27;)</td>\n",
       "            <td>0.9699</td>\n",
       "            <td>0.9013</td>\n",
       "            <td>0.9009</td>\n",
       "            <td>0.8811</td>\n",
       "            <td>0.9307</td>\n",
       "            <td>0.9053</td>\n",
       "        </tr>\n",
       "    </tbody>\n",
       "</table>"
      ],
      "text/plain": [
       "+-----------------+---------------------------------------+-------------+------------+--------+-----------+--------+----------+\n",
       "|      Model      |               Vectorizer              | Train Score | Test Score |  ROC   | Precision | Recall | F1_score |\n",
       "+-----------------+---------------------------------------+-------------+------------+--------+-----------+--------+----------+\n",
       "| MultinomialNB() | TfidfVectorizer(stop_words='english') |    0.9699   |   0.9013   | 0.9009 |   0.8811  | 0.9307 |  0.9053  |\n",
       "+-----------------+---------------------------------------+-------------+------------+--------+-----------+--------+----------+"
      ]
     },
     "metadata": {},
     "output_type": "display_data"
    },
    {
     "name": "stdout",
     "output_type": "stream",
     "text": [
      "------------------------------------------------------\n",
      "\u001b[1m\u001b[4m\n",
      "Confusion Matrix\u001b[0m\u001b[0m\n"
     ]
    },
    {
     "data": {
      "image/png": "[encoded data removed]",
      "text/plain": [
       "<Figure size 432x288 with 2 Axes>"
      ]
     },
     "metadata": {
      "needs_background": "light"
     },
     "output_type": "display_data"
    },
    {
     "name": "stdout",
     "output_type": "stream",
     "text": [
      "\n",
      "True Negatives: 196\n",
      "False Positives: 29\n",
      "False Negatives: 16\n",
      "True Positives: 215\n",
      "\n",
      "------------------------------------------------------\n",
      "\u001b[1m\u001b[4mClassification Report\u001b[0m\u001b[0m\n",
      "              precision    recall  f1-score   support\n",
      "\n",
      "           0       0.92      0.87      0.90       225\n",
      "           1       0.88      0.93      0.91       231\n",
      "\n",
      "    accuracy                           0.90       456\n",
      "   macro avg       0.90      0.90      0.90       456\n",
      "weighted avg       0.90      0.90      0.90       456\n",
      "\n"
     ]
    }
   ],
   "source": [
    "# Run the model - Multinomial Naive Bayes with TF-IDF Vectorizer\n",
    "\n",
    "nb_tvec = run_model('tvec', 'nb', 'Multinomial Naive Bayes with TF-IDF Vectorizer')"
   ]
  },
  {
   "cell_type": "markdown",
   "id": "18e805fc-d34f-4eb1-a8eb-22e9d560a78c",
   "metadata": {},
   "source": [
    "<b>Observation<b/> : \n",
    "    \n",
    "1. Based on the above information, I conclude that both **Multinomial Naive Bayes with CountVectorizer** and **Multinomial Naive Bayes with TF-IDF Vectorizer** model is slightly overfit to the data but is not a bad model.\n",
    "2. Based on the R2 accuracy, Multinomial Naive Bayes with CountVectorizer model and Multinomial Naive Bayes with TF-IDF Vectorizer model is only a marginal difference . Multinomial Naive Bayes with CountVectorizer model is able to accurately predict 89.6% of the the test data and 96.4% of the train data based on our text features. Whereas, Multinomial Naive Bayes with TF-IDF Vectorizer model is able to accurately predict only 90.1% of the the test data and 97.0 % of the train data based on our text features. Both model is good and acceptable.\n",
    "4. Based on F1-score, Multinomial Naive Bayes with TF-IDF Vectorizer is only slightly higher than Multinomial Naive Bayes with CountVectorizer."
   ]
  },
  {
   "cell_type": "markdown",
   "id": "082cb89b-cad5-4f5b-97b8-8296fd607696",
   "metadata": {},
   "source": [
    "#### 4.3.3 Random Forests"
   ]
  },
  {
   "cell_type": "markdown",
   "id": "3309023c-740b-4fae-b135-a37f50c7c6b6",
   "metadata": {},
   "source": [
    "**Random Forests** is a classification algorithm consisting of many decisions trees. It uses bagging and feature randomness when building each individual tree to try to create an uncorrelated forest of trees whose prediction by committee is more accurate than that of any individual tree. Random Forests reduces overfitting in decision trees and helps to improve the accuracy. Also, it is flexible to both classification and regression problems and works well with both categorical and continuous values. \n",
    "\n",
    "The major limitation of Random Forests is it requires much computational power as well as resources as it builds numerous trees to combine their outputs. It also requires much time for training as it combines a lot of decision trees to determine the class. Last but not least, due to the ensemble of decision trees, it suffers interpretability and fails to determine the significance of each variable."
   ]
  },
  {
   "cell_type": "markdown",
   "id": "dbd0b009-65ea-45ce-87e7-90cddb36c6f8",
   "metadata": {},
   "source": [
    "##### a) Random Forests with CountVectorizer"
   ]
  },
  {
   "cell_type": "code",
   "execution_count": 3766,
   "id": "d45a4536-1782-466f-91e5-1c77455d5cd8",
   "metadata": {},
   "outputs": [
    {
     "data": {
      "text/html": [
       "<table>\n",
       "    <thead>\n",
       "        <tr>\n",
       "            <th>Model</th>\n",
       "            <th>Vectorizer</th>\n",
       "            <th>Train Score</th>\n",
       "            <th>Test Score</th>\n",
       "            <th>ROC</th>\n",
       "            <th>Precision</th>\n",
       "            <th>Recall</th>\n",
       "            <th>F1_score</th>\n",
       "        </tr>\n",
       "    </thead>\n",
       "    <tbody>\n",
       "        <tr>\n",
       "            <td>RandomForestClassifier(random_state=42)</td>\n",
       "            <td>CountVectorizer(stop_words=&#x27;english&#x27;)</td>\n",
       "            <td>1.0</td>\n",
       "            <td>0.8728</td>\n",
       "            <td>0.8717</td>\n",
       "            <td>0.824</td>\n",
       "            <td>0.9524</td>\n",
       "            <td>0.8835</td>\n",
       "        </tr>\n",
       "    </tbody>\n",
       "</table>"
      ],
      "text/plain": [
       "+-----------------------------------------+---------------------------------------+-------------+------------+--------+-----------+--------+----------+\n",
       "|                  Model                  |               Vectorizer              | Train Score | Test Score |  ROC   | Precision | Recall | F1_score |\n",
       "+-----------------------------------------+---------------------------------------+-------------+------------+--------+-----------+--------+----------+\n",
       "| RandomForestClassifier(random_state=42) | CountVectorizer(stop_words='english') |     1.0     |   0.8728   | 0.8717 |   0.824   | 0.9524 |  0.8835  |\n",
       "+-----------------------------------------+---------------------------------------+-------------+------------+--------+-----------+--------+----------+"
      ]
     },
     "metadata": {},
     "output_type": "display_data"
    },
    {
     "name": "stdout",
     "output_type": "stream",
     "text": [
      "------------------------------------------------------\n",
      "\u001b[1m\u001b[4m\n",
      "Confusion Matrix\u001b[0m\u001b[0m\n"
     ]
    },
    {
     "data": {
      "image/png": "[encoded data removed]",
      "text/plain": [
       "<Figure size 432x288 with 2 Axes>"
      ]
     },
     "metadata": {
      "needs_background": "light"
     },
     "output_type": "display_data"
    },
    {
     "name": "stdout",
     "output_type": "stream",
     "text": [
      "\n",
      "True Negatives: 178\n",
      "False Positives: 47\n",
      "False Negatives: 11\n",
      "True Positives: 220\n",
      "\n",
      "------------------------------------------------------\n",
      "\u001b[1m\u001b[4mClassification Report\u001b[0m\u001b[0m\n",
      "              precision    recall  f1-score   support\n",
      "\n",
      "           0       0.94      0.79      0.86       225\n",
      "           1       0.82      0.95      0.88       231\n",
      "\n",
      "    accuracy                           0.87       456\n",
      "   macro avg       0.88      0.87      0.87       456\n",
      "weighted avg       0.88      0.87      0.87       456\n",
      "\n"
     ]
    }
   ],
   "source": [
    "# Run the model - Random Forests with CountVectorizer\n",
    "\n",
    "rf_cvec = run_model('cvec', 'rf', 'Random Forests with CountVectorizer')"
   ]
  },
  {
   "cell_type": "markdown",
   "id": "3fcf949a-f3a7-4a3b-b967-87fb052f34a3",
   "metadata": {},
   "source": [
    " "
   ]
  },
  {
   "cell_type": "markdown",
   "id": "0871353e-4c06-4bc3-ba2a-8fb3283fe3ba",
   "metadata": {},
   "source": [
    "##### b) Random Forests with TF-IDF Vectorizer"
   ]
  },
  {
   "cell_type": "code",
   "execution_count": 3767,
   "id": "cdd8dada-f9c5-4310-a866-5eae3e529aa9",
   "metadata": {},
   "outputs": [
    {
     "data": {
      "text/html": [
       "<table>\n",
       "    <thead>\n",
       "        <tr>\n",
       "            <th>Model</th>\n",
       "            <th>Vectorizer</th>\n",
       "            <th>Train Score</th>\n",
       "            <th>Test Score</th>\n",
       "            <th>ROC</th>\n",
       "            <th>Precision</th>\n",
       "            <th>Recall</th>\n",
       "            <th>F1_score</th>\n",
       "        </tr>\n",
       "    </thead>\n",
       "    <tbody>\n",
       "        <tr>\n",
       "            <td>RandomForestClassifier(random_state=42)</td>\n",
       "            <td>TfidfVectorizer(stop_words=&#x27;english&#x27;)</td>\n",
       "            <td>1.0</td>\n",
       "            <td>0.8728</td>\n",
       "            <td>0.8717</td>\n",
       "            <td>0.824</td>\n",
       "            <td>0.9524</td>\n",
       "            <td>0.8835</td>\n",
       "        </tr>\n",
       "    </tbody>\n",
       "</table>"
      ],
      "text/plain": [
       "+-----------------------------------------+---------------------------------------+-------------+------------+--------+-----------+--------+----------+\n",
       "|                  Model                  |               Vectorizer              | Train Score | Test Score |  ROC   | Precision | Recall | F1_score |\n",
       "+-----------------------------------------+---------------------------------------+-------------+------------+--------+-----------+--------+----------+\n",
       "| RandomForestClassifier(random_state=42) | TfidfVectorizer(stop_words='english') |     1.0     |   0.8728   | 0.8717 |   0.824   | 0.9524 |  0.8835  |\n",
       "+-----------------------------------------+---------------------------------------+-------------+------------+--------+-----------+--------+----------+"
      ]
     },
     "metadata": {},
     "output_type": "display_data"
    },
    {
     "name": "stdout",
     "output_type": "stream",
     "text": [
      "------------------------------------------------------\n",
      "\u001b[1m\u001b[4m\n",
      "Confusion Matrix\u001b[0m\u001b[0m\n"
     ]
    },
    {
     "data": {
      "image/png": "[encoded data removed]",
      "text/plain": [
       "<Figure size 432x288 with 2 Axes>"
      ]
     },
     "metadata": {
      "needs_background": "light"
     },
     "output_type": "display_data"
    },
    {
     "name": "stdout",
     "output_type": "stream",
     "text": [
      "\n",
      "True Negatives: 178\n",
      "False Positives: 47\n",
      "False Negatives: 11\n",
      "True Positives: 220\n",
      "\n",
      "------------------------------------------------------\n",
      "\u001b[1m\u001b[4mClassification Report\u001b[0m\u001b[0m\n",
      "              precision    recall  f1-score   support\n",
      "\n",
      "           0       0.94      0.79      0.86       225\n",
      "           1       0.82      0.95      0.88       231\n",
      "\n",
      "    accuracy                           0.87       456\n",
      "   macro avg       0.88      0.87      0.87       456\n",
      "weighted avg       0.88      0.87      0.87       456\n",
      "\n"
     ]
    }
   ],
   "source": [
    "# Run the model - Random Forests with TF-IDF Vectorizer\n",
    "\n",
    "rf_tvec = run_model('tvec', 'rf', 'Random Forests with TF-IDF Vectorizer')"
   ]
  },
  {
   "cell_type": "markdown",
   "id": "600e44fd-aab2-4b3a-b984-7645db807e78",
   "metadata": {},
   "source": [
    "<b>Observation<b/> : \n",
    "    \n",
    "1. Based on the above information, I conclude that both **Random Forests with CountVectorizer** and **Random Forests with TF-IDF Vectorizer** model is extreme overfit to the data and is a bad model.\n",
    "2. Based on the R2 accuracy, Random Forests with CountVectorizer model and Random Forests with TF-IDF Vectorizer model is the same. Both model is able to accurately predict 87.2% of the the test data but 100% of the train data based on our text features, both model are heavily overfitting.\n",
    "3. Based on F1-score, both model is the same."
   ]
  },
  {
   "cell_type": "code",
   "execution_count": 3768,
   "id": "0eaa69af-139c-4206-a588-b7aa86805744",
   "metadata": {},
   "outputs": [
    {
     "data": {
      "text/html": [
       "<table>\n",
       "    <thead>\n",
       "        <tr>\n",
       "            <th>Model</th>\n",
       "            <th>Vectorizer</th>\n",
       "            <th>Train Score</th>\n",
       "            <th>Test Score</th>\n",
       "            <th>ROC</th>\n",
       "            <th>Precision</th>\n",
       "            <th>Recall</th>\n",
       "            <th>F1_score</th>\n",
       "        </tr>\n",
       "    </thead>\n",
       "    <tbody>\n",
       "        <tr>\n",
       "            <td>LogisticRegression(random_state=42)</td>\n",
       "            <td>CountVectorizer(stop_words=&#x27;english&#x27;)</td>\n",
       "            <td>0.9897</td>\n",
       "            <td>0.8925</td>\n",
       "            <td>0.8924</td>\n",
       "            <td>0.8856</td>\n",
       "            <td>0.9048</td>\n",
       "            <td>0.8951</td>\n",
       "        </tr>\n",
       "        <tr>\n",
       "            <td>LogisticRegression(random_state=42)</td>\n",
       "            <td>TfidfVectorizer(stop_words=&#x27;english&#x27;)</td>\n",
       "            <td>0.9774</td>\n",
       "            <td>0.9057</td>\n",
       "            <td>0.9052</td>\n",
       "            <td>0.879</td>\n",
       "            <td>0.9437</td>\n",
       "            <td>0.9102</td>\n",
       "        </tr>\n",
       "        <tr>\n",
       "            <td>MultinomialNB()</td>\n",
       "            <td>CountVectorizer(stop_words=&#x27;english&#x27;)</td>\n",
       "            <td>0.9643</td>\n",
       "            <td>0.8969</td>\n",
       "            <td>0.8965</td>\n",
       "            <td>0.877</td>\n",
       "            <td>0.9264</td>\n",
       "            <td>0.9011</td>\n",
       "        </tr>\n",
       "        <tr>\n",
       "            <td>MultinomialNB()</td>\n",
       "            <td>TfidfVectorizer(stop_words=&#x27;english&#x27;)</td>\n",
       "            <td>0.9699</td>\n",
       "            <td>0.9013</td>\n",
       "            <td>0.9009</td>\n",
       "            <td>0.8811</td>\n",
       "            <td>0.9307</td>\n",
       "            <td>0.9053</td>\n",
       "        </tr>\n",
       "        <tr>\n",
       "            <td>RandomForestClassifier(random_state=42)</td>\n",
       "            <td>CountVectorizer(stop_words=&#x27;english&#x27;)</td>\n",
       "            <td>1.0</td>\n",
       "            <td>0.8728</td>\n",
       "            <td>0.8717</td>\n",
       "            <td>0.824</td>\n",
       "            <td>0.9524</td>\n",
       "            <td>0.8835</td>\n",
       "        </tr>\n",
       "        <tr>\n",
       "            <td>RandomForestClassifier(random_state=42)</td>\n",
       "            <td>TfidfVectorizer(stop_words=&#x27;english&#x27;)</td>\n",
       "            <td>1.0</td>\n",
       "            <td>0.8728</td>\n",
       "            <td>0.8717</td>\n",
       "            <td>0.824</td>\n",
       "            <td>0.9524</td>\n",
       "            <td>0.8835</td>\n",
       "        </tr>\n",
       "    </tbody>\n",
       "</table>"
      ],
      "text/plain": [
       "+-----------------------------------------+---------------------------------------+-------------+------------+--------+-----------+--------+----------+\n",
       "|                  Model                  |               Vectorizer              | Train Score | Test Score |  ROC   | Precision | Recall | F1_score |\n",
       "+-----------------------------------------+---------------------------------------+-------------+------------+--------+-----------+--------+----------+\n",
       "|   LogisticRegression(random_state=42)   | CountVectorizer(stop_words='english') |    0.9897   |   0.8925   | 0.8924 |   0.8856  | 0.9048 |  0.8951  |\n",
       "|   LogisticRegression(random_state=42)   | TfidfVectorizer(stop_words='english') |    0.9774   |   0.9057   | 0.9052 |   0.879   | 0.9437 |  0.9102  |\n",
       "|             MultinomialNB()             | CountVectorizer(stop_words='english') |    0.9643   |   0.8969   | 0.8965 |   0.877   | 0.9264 |  0.9011  |\n",
       "|             MultinomialNB()             | TfidfVectorizer(stop_words='english') |    0.9699   |   0.9013   | 0.9009 |   0.8811  | 0.9307 |  0.9053  |\n",
       "| RandomForestClassifier(random_state=42) | CountVectorizer(stop_words='english') |     1.0     |   0.8728   | 0.8717 |   0.824   | 0.9524 |  0.8835  |\n",
       "| RandomForestClassifier(random_state=42) | TfidfVectorizer(stop_words='english') |     1.0     |   0.8728   | 0.8717 |   0.824   | 0.9524 |  0.8835  |\n",
       "+-----------------------------------------+---------------------------------------+-------------+------------+--------+-----------+--------+----------+"
      ]
     },
     "execution_count": 3768,
     "metadata": {},
     "output_type": "execute_result"
    }
   ],
   "source": [
    "# Print the summary of modelling without hyperparameter tuning\n",
    "\n",
    "summary"
   ]
  },
  {
   "cell_type": "markdown",
   "id": "2fabc99f-efa4-4984-b4d9-0358101f0bf7",
   "metadata": {},
   "source": [
    "<b>Observation<b/> : \n",
    "    \n",
    "1. Based on the above summary table, all the model R2 accuracy & F1-score is only marginal difference. Model with text vectorized using TF-IDF Vectorizer tends to perform slightly better than CountVectorizer except Random Forests. Hyperparameter tuning (optimization) is an essential aspect of machine learning process of maximizing a model's performance without overfitting or creating too high of a variance. \n",
    "2. Random Forest Classifier is the most overfit model and performs the worse on test data than Logistic Regression and Multinomial Naive Bayes. In view of the fact that Random forests is slow in generating predictions because it has multiple decision trees. Whenever it makes a prediction, all the trees in the forest have to make a prediction for the same given input and then perform voting on it. This whole process is time-consuming. Random forests model will be excluded from hyperparameter tuning process.\n",
    "3. Logistic Regression and Multinomial Naive Bayes is easier to implement, interpret, and very efficient to train for predicting real-time applications. Thus, both model will go through hyperparameter tuning."
   ]
  },
  {
   "cell_type": "markdown",
   "id": "790bc90d-0440-4453-85a9-07465094258a",
   "metadata": {},
   "source": [
    "### 4.4 Model Hyperparameter Tuning"
   ]
  },
  {
   "cell_type": "markdown",
   "id": "135beb60-82b5-4ed7-a606-e8795e89b736",
   "metadata": {},
   "source": [
    "#### 4.4.1 Vectorizer Hyperparameters"
   ]
  },
  {
   "cell_type": "code",
   "execution_count": 3769,
   "id": "e2a36194-8e61-4697-b065-914133bef4ac",
   "metadata": {},
   "outputs": [],
   "source": [
    "# Search over the following values of hyperparameters:\n",
    "# Maximum number of features fit: 2000, 3500, 5000\n",
    "# Minimum number of documents needed to include token: 1, 2\n",
    "# Maximum number of documents needed to include token: 80%, 90%\n",
    "# Check (individual tokens), (individual tokens and 2-grams) and also check (2-grams)\n",
    "\n",
    "cvec_params = {\n",
    "    'cvec__max_features' : [2_000, 3_500, 5_000],\n",
    "    'cvec__min_df' : [1, 2],\n",
    "    'cvec__max_df' : [0.8, 0.9],\n",
    "    'cvec__ngram_range': [(1,1), (1,2), (2,2)]\n",
    "}"
   ]
  },
  {
   "cell_type": "code",
   "execution_count": 3770,
   "id": "fa4b13a7-157f-40fb-bebd-0eaf03fbdb12",
   "metadata": {},
   "outputs": [],
   "source": [
    "# Search over the following values of hyperparameters:\n",
    "# Maximum number of features fit: 2000, 3500, 5000\n",
    "# Minimum number of documents needed to include token: 1, 2\n",
    "# Maximum number of documents needed to include token: 80%, 90%\n",
    "# Check (individual tokens), (individual tokens and 2-grams) and also check (2-grams)\n",
    "\n",
    "tvec_params = {\n",
    "    'tvec__max_features' : [2_000, 3_500, 5_000],\n",
    "    'tvec__min_df' : [1, 2],\n",
    "    'tvec__max_df' : [0.8, 0.9],\n",
    "    'tvec__ngram_range': [(1,1), (1,2), (2,2)]\n",
    "}"
   ]
  },
  {
   "cell_type": "markdown",
   "id": "bb1ab5f7-b88d-4ef6-aef0-c791906e2703",
   "metadata": {},
   "source": [
    "#### 4.4.2 Model Hyperparameters"
   ]
  },
  {
   "cell_type": "code",
   "execution_count": 3771,
   "id": "44f5915d-0c84-4b14-a50a-7c9d8c499234",
   "metadata": {},
   "outputs": [],
   "source": [
    "# Search over the following values of hyperparameters:\n",
    "# Inverse of regularization strength: 0.1, 0.5, 1\n",
    "    \n",
    "logreg_params = {\n",
    "    'logreg__C':[0.1, 0.5, 1]\n",
    "}"
   ]
  },
  {
   "cell_type": "code",
   "execution_count": 3772,
   "id": "18bf36a7-5ecf-4cf4-9ae9-1cc563e41df5",
   "metadata": {},
   "outputs": [],
   "source": [
    "# Search over the following values of hyperparameters:\n",
    "# Additive smoothing parameter: 0, 0.25, 0.5\n",
    "  \n",
    "nb_params = {\n",
    "    'nb__alpha': [0.25, 0.5]\n",
    "}"
   ]
  },
  {
   "cell_type": "markdown",
   "id": "7c2d3563-64ee-4f97-8c8c-a0bf212c3ffe",
   "metadata": {},
   "source": [
    "#### 4.4.3 Logistic Regression"
   ]
  },
  {
   "cell_type": "markdown",
   "id": "3276f6de-19cc-4f88-baa1-feecfd379fd8",
   "metadata": {},
   "source": [
    "##### a) Logistic Regression with CountVectorizer"
   ]
  },
  {
   "cell_type": "code",
   "execution_count": 3773,
   "id": "2f2fa8da-a37d-49f3-b385-5a636b1748fd",
   "metadata": {},
   "outputs": [
    {
     "name": "stdout",
     "output_type": "stream",
     "text": [
      "Fitting 10 folds for each of 108 candidates, totalling 1080 fits\n"
     ]
    },
    {
     "data": {
      "text/html": [
       "<table>\n",
       "    <thead>\n",
       "        <tr>\n",
       "            <th>Model</th>\n",
       "            <th>Vectorizer</th>\n",
       "            <th>Train Score</th>\n",
       "            <th>Test Score</th>\n",
       "            <th>ROC</th>\n",
       "            <th>Precision</th>\n",
       "            <th>Recall</th>\n",
       "            <th>F1_score</th>\n",
       "        </tr>\n",
       "    </thead>\n",
       "    <tbody>\n",
       "        <tr>\n",
       "            <td>LogisticRegression(random_state=42)</td>\n",
       "            <td>CountVectorizer(stop_words=&#x27;english&#x27;)</td>\n",
       "            <td>0.9774</td>\n",
       "            <td>0.8991</td>\n",
       "            <td>0.8992</td>\n",
       "            <td>0.9075</td>\n",
       "            <td>0.8918</td>\n",
       "            <td>0.8996</td>\n",
       "        </tr>\n",
       "    </tbody>\n",
       "</table>"
      ],
      "text/plain": [
       "+-------------------------------------+---------------------------------------+-------------+------------+--------+-----------+--------+----------+\n",
       "|                Model                |               Vectorizer              | Train Score | Test Score |  ROC   | Precision | Recall | F1_score |\n",
       "+-------------------------------------+---------------------------------------+-------------+------------+--------+-----------+--------+----------+\n",
       "| LogisticRegression(random_state=42) | CountVectorizer(stop_words='english') |    0.9774   |   0.8991   | 0.8992 |   0.9075  | 0.8918 |  0.8996  |\n",
       "+-------------------------------------+---------------------------------------+-------------+------------+--------+-----------+--------+----------+"
      ]
     },
     "metadata": {},
     "output_type": "display_data"
    },
    {
     "name": "stdout",
     "output_type": "stream",
     "text": [
      "------------------------------------------------------\n",
      "\u001b[1m\u001b[4mBest Hyperparameter\u001b[0m\u001b[0m\n"
     ]
    },
    {
     "data": {
      "text/plain": [
       "{'cvec__max_df': 0.8,\n",
       " 'cvec__max_features': 3500,\n",
       " 'cvec__min_df': 1,\n",
       " 'cvec__ngram_range': (1, 1),\n",
       " 'logreg__C': 0.5}"
      ]
     },
     "metadata": {},
     "output_type": "display_data"
    },
    {
     "name": "stdout",
     "output_type": "stream",
     "text": [
      "------------------------------------------------------\n",
      "\u001b[1m\u001b[4m\n",
      "Confusion Matrix\u001b[0m\u001b[0m\n"
     ]
    },
    {
     "data": {
      "image/png": "[encoded data removed]",
      "text/plain": [
       "<Figure size 432x288 with 2 Axes>"
      ]
     },
     "metadata": {
      "needs_background": "light"
     },
     "output_type": "display_data"
    },
    {
     "name": "stdout",
     "output_type": "stream",
     "text": [
      "\n",
      "True Negatives: 204\n",
      "False Positives: 21\n",
      "False Negatives: 25\n",
      "True Positives: 206\n",
      "\n",
      "------------------------------------------------------\n",
      "\u001b[1m\u001b[4mClassification Report\u001b[0m\u001b[0m\n",
      "              precision    recall  f1-score   support\n",
      "\n",
      "           0       0.89      0.91      0.90       225\n",
      "           1       0.91      0.89      0.90       231\n",
      "\n",
      "    accuracy                           0.90       456\n",
      "   macro avg       0.90      0.90      0.90       456\n",
      "weighted avg       0.90      0.90      0.90       456\n",
      "\n"
     ]
    }
   ],
   "source": [
    "# Run the model - Logistic Regression with CountVectorizer\n",
    "\n",
    "logreg_cvec_gs = run_model('cvec', 'logreg', 'Logistic Regression with CountVectorizer', vec_params = cvec_params, model_params = logreg_params, grid_search=True)"
   ]
  },
  {
   "cell_type": "markdown",
   "id": "d29fcab9-a355-458b-a596-d5878a6dcc9b",
   "metadata": {},
   "source": [
    " "
   ]
  },
  {
   "cell_type": "markdown",
   "id": "24600969-3d92-44c6-a7db-ae0ac6f3dd8b",
   "metadata": {},
   "source": [
    "##### b) Logistic Regression with TF-IDF Vectorizer"
   ]
  },
  {
   "cell_type": "code",
   "execution_count": 3774,
   "id": "9c9afcf6-b81b-49da-a384-9514175b303d",
   "metadata": {},
   "outputs": [
    {
     "name": "stdout",
     "output_type": "stream",
     "text": [
      "Fitting 10 folds for each of 108 candidates, totalling 1080 fits\n"
     ]
    },
    {
     "data": {
      "text/html": [
       "<table>\n",
       "    <thead>\n",
       "        <tr>\n",
       "            <th>Model</th>\n",
       "            <th>Vectorizer</th>\n",
       "            <th>Train Score</th>\n",
       "            <th>Test Score</th>\n",
       "            <th>ROC</th>\n",
       "            <th>Precision</th>\n",
       "            <th>Recall</th>\n",
       "            <th>F1_score</th>\n",
       "        </tr>\n",
       "    </thead>\n",
       "    <tbody>\n",
       "        <tr>\n",
       "            <td>LogisticRegression(random_state=42)</td>\n",
       "            <td>TfidfVectorizer(stop_words=&#x27;english&#x27;)</td>\n",
       "            <td>0.9718</td>\n",
       "            <td>0.9101</td>\n",
       "            <td>0.9096</td>\n",
       "            <td>0.8862</td>\n",
       "            <td>0.9437</td>\n",
       "            <td>0.914</td>\n",
       "        </tr>\n",
       "    </tbody>\n",
       "</table>"
      ],
      "text/plain": [
       "+-------------------------------------+---------------------------------------+-------------+------------+--------+-----------+--------+----------+\n",
       "|                Model                |               Vectorizer              | Train Score | Test Score |  ROC   | Precision | Recall | F1_score |\n",
       "+-------------------------------------+---------------------------------------+-------------+------------+--------+-----------+--------+----------+\n",
       "| LogisticRegression(random_state=42) | TfidfVectorizer(stop_words='english') |    0.9718   |   0.9101   | 0.9096 |   0.8862  | 0.9437 |  0.914   |\n",
       "+-------------------------------------+---------------------------------------+-------------+------------+--------+-----------+--------+----------+"
      ]
     },
     "metadata": {},
     "output_type": "display_data"
    },
    {
     "name": "stdout",
     "output_type": "stream",
     "text": [
      "------------------------------------------------------\n",
      "\u001b[1m\u001b[4mBest Hyperparameter\u001b[0m\u001b[0m\n"
     ]
    },
    {
     "data": {
      "text/plain": [
       "{'logreg__C': 1,\n",
       " 'tvec__max_df': 0.8,\n",
       " 'tvec__max_features': 2000,\n",
       " 'tvec__min_df': 2,\n",
       " 'tvec__ngram_range': (1, 1)}"
      ]
     },
     "metadata": {},
     "output_type": "display_data"
    },
    {
     "name": "stdout",
     "output_type": "stream",
     "text": [
      "------------------------------------------------------\n",
      "\u001b[1m\u001b[4m\n",
      "Confusion Matrix\u001b[0m\u001b[0m\n"
     ]
    },
    {
     "data": {
      "image/png": "[encoded data removed]",
      "text/plain": [
       "<Figure size 432x288 with 2 Axes>"
      ]
     },
     "metadata": {
      "needs_background": "light"
     },
     "output_type": "display_data"
    },
    {
     "name": "stdout",
     "output_type": "stream",
     "text": [
      "\n",
      "True Negatives: 197\n",
      "False Positives: 28\n",
      "False Negatives: 13\n",
      "True Positives: 218\n",
      "\n",
      "------------------------------------------------------\n",
      "\u001b[1m\u001b[4mClassification Report\u001b[0m\u001b[0m\n",
      "              precision    recall  f1-score   support\n",
      "\n",
      "           0       0.94      0.88      0.91       225\n",
      "           1       0.89      0.94      0.91       231\n",
      "\n",
      "    accuracy                           0.91       456\n",
      "   macro avg       0.91      0.91      0.91       456\n",
      "weighted avg       0.91      0.91      0.91       456\n",
      "\n"
     ]
    }
   ],
   "source": [
    "# Run the model - Logistic Regression with TF-IDF Vectorizer\n",
    "\n",
    "logreg_tvec_gs = run_model('tvec', 'logreg', 'Logistic Regression with TF-IDF Vectorizer', vec_params = tvec_params, model_params = logreg_params, grid_search=True)"
   ]
  },
  {
   "cell_type": "markdown",
   "id": "35e84dbc-3aed-4454-ad8a-15cbc750f548",
   "metadata": {},
   "source": [
    "#### 4.4.4 Multinomial Naive Bayes"
   ]
  },
  {
   "cell_type": "markdown",
   "id": "9568779a-7dc3-430e-a700-829c2ad85c63",
   "metadata": {},
   "source": [
    "##### a) Multinomial Naive Bayes with CountVectorizer"
   ]
  },
  {
   "cell_type": "code",
   "execution_count": 3775,
   "id": "4c482579-9a81-489e-a5ba-599051e67479",
   "metadata": {},
   "outputs": [
    {
     "name": "stdout",
     "output_type": "stream",
     "text": [
      "Fitting 10 folds for each of 72 candidates, totalling 720 fits\n"
     ]
    },
    {
     "data": {
      "text/html": [
       "<table>\n",
       "    <thead>\n",
       "        <tr>\n",
       "            <th>Model</th>\n",
       "            <th>Vectorizer</th>\n",
       "            <th>Train Score</th>\n",
       "            <th>Test Score</th>\n",
       "            <th>ROC</th>\n",
       "            <th>Precision</th>\n",
       "            <th>Recall</th>\n",
       "            <th>F1_score</th>\n",
       "        </tr>\n",
       "    </thead>\n",
       "    <tbody>\n",
       "        <tr>\n",
       "            <td>MultinomialNB()</td>\n",
       "            <td>CountVectorizer(stop_words=&#x27;english&#x27;)</td>\n",
       "            <td>0.9718</td>\n",
       "            <td>0.8969</td>\n",
       "            <td>0.8965</td>\n",
       "            <td>0.877</td>\n",
       "            <td>0.9264</td>\n",
       "            <td>0.9011</td>\n",
       "        </tr>\n",
       "    </tbody>\n",
       "</table>"
      ],
      "text/plain": [
       "+-----------------+---------------------------------------+-------------+------------+--------+-----------+--------+----------+\n",
       "|      Model      |               Vectorizer              | Train Score | Test Score |  ROC   | Precision | Recall | F1_score |\n",
       "+-----------------+---------------------------------------+-------------+------------+--------+-----------+--------+----------+\n",
       "| MultinomialNB() | CountVectorizer(stop_words='english') |    0.9718   |   0.8969   | 0.8965 |   0.877   | 0.9264 |  0.9011  |\n",
       "+-----------------+---------------------------------------+-------------+------------+--------+-----------+--------+----------+"
      ]
     },
     "metadata": {},
     "output_type": "display_data"
    },
    {
     "name": "stdout",
     "output_type": "stream",
     "text": [
      "------------------------------------------------------\n",
      "\u001b[1m\u001b[4mBest Hyperparameter\u001b[0m\u001b[0m\n"
     ]
    },
    {
     "data": {
      "text/plain": [
       "{'cvec__max_df': 0.8,\n",
       " 'cvec__max_features': 3500,\n",
       " 'cvec__min_df': 1,\n",
       " 'cvec__ngram_range': (1, 1),\n",
       " 'nb__alpha': 0.25}"
      ]
     },
     "metadata": {},
     "output_type": "display_data"
    },
    {
     "name": "stdout",
     "output_type": "stream",
     "text": [
      "------------------------------------------------------\n",
      "\u001b[1m\u001b[4m\n",
      "Confusion Matrix\u001b[0m\u001b[0m\n"
     ]
    },
    {
     "data": {
      "image/png": "[encoded data removed]",
      "text/plain": [
       "<Figure size 432x288 with 2 Axes>"
      ]
     },
     "metadata": {
      "needs_background": "light"
     },
     "output_type": "display_data"
    },
    {
     "name": "stdout",
     "output_type": "stream",
     "text": [
      "\n",
      "True Negatives: 195\n",
      "False Positives: 30\n",
      "False Negatives: 17\n",
      "True Positives: 214\n",
      "\n",
      "------------------------------------------------------\n",
      "\u001b[1m\u001b[4mClassification Report\u001b[0m\u001b[0m\n",
      "              precision    recall  f1-score   support\n",
      "\n",
      "           0       0.92      0.87      0.89       225\n",
      "           1       0.88      0.93      0.90       231\n",
      "\n",
      "    accuracy                           0.90       456\n",
      "   macro avg       0.90      0.90      0.90       456\n",
      "weighted avg       0.90      0.90      0.90       456\n",
      "\n"
     ]
    }
   ],
   "source": [
    "# Run the model - Multinomial Naive Bayes with CountVectorizer\n",
    "\n",
    "nb_cvec_gs = run_model('cvec', 'nb', 'Multinomial Naive Bayes with CountVectorizer', vec_params = cvec_params, model_params = nb_params, grid_search=True)"
   ]
  },
  {
   "cell_type": "markdown",
   "id": "c768ee9e-58f7-4b62-ba99-0a3c795ba59f",
   "metadata": {},
   "source": [
    " "
   ]
  },
  {
   "cell_type": "markdown",
   "id": "43c4de09-fb40-4c50-a228-666f788e6c87",
   "metadata": {},
   "source": [
    "##### b) Multinomial Naive Bayes with TF-IDF Vectorizer"
   ]
  },
  {
   "cell_type": "code",
   "execution_count": 3776,
   "id": "516e8fe4-bd73-4994-9865-5a0e18aa4110",
   "metadata": {},
   "outputs": [
    {
     "name": "stdout",
     "output_type": "stream",
     "text": [
      "Fitting 10 folds for each of 72 candidates, totalling 720 fits\n"
     ]
    },
    {
     "data": {
      "text/html": [
       "<table>\n",
       "    <thead>\n",
       "        <tr>\n",
       "            <th>Model</th>\n",
       "            <th>Vectorizer</th>\n",
       "            <th>Train Score</th>\n",
       "            <th>Test Score</th>\n",
       "            <th>ROC</th>\n",
       "            <th>Precision</th>\n",
       "            <th>Recall</th>\n",
       "            <th>F1_score</th>\n",
       "        </tr>\n",
       "    </thead>\n",
       "    <tbody>\n",
       "        <tr>\n",
       "            <td>MultinomialNB()</td>\n",
       "            <td>TfidfVectorizer(stop_words=&#x27;english&#x27;)</td>\n",
       "            <td>0.9793</td>\n",
       "            <td>0.8969</td>\n",
       "            <td>0.8966</td>\n",
       "            <td>0.8802</td>\n",
       "            <td>0.9221</td>\n",
       "            <td>0.9006</td>\n",
       "        </tr>\n",
       "    </tbody>\n",
       "</table>"
      ],
      "text/plain": [
       "+-----------------+---------------------------------------+-------------+------------+--------+-----------+--------+----------+\n",
       "|      Model      |               Vectorizer              | Train Score | Test Score |  ROC   | Precision | Recall | F1_score |\n",
       "+-----------------+---------------------------------------+-------------+------------+--------+-----------+--------+----------+\n",
       "| MultinomialNB() | TfidfVectorizer(stop_words='english') |    0.9793   |   0.8969   | 0.8966 |   0.8802  | 0.9221 |  0.9006  |\n",
       "+-----------------+---------------------------------------+-------------+------------+--------+-----------+--------+----------+"
      ]
     },
     "metadata": {},
     "output_type": "display_data"
    },
    {
     "name": "stdout",
     "output_type": "stream",
     "text": [
      "------------------------------------------------------\n",
      "\u001b[1m\u001b[4mBest Hyperparameter\u001b[0m\u001b[0m\n"
     ]
    },
    {
     "data": {
      "text/plain": [
       "{'nb__alpha': 0.5,\n",
       " 'tvec__max_df': 0.8,\n",
       " 'tvec__max_features': 3500,\n",
       " 'tvec__min_df': 1,\n",
       " 'tvec__ngram_range': (1, 1)}"
      ]
     },
     "metadata": {},
     "output_type": "display_data"
    },
    {
     "name": "stdout",
     "output_type": "stream",
     "text": [
      "------------------------------------------------------\n",
      "\u001b[1m\u001b[4m\n",
      "Confusion Matrix\u001b[0m\u001b[0m\n"
     ]
    },
    {
     "data": {
      "image/png": "[encoded data removed]",
      "text/plain": [
       "<Figure size 432x288 with 2 Axes>"
      ]
     },
     "metadata": {
      "needs_background": "light"
     },
     "output_type": "display_data"
    },
    {
     "name": "stdout",
     "output_type": "stream",
     "text": [
      "\n",
      "True Negatives: 196\n",
      "False Positives: 29\n",
      "False Negatives: 18\n",
      "True Positives: 213\n",
      "\n",
      "------------------------------------------------------\n",
      "\u001b[1m\u001b[4mClassification Report\u001b[0m\u001b[0m\n",
      "              precision    recall  f1-score   support\n",
      "\n",
      "           0       0.92      0.87      0.89       225\n",
      "           1       0.88      0.92      0.90       231\n",
      "\n",
      "    accuracy                           0.90       456\n",
      "   macro avg       0.90      0.90      0.90       456\n",
      "weighted avg       0.90      0.90      0.90       456\n",
      "\n"
     ]
    }
   ],
   "source": [
    "# Run the model - Multinomial Naive Bayes with TF-IDF Vectorizer\n",
    "\n",
    "nb_tvec_gs = run_model('tvec', 'nb', 'Multinomial Naive Bayes with TF-IDF Vectorizer', vec_params = tvec_params, model_params = nb_params, grid_search=True)"
   ]
  },
  {
   "cell_type": "code",
   "execution_count": 3777,
   "id": "e37e7354-9e56-4d5f-b27d-365aa117e8a8",
   "metadata": {
    "tags": []
   },
   "outputs": [
    {
     "data": {
      "text/html": [
       "<table>\n",
       "    <thead>\n",
       "        <tr>\n",
       "            <th>Model</th>\n",
       "            <th>Vectorizer</th>\n",
       "            <th>Train Score</th>\n",
       "            <th>Test Score</th>\n",
       "            <th>ROC</th>\n",
       "            <th>Precision</th>\n",
       "            <th>Recall</th>\n",
       "            <th>F1_score</th>\n",
       "        </tr>\n",
       "    </thead>\n",
       "    <tbody>\n",
       "        <tr>\n",
       "            <td>LogisticRegression(random_state=42)</td>\n",
       "            <td>CountVectorizer(stop_words=&#x27;english&#x27;)</td>\n",
       "            <td>0.9774</td>\n",
       "            <td>0.8991</td>\n",
       "            <td>0.8992</td>\n",
       "            <td>0.9075</td>\n",
       "            <td>0.8918</td>\n",
       "            <td>0.8996</td>\n",
       "        </tr>\n",
       "        <tr>\n",
       "            <td>LogisticRegression(random_state=42)</td>\n",
       "            <td>TfidfVectorizer(stop_words=&#x27;english&#x27;)</td>\n",
       "            <td>0.9718</td>\n",
       "            <td>0.9101</td>\n",
       "            <td>0.9096</td>\n",
       "            <td>0.8862</td>\n",
       "            <td>0.9437</td>\n",
       "            <td>0.914</td>\n",
       "        </tr>\n",
       "        <tr>\n",
       "            <td>MultinomialNB()</td>\n",
       "            <td>CountVectorizer(stop_words=&#x27;english&#x27;)</td>\n",
       "            <td>0.9718</td>\n",
       "            <td>0.8969</td>\n",
       "            <td>0.8965</td>\n",
       "            <td>0.877</td>\n",
       "            <td>0.9264</td>\n",
       "            <td>0.9011</td>\n",
       "        </tr>\n",
       "        <tr>\n",
       "            <td>MultinomialNB()</td>\n",
       "            <td>TfidfVectorizer(stop_words=&#x27;english&#x27;)</td>\n",
       "            <td>0.9793</td>\n",
       "            <td>0.8969</td>\n",
       "            <td>0.8966</td>\n",
       "            <td>0.8802</td>\n",
       "            <td>0.9221</td>\n",
       "            <td>0.9006</td>\n",
       "        </tr>\n",
       "    </tbody>\n",
       "</table>"
      ],
      "text/plain": [
       "+-------------------------------------+---------------------------------------+-------------+------------+--------+-----------+--------+----------+\n",
       "|                Model                |               Vectorizer              | Train Score | Test Score |  ROC   | Precision | Recall | F1_score |\n",
       "+-------------------------------------+---------------------------------------+-------------+------------+--------+-----------+--------+----------+\n",
       "| LogisticRegression(random_state=42) | CountVectorizer(stop_words='english') |    0.9774   |   0.8991   | 0.8992 |   0.9075  | 0.8918 |  0.8996  |\n",
       "| LogisticRegression(random_state=42) | TfidfVectorizer(stop_words='english') |    0.9718   |   0.9101   | 0.9096 |   0.8862  | 0.9437 |  0.914   |\n",
       "|           MultinomialNB()           | CountVectorizer(stop_words='english') |    0.9718   |   0.8969   | 0.8965 |   0.877   | 0.9264 |  0.9011  |\n",
       "|           MultinomialNB()           | TfidfVectorizer(stop_words='english') |    0.9793   |   0.8969   | 0.8966 |   0.8802  | 0.9221 |  0.9006  |\n",
       "+-------------------------------------+---------------------------------------+-------------+------------+--------+-----------+--------+----------+"
      ]
     },
     "execution_count": 3777,
     "metadata": {},
     "output_type": "execute_result"
    }
   ],
   "source": [
    "# Print the summary of modelling after hyperparameter tuning\n",
    "\n",
    "summary_tuning"
   ]
  },
  {
   "cell_type": "markdown",
   "id": "0118f817-b7ef-4de5-b52e-8dc68a777b19",
   "metadata": {},
   "source": [
    "#### 4.4.5 AUC-ROC Curve"
   ]
  },
  {
   "cell_type": "code",
   "execution_count": 3778,
   "id": "8a45f3ba-a11d-4457-a77b-7651438f6b32",
   "metadata": {},
   "outputs": [
    {
     "data": {
      "image/png": "[encoded data removed]",
      "text/plain": [
       "<Figure size 864x576 with 1 Axes>"
      ]
     },
     "metadata": {
      "needs_background": "light"
     },
     "output_type": "display_data"
    }
   ],
   "source": [
    "# Plot AUC-ROC Curve\n",
    "\n",
    "fig, ax = plt.subplots(1, 1, figsize = (12, 8))\n",
    "plot_roc_curve(logreg_cvec_gs, X_test, y_test, ax = ax, name = 'Logistic Regression with CountVectorizer', color='lightgrey')\n",
    "plot_roc_curve(logreg_tvec_gs, X_test, y_test, ax = ax, name = 'Logistic Regression with TF-IDF Vectorizer', color='blue')\n",
    "plot_roc_curve(nb_cvec_gs, X_test, y_test, ax = ax, name = 'Multinomial Naive Bayes with CountVectorizer', color='lightgrey')\n",
    "plot_roc_curve(nb_tvec_gs, X_test, y_test, ax = ax, name = 'Multinomial Naive Bayes with TF-IDF Vectorizer', color='lightgrey')\n",
    "plot_roc_curve(rf_cvec, X_test, y_test, ax = ax, name = 'Random Forests with CountVectorizer', color='lightgrey')\n",
    "plot_roc_curve(rf_tvec, X_test, y_test, ax = ax, name = 'Random Forests with TF-IDF Vectorizer', color='lightgrey')\n",
    "plt.plot([0, 1], [0, 1], color = 'black', lw = 2, linestyle = '--', label = 'Random Guess')\n",
    "plt.title('Models AUC-ROC Curve')\n",
    "plt.savefig('../image/Models AUC-ROC Curve.png')\n",
    "plt.legend()\n",
    "plt.show()"
   ]
  },
  {
   "cell_type": "markdown",
   "id": "cb6095f6-675b-44b7-870a-6d0d278ea5a7",
   "metadata": {},
   "source": [
    "<b>Observation<b/> : \n",
    "    \n",
    "1. Based on the above summary table, after hyperparamter tuning all our model is still overfitting as indicated by the gap between test and train scores.\n",
    "2. Even though all our model R2 accuracy and F1-score is only a marginal difference. Logistic Regression with TF-IDF Vectorizer model returned the highest R2 accuracy and F1-score. Our model able to accurately predict 91.0% of test data based on our text features and lesser overfit.\n",
    "3. AUC-ROC curve is another evaluation metric for binary classification problems. It is a probability curve that plots the True Positive Rate (TPR) against False Positive Rate (FPR) at various threshold values. The Area Under the Curve (AUC) is the measure of the ability of a classifier to distinguish between classes and is used as a summary of the ROC curve. The higher the AUC, the better the performance of the model at distinguishing between the positive and negative classes. Based on AUC-ROC curve, all models are same! However, Logistic Regression with TF-IDF Vectorizer model outperforming most of the models at most decision thresholds, apart from the start of the curve and the end of the curve. \n",
    "4. Thus, Logistic Regression with TF-IDF Vectorizer model is choose as our production model."
   ]
  },
  {
   "cell_type": "markdown",
   "id": "8a540180-e51d-42f0-9e8a-754a1712314e",
   "metadata": {},
   "source": [
    "## 5. Final Model Insights"
   ]
  },
  {
   "cell_type": "markdown",
   "id": "8ac498c6-c5cc-4350-b0e5-8f5787e6e586",
   "metadata": {},
   "source": [
    "### 5.1 Coefficients"
   ]
  },
  {
   "cell_type": "code",
   "execution_count": 3779,
   "id": "65cb739e-4fe3-4796-b990-c9c356b73500",
   "metadata": {},
   "outputs": [
    {
     "data": {
      "text/plain": [
       "Pipeline(steps=[('tvec',\n",
       "                 TfidfVectorizer(max_df=0.8, max_features=2000, min_df=2,\n",
       "                                 stop_words='english')),\n",
       "                ('logreg', LogisticRegression(C=1, random_state=42))])"
      ]
     },
     "execution_count": 3779,
     "metadata": {},
     "output_type": "execute_result"
    }
   ],
   "source": [
    "# Get the best pipeline of our production model - Logistic Regression with TF-IDF Vectorizer \n",
    "\n",
    "logreg_tvec_gs.best_estimator_"
   ]
  },
  {
   "cell_type": "code",
   "execution_count": 3780,
   "id": "c381bfa0-66eb-4016-bc69-62e317821812",
   "metadata": {},
   "outputs": [],
   "source": [
    "# Create a coefs dataframe to store our production model coefficient & feature names\n",
    "\n",
    "coefs = pd.DataFrame(logreg_tvec_gs.best_estimator_.steps[1][1].coef_).T\n",
    "coefs.columns = ['coef']\n",
    "coefs['feature'] = logreg_tvec_gs.best_estimator_.steps[0][1].get_feature_names()\n",
    "\n",
    "# Rearrange the columns\n",
    "coefs = coefs[['feature','coef']]\n",
    "\n",
    "# Sort the coefs dataframe by coef in descending order\n",
    "coefs.sort_values(by = 'coef', ascending = False, inplace = True)"
   ]
  },
  {
   "cell_type": "code",
   "execution_count": 3781,
   "id": "43d07650-4bab-48b8-b2a3-45af16403609",
   "metadata": {},
   "outputs": [
    {
     "data": {
      "image/png": "[encoded data removed]",
      "text/plain": [
       "<Figure size 864x576 with 1 Axes>"
      ]
     },
     "metadata": {
      "needs_background": "light"
     },
     "output_type": "display_data"
    }
   ],
   "source": [
    "# Plot bar chart of top 15 words with strongest predictive power for both subreddit in our production model - Logistic Regression with TF-IDF Vectorizer \n",
    "\n",
    "plt.figure(figsize = (12, 8))\n",
    "sns.barplot(data = pd.concat([coefs.head(15), coefs.tail(15)]), x = 'coef', y = 'feature', palette='coolwarm')\n",
    "plt.ylabel('Features')\n",
    "plt.xlabel('Coef')\n",
    "plt.title('Top 15 Words with Strongest Predictive Power for both Aliens Subreddit & Space Subreddit', size = 15)\n",
    "plt.savefig('../image/Top 15 Words with Strongest Predictive Power for both Aliens Subreddit & Space Subreddit.png')\n",
    "plt.show()"
   ]
  },
  {
   "cell_type": "markdown",
   "id": "f363d7b9-8ffc-415e-ae81-a0ebabcd08d8",
   "metadata": {},
   "source": [
    "<b>Observation<b/> : \n",
    "    \n",
    "1. Recall this is a classification problem with classes 0 and 1. Notice that the coefficients are both positive and negative. The positive scores indicate a feature that predicts class 1 (<mark style=\"background-color: lightgrey\">r/aliens</mark>), whereas the negative scores indicate a feature that predicts class 0 (<mark style=\"background-color: lightgrey\">r/space</mark>). Feature Importance refers to techniques that calculate a score for all the input features for a given model. The scores simply represent the “importance” of each feature. A higher score means that the specific feature will have a larger effect on the model that is being used to predict a certain variable.\n",
    "\n",
    "2. We can see that the top 5 words with strongest predictive power for <mark style=\"background-color: lightgrey\">r/aliens</mark> are :\n",
    "    - alien\n",
    "    - ufo\n",
    "    - think \n",
    "    - like\n",
    "    - human\n",
    "\n",
    "3. Whereas for <mark style=\"background-color: lightgrey\">r/space</mark>, the top 5 words with strongest predictive power are :\n",
    "    - jwst\n",
    "    - space\n",
    "    - webb\n",
    "    - telescope\n",
    "    - launch"
   ]
  },
  {
   "cell_type": "markdown",
   "id": "a3e262fd-7d1b-41f9-bd3f-fb064c0c7d0d",
   "metadata": {},
   "source": [
    "### 5.2 Class Probabilities"
   ]
  },
  {
   "cell_type": "code",
   "execution_count": 3782,
   "id": "5b7ced8e-12f1-4f34-834e-2f6b9f3ef2c5",
   "metadata": {},
   "outputs": [],
   "source": [
    "# Create a predictions dataframe to store our production model prediction probability of our X_test\n",
    "\n",
    "predictions = pd.DataFrame(logreg_tvec_gs.predict_proba(X_test), index = X_test.index)\n",
    "predictions['content_token_lemma'] = X_test\n",
    "predictions.columns = ['space','aliens', 'content_token_lemma']"
   ]
  },
  {
   "cell_type": "code",
   "execution_count": 3783,
   "id": "c9d1d4d8-06e7-4170-a910-853e6f1e0b57",
   "metadata": {},
   "outputs": [
    {
     "data": {
      "text/html": [
       "<div>\n",
       "<style scoped>\n",
       "    .dataframe tbody tr th:only-of-type {\n",
       "        vertical-align: middle;\n",
       "    }\n",
       "\n",
       "    .dataframe tbody tr th {\n",
       "        vertical-align: top;\n",
       "    }\n",
       "\n",
       "    .dataframe thead th {\n",
       "        text-align: right;\n",
       "    }\n",
       "</style>\n",
       "<table border=\"1\" class=\"dataframe\">\n",
       "  <thead>\n",
       "    <tr style=\"text-align: right;\">\n",
       "      <th></th>\n",
       "      <th>space</th>\n",
       "      <th>aliens</th>\n",
       "      <th>content_token_lemma</th>\n",
       "    </tr>\n",
       "  </thead>\n",
       "  <tbody>\n",
       "    <tr>\n",
       "      <th>25</th>\n",
       "      <td>0.005130</td>\n",
       "      <td>0.994870</td>\n",
       "      <td>how to find alien dyson sphere</td>\n",
       "    </tr>\n",
       "    <tr>\n",
       "      <th>242</th>\n",
       "      <td>0.005130</td>\n",
       "      <td>0.994870</td>\n",
       "      <td>why can t we find alien</td>\n",
       "    </tr>\n",
       "    <tr>\n",
       "      <th>593</th>\n",
       "      <td>0.005130</td>\n",
       "      <td>0.994870</td>\n",
       "      <td>alien or tribal artifact</td>\n",
       "    </tr>\n",
       "    <tr>\n",
       "      <th>632</th>\n",
       "      <td>0.017418</td>\n",
       "      <td>0.982582</td>\n",
       "      <td>grey alien are not actually alien</td>\n",
       "    </tr>\n",
       "    <tr>\n",
       "      <th>507</th>\n",
       "      <td>0.026776</td>\n",
       "      <td>0.973224</td>\n",
       "      <td>what s the point even if a full fledged alien walked up to one of you and said he wa an alien you probably wouldn t believe it amp x b alien i m an alien human yeah right dude i know you got in some freak accident that left you looking messed up and you re just trying to mess with me alien my people come from the proxima centauri star system human and you re drinking well that might be how you got in the accident i m done amp x b is their really even a point to any of this what would an alien have to do to prove to some of you it is an alien let me know if you want thank you</td>\n",
       "    </tr>\n",
       "    <tr>\n",
       "      <th>46</th>\n",
       "      <td>0.031833</td>\n",
       "      <td>0.968167</td>\n",
       "      <td>have you ever had an alien encounter or a ufo sighting</td>\n",
       "    </tr>\n",
       "    <tr>\n",
       "      <th>33</th>\n",
       "      <td>0.032940</td>\n",
       "      <td>0.967060</td>\n",
       "      <td>have you ever seen an alien biological extraterrestrial not alien ship but alien being i m very interested in anectodal experience and i believe in ets</td>\n",
       "    </tr>\n",
       "    <tr>\n",
       "      <th>74</th>\n",
       "      <td>0.033687</td>\n",
       "      <td>0.966313</td>\n",
       "      <td>do you guy think alien can cure genetic disorder do you guy think alien have the capability to cure genetic disorder ha anyone heard of the capability to do this</td>\n",
       "    </tr>\n",
       "    <tr>\n",
       "      <th>546</th>\n",
       "      <td>0.043013</td>\n",
       "      <td>0.956987</td>\n",
       "      <td>ufo disrupts the village idyll</td>\n",
       "    </tr>\n",
       "    <tr>\n",
       "      <th>204</th>\n",
       "      <td>0.043013</td>\n",
       "      <td>0.956987</td>\n",
       "      <td>marina popovich and ufo in the soviet union</td>\n",
       "    </tr>\n",
       "  </tbody>\n",
       "</table>\n",
       "</div>"
      ],
      "text/plain": [
       "        space    aliens  \\\n",
       "25   0.005130  0.994870   \n",
       "242  0.005130  0.994870   \n",
       "593  0.005130  0.994870   \n",
       "632  0.017418  0.982582   \n",
       "507  0.026776  0.973224   \n",
       "46   0.031833  0.968167   \n",
       "33   0.032940  0.967060   \n",
       "74   0.033687  0.966313   \n",
       "546  0.043013  0.956987   \n",
       "204  0.043013  0.956987   \n",
       "\n",
       "                                                                                                                                                                                                                                                                                                                                                                                                                                                                                                                                                                                       content_token_lemma  \n",
       "25                                                                                                                                                                                                                                                                                                                                                                                                                                                                                                                                                                          how to find alien dyson sphere  \n",
       "242                                                                                                                                                                                                                                                                                                                                                                                                                                                                                                                                                                                why can t we find alien  \n",
       "593                                                                                                                                                                                                                                                                                                                                                                                                                                                                                                                                                                               alien or tribal artifact  \n",
       "632                                                                                                                                                                                                                                                                                                                                                                                                                                                                                                                                                                      grey alien are not actually alien  \n",
       "507  what s the point even if a full fledged alien walked up to one of you and said he wa an alien you probably wouldn t believe it amp x b alien i m an alien human yeah right dude i know you got in some freak accident that left you looking messed up and you re just trying to mess with me alien my people come from the proxima centauri star system human and you re drinking well that might be how you got in the accident i m done amp x b is their really even a point to any of this what would an alien have to do to prove to some of you it is an alien let me know if you want thank you  \n",
       "46                                                                                                                                                                                                                                                                                                                                                                                                                                                                                                                                                  have you ever had an alien encounter or a ufo sighting  \n",
       "33                                                                                                                                                                                                                                                                                                                                                                                                                                                 have you ever seen an alien biological extraterrestrial not alien ship but alien being i m very interested in anectodal experience and i believe in ets  \n",
       "74                                                                                                                                                                                                                                                                                                                                                                                                                                       do you guy think alien can cure genetic disorder do you guy think alien have the capability to cure genetic disorder ha anyone heard of the capability to do this  \n",
       "546                                                                                                                                                                                                                                                                                                                                                                                                                                                                                                                                                                         ufo disrupts the village idyll  \n",
       "204                                                                                                                                                                                                                                                                                                                                                                                                                                                                                                                                                            marina popovich and ufo in the soviet union  "
      ]
     },
     "execution_count": 3783,
     "metadata": {},
     "output_type": "execute_result"
    }
   ],
   "source": [
    "# Display the top 10 predictions sorted by aliens probability in descending order \n",
    "\n",
    "predictions.sort_values('aliens', ascending = False).head(10)"
   ]
  },
  {
   "cell_type": "markdown",
   "id": "7c03d875-14fe-4077-b4c9-5ae5292fb5de",
   "metadata": {},
   "source": [
    "<b>Observation<b/> : \n",
    "    \n",
    "1. We can see that our model has a pretty good grasp on typical <mark style=\"background-color: lightgrey\">r/aliens</mark> posts here. Posts that include mention of alien or ufo are strongly predicted as <mark style=\"background-color: lightgrey\">r/aliens</mark> posts."
   ]
  },
  {
   "cell_type": "code",
   "execution_count": 3784,
   "id": "0a13929b-2fa7-45a2-80e1-5014f642b8ae",
   "metadata": {},
   "outputs": [
    {
     "data": {
      "text/html": [
       "<div>\n",
       "<style scoped>\n",
       "    .dataframe tbody tr th:only-of-type {\n",
       "        vertical-align: middle;\n",
       "    }\n",
       "\n",
       "    .dataframe tbody tr th {\n",
       "        vertical-align: top;\n",
       "    }\n",
       "\n",
       "    .dataframe thead th {\n",
       "        text-align: right;\n",
       "    }\n",
       "</style>\n",
       "<table border=\"1\" class=\"dataframe\">\n",
       "  <thead>\n",
       "    <tr style=\"text-align: right;\">\n",
       "      <th></th>\n",
       "      <th>space</th>\n",
       "      <th>aliens</th>\n",
       "      <th>content_token_lemma</th>\n",
       "    </tr>\n",
       "  </thead>\n",
       "  <tbody>\n",
       "    <tr>\n",
       "      <th>1244</th>\n",
       "      <td>0.993805</td>\n",
       "      <td>0.006195</td>\n",
       "      <td>nasa james webb space telescope lift off from south america</td>\n",
       "    </tr>\n",
       "    <tr>\n",
       "      <th>1329</th>\n",
       "      <td>0.989898</td>\n",
       "      <td>0.010102</td>\n",
       "      <td>james webb space telescope launch official nasa broadcast</td>\n",
       "    </tr>\n",
       "    <tr>\n",
       "      <th>1252</th>\n",
       "      <td>0.988949</td>\n",
       "      <td>0.011051</td>\n",
       "      <td>highlight from the james webb space telescope s long awaited launch the new york time here are highlight from the james webb space telescope launch video</td>\n",
       "    </tr>\n",
       "    <tr>\n",
       "      <th>1155</th>\n",
       "      <td>0.988460</td>\n",
       "      <td>0.011540</td>\n",
       "      <td>james webb space telescope s orbit</td>\n",
       "    </tr>\n",
       "    <tr>\n",
       "      <th>1435</th>\n",
       "      <td>0.988291</td>\n",
       "      <td>0.011709</td>\n",
       "      <td>the hubble space telescope in orbit since and their successor the james webb telescope</td>\n",
       "    </tr>\n",
       "    <tr>\n",
       "      <th>1318</th>\n",
       "      <td>0.987082</td>\n",
       "      <td>0.012918</td>\n",
       "      <td>the james webb space telescope is on it s way</td>\n",
       "    </tr>\n",
       "    <tr>\n",
       "      <th>1277</th>\n",
       "      <td>0.979802</td>\n",
       "      <td>0.020198</td>\n",
       "      <td>james webb space telescope launch timeline</td>\n",
       "    </tr>\n",
       "    <tr>\n",
       "      <th>880</th>\n",
       "      <td>0.979175</td>\n",
       "      <td>0.020825</td>\n",
       "      <td>james webb space telescope an astronomer on the team explains how to send a giant telescope to space and why</td>\n",
       "    </tr>\n",
       "    <tr>\n",
       "      <th>1270</th>\n",
       "      <td>0.978324</td>\n",
       "      <td>0.021676</td>\n",
       "      <td>nasa s billion james webb space telescope launch on epic mission to study early universe</td>\n",
       "    </tr>\n",
       "    <tr>\n",
       "      <th>1328</th>\n",
       "      <td>0.975627</td>\n",
       "      <td>0.024373</td>\n",
       "      <td>james webb space telescope ha successfully launched into orbit</td>\n",
       "    </tr>\n",
       "  </tbody>\n",
       "</table>\n",
       "</div>"
      ],
      "text/plain": [
       "         space    aliens  \\\n",
       "1244  0.993805  0.006195   \n",
       "1329  0.989898  0.010102   \n",
       "1252  0.988949  0.011051   \n",
       "1155  0.988460  0.011540   \n",
       "1435  0.988291  0.011709   \n",
       "1318  0.987082  0.012918   \n",
       "1277  0.979802  0.020198   \n",
       "880   0.979175  0.020825   \n",
       "1270  0.978324  0.021676   \n",
       "1328  0.975627  0.024373   \n",
       "\n",
       "                                                                                                                                            content_token_lemma  \n",
       "1244                                                                                                nasa james webb space telescope lift off from south america  \n",
       "1329                                                                                                  james webb space telescope launch official nasa broadcast  \n",
       "1252  highlight from the james webb space telescope s long awaited launch the new york time here are highlight from the james webb space telescope launch video  \n",
       "1155                                                                                                                         james webb space telescope s orbit  \n",
       "1435                                                                     the hubble space telescope in orbit since and their successor the james webb telescope  \n",
       "1318                                                                                                              the james webb space telescope is on it s way  \n",
       "1277                                                                                                                 james webb space telescope launch timeline  \n",
       "880                                                james webb space telescope an astronomer on the team explains how to send a giant telescope to space and why  \n",
       "1270                                                                   nasa s billion james webb space telescope launch on epic mission to study early universe  \n",
       "1328                                                                                             james webb space telescope ha successfully launched into orbit  "
      ]
     },
     "execution_count": 3784,
     "metadata": {},
     "output_type": "execute_result"
    }
   ],
   "source": [
    "# Display the top 10 predictions sorted by space probability in descending order \n",
    "\n",
    "predictions.sort_values('space', ascending = False).head(10)"
   ]
  },
  {
   "cell_type": "markdown",
   "id": "662bb6e5-32ed-454a-8730-d7abd9392a4f",
   "metadata": {},
   "source": [
    "<b>Observation<b/> : \n",
    "    \n",
    "1. We see that strongly predicted <mark style=\"background-color: lightgrey\">r/space</mark> posts are posts that involve mention of the James Webb Space Telescope. This suggests that discussion of James Webb Space Telescope issues are largely absent from <mark style=\"background-color: lightgrey\">r/aliens</mark>. We can probably assume that both subreddit doesn't have a particularly intersectional topic."
   ]
  },
  {
   "cell_type": "markdown",
   "id": "179ec9ed-4e45-41b5-8801-3c1b19feee34",
   "metadata": {},
   "source": [
    "### 5.3 Predictions on Test Data"
   ]
  },
  {
   "cell_type": "code",
   "execution_count": 3785,
   "id": "eecbca64-b6bc-4d4f-9adf-eae8470ebb03",
   "metadata": {},
   "outputs": [],
   "source": [
    "# Get the predictions of our X_test and add to predictions dataframe\n",
    "# Add the actual results to predictions dataframe\n",
    "\n",
    "predictions['preds'] = logreg_tvec_gs.predict(X_test)\n",
    "predictions['actual'] = y_test\n",
    "\n",
    "# Rearrange the columns\n",
    "predictions = predictions[['aliens', 'space', 'preds', 'actual', 'content_token_lemma']]"
   ]
  },
  {
   "cell_type": "code",
   "execution_count": 3786,
   "id": "1594f44a-d4f2-47ec-82cd-3791fd353a74",
   "metadata": {},
   "outputs": [
    {
     "data": {
      "text/html": [
       "<div>\n",
       "<style scoped>\n",
       "    .dataframe tbody tr th:only-of-type {\n",
       "        vertical-align: middle;\n",
       "    }\n",
       "\n",
       "    .dataframe tbody tr th {\n",
       "        vertical-align: top;\n",
       "    }\n",
       "\n",
       "    .dataframe thead th {\n",
       "        text-align: right;\n",
       "    }\n",
       "</style>\n",
       "<table border=\"1\" class=\"dataframe\">\n",
       "  <thead>\n",
       "    <tr style=\"text-align: right;\">\n",
       "      <th></th>\n",
       "      <th>aliens</th>\n",
       "      <th>space</th>\n",
       "      <th>preds</th>\n",
       "      <th>actual</th>\n",
       "      <th>content_token_lemma</th>\n",
       "    </tr>\n",
       "  </thead>\n",
       "  <tbody>\n",
       "    <tr>\n",
       "      <th>446</th>\n",
       "      <td>0.739878</td>\n",
       "      <td>0.260122</td>\n",
       "      <td>1</td>\n",
       "      <td>1</td>\n",
       "      <td>are there any creditable account description of the internals of an alien ship i d love to read about the technology layout or any info i can get my hand on about the internals of a ship</td>\n",
       "    </tr>\n",
       "    <tr>\n",
       "      <th>1044</th>\n",
       "      <td>0.573166</td>\n",
       "      <td>0.426834</td>\n",
       "      <td>1</td>\n",
       "      <td>0</td>\n",
       "      <td>how did they discover quasar in the s</td>\n",
       "    </tr>\n",
       "    <tr>\n",
       "      <th>97</th>\n",
       "      <td>0.638998</td>\n",
       "      <td>0.361002</td>\n",
       "      <td>1</td>\n",
       "      <td>1</td>\n",
       "      <td>where can i watch full thing even if it s fake</td>\n",
       "    </tr>\n",
       "    <tr>\n",
       "      <th>183</th>\n",
       "      <td>0.729228</td>\n",
       "      <td>0.270772</td>\n",
       "      <td>1</td>\n",
       "      <td>1</td>\n",
       "      <td>the structure on the moon are a covering or field structure or craft and alien below snd on the surface</td>\n",
       "    </tr>\n",
       "    <tr>\n",
       "      <th>1010</th>\n",
       "      <td>0.362322</td>\n",
       "      <td>0.637678</td>\n",
       "      <td>0</td>\n",
       "      <td>0</td>\n",
       "      <td>study give a new perspective on why our planet ha managed to stay habitable for billion of year concluding it is almost certainly due at least in part to luck the research suggests this may shorten the odds of finding life on so called twin earth in the universe</td>\n",
       "    </tr>\n",
       "  </tbody>\n",
       "</table>\n",
       "</div>"
      ],
      "text/plain": [
       "        aliens     space  preds  actual  \\\n",
       "446   0.739878  0.260122      1       1   \n",
       "1044  0.573166  0.426834      1       0   \n",
       "97    0.638998  0.361002      1       1   \n",
       "183   0.729228  0.270772      1       1   \n",
       "1010  0.362322  0.637678      0       0   \n",
       "\n",
       "                                                                                                                                                                                                                                                         content_token_lemma  \n",
       "446                                                                               are there any creditable account description of the internals of an alien ship i d love to read about the technology layout or any info i can get my hand on about the internals of a ship  \n",
       "1044                                                                                                                                                                                                                                   how did they discover quasar in the s  \n",
       "97                                                                                                                                                                                                                            where can i watch full thing even if it s fake  \n",
       "183                                                                                                                                                                  the structure on the moon are a covering or field structure or craft and alien below snd on the surface  \n",
       "1010  study give a new perspective on why our planet ha managed to stay habitable for billion of year concluding it is almost certainly due at least in part to luck the research suggests this may shorten the odds of finding life on so called twin earth in the universe  "
      ]
     },
     "execution_count": 3786,
     "metadata": {},
     "output_type": "execute_result"
    }
   ],
   "source": [
    "# Check the first 5 rows of predictions dataframe\n",
    "\n",
    "predictions.head()"
   ]
  },
  {
   "cell_type": "code",
   "execution_count": 3787,
   "id": "1ee01e5a-3d16-4f43-8aff-99605b086b35",
   "metadata": {},
   "outputs": [],
   "source": [
    "# Filter predictions dataframe where predictions not equal to actual\n",
    "\n",
    "wrong_predictions = predictions[predictions['preds'] != predictions['actual']]"
   ]
  },
  {
   "cell_type": "code",
   "execution_count": 3788,
   "id": "43e450d6-cdf5-4448-8585-0604c433ea3b",
   "metadata": {
    "scrolled": true,
    "tags": []
   },
   "outputs": [
    {
     "data": {
      "text/html": [
       "<div>\n",
       "<style scoped>\n",
       "    .dataframe tbody tr th:only-of-type {\n",
       "        vertical-align: middle;\n",
       "    }\n",
       "\n",
       "    .dataframe tbody tr th {\n",
       "        vertical-align: top;\n",
       "    }\n",
       "\n",
       "    .dataframe thead th {\n",
       "        text-align: right;\n",
       "    }\n",
       "</style>\n",
       "<table border=\"1\" class=\"dataframe\">\n",
       "  <thead>\n",
       "    <tr style=\"text-align: right;\">\n",
       "      <th></th>\n",
       "      <th>aliens</th>\n",
       "      <th>space</th>\n",
       "      <th>preds</th>\n",
       "      <th>actual</th>\n",
       "      <th>content_token_lemma</th>\n",
       "    </tr>\n",
       "  </thead>\n",
       "  <tbody>\n",
       "    <tr>\n",
       "      <th>182</th>\n",
       "      <td>0.042028</td>\n",
       "      <td>0.957972</td>\n",
       "      <td>0</td>\n",
       "      <td>1</td>\n",
       "      <td>james webb telescope launch countdown</td>\n",
       "    </tr>\n",
       "    <tr>\n",
       "      <th>336</th>\n",
       "      <td>0.448139</td>\n",
       "      <td>0.551861</td>\n",
       "      <td>0</td>\n",
       "      <td>1</td>\n",
       "      <td>what is the ultimate goal of any advanced civilization the goal is to become a level and beyond type civilization to turn the universe into nothing more than a sandbox literally unimaginable technology anything you can think of in your head will be primitive to this civilization moving star the power of god performing miracle everything in star trek creating other universe turning a galaxy into a giant computer immortality etc this is our goal this is every living being s goal in the universe so what s after that after we ve usurped god after we ve conquered all knowledge after we can travel outside of space and time what s after that it won t take that long for u to do it once the singularity happens so what s next</td>\n",
       "    </tr>\n",
       "    <tr>\n",
       "      <th>691</th>\n",
       "      <td>0.274305</td>\n",
       "      <td>0.725695</td>\n",
       "      <td>0</td>\n",
       "      <td>1</td>\n",
       "      <td>nasa the moon and ancient architecture dr jason reza jorjani</td>\n",
       "    </tr>\n",
       "    <tr>\n",
       "      <th>235</th>\n",
       "      <td>0.376465</td>\n",
       "      <td>0.623535</td>\n",
       "      <td>0</td>\n",
       "      <td>1</td>\n",
       "      <td>my christmas gift to myself came a few day early</td>\n",
       "    </tr>\n",
       "    <tr>\n",
       "      <th>52</th>\n",
       "      <td>0.413595</td>\n",
       "      <td>0.586405</td>\n",
       "      <td>0</td>\n",
       "      <td>1</td>\n",
       "      <td>if we build it they will come</td>\n",
       "    </tr>\n",
       "    <tr>\n",
       "      <th>117</th>\n",
       "      <td>0.483503</td>\n",
       "      <td>0.516497</td>\n",
       "      <td>0</td>\n",
       "      <td>1</td>\n",
       "      <td>ever seen venus do this watch rite side on cross the morph the dr</td>\n",
       "    </tr>\n",
       "    <tr>\n",
       "      <th>167</th>\n",
       "      <td>0.354897</td>\n",
       "      <td>0.645103</td>\n",
       "      <td>0</td>\n",
       "      <td>1</td>\n",
       "      <td>this this shirt i got for christmas merry christmas fellow truth seeker</td>\n",
       "    </tr>\n",
       "    <tr>\n",
       "      <th>165</th>\n",
       "      <td>0.379958</td>\n",
       "      <td>0.620042</td>\n",
       "      <td>0</td>\n",
       "      <td>1</td>\n",
       "      <td>do alien exist the key mystery that could be unlocked after the james webb telescope launched world news</td>\n",
       "    </tr>\n",
       "    <tr>\n",
       "      <th>38</th>\n",
       "      <td>0.436503</td>\n",
       "      <td>0.563497</td>\n",
       "      <td>0</td>\n",
       "      <td>1</td>\n",
       "      <td>kic tabby s star</td>\n",
       "    </tr>\n",
       "    <tr>\n",
       "      <th>638</th>\n",
       "      <td>0.154145</td>\n",
       "      <td>0.845855</td>\n",
       "      <td>0</td>\n",
       "      <td>1</td>\n",
       "      <td>what is that official nasa moon photo</td>\n",
       "    </tr>\n",
       "    <tr>\n",
       "      <th>138</th>\n",
       "      <td>0.483739</td>\n",
       "      <td>0.516261</td>\n",
       "      <td>0</td>\n",
       "      <td>1</td>\n",
       "      <td>came across this image is it legit</td>\n",
       "    </tr>\n",
       "    <tr>\n",
       "      <th>131</th>\n",
       "      <td>0.454395</td>\n",
       "      <td>0.545605</td>\n",
       "      <td>0</td>\n",
       "      <td>1</td>\n",
       "      <td>the government is preparing u for the james webb space telescope unequivocally confirming advanced civilization in anyone else feel like all the recent medium coverage and government confirmation of ufo s is because the government know that the james webb space telescope will confirm advanced civilization the gov t ha no way to keep that under wrap so they have been slowly preparing u with leak video confirming ufo exist</td>\n",
       "    </tr>\n",
       "    <tr>\n",
       "      <th>375</th>\n",
       "      <td>0.154333</td>\n",
       "      <td>0.845667</td>\n",
       "      <td>0</td>\n",
       "      <td>1</td>\n",
       "      <td>what are you most excited regarding the james webb telescope is there any chance that nasa is hiding any function ability of the telescope</td>\n",
       "    </tr>\n",
       "  </tbody>\n",
       "</table>\n",
       "</div>"
      ],
      "text/plain": [
       "       aliens     space  preds  actual  \\\n",
       "182  0.042028  0.957972      0       1   \n",
       "336  0.448139  0.551861      0       1   \n",
       "691  0.274305  0.725695      0       1   \n",
       "235  0.376465  0.623535      0       1   \n",
       "52   0.413595  0.586405      0       1   \n",
       "117  0.483503  0.516497      0       1   \n",
       "167  0.354897  0.645103      0       1   \n",
       "165  0.379958  0.620042      0       1   \n",
       "38   0.436503  0.563497      0       1   \n",
       "638  0.154145  0.845855      0       1   \n",
       "138  0.483739  0.516261      0       1   \n",
       "131  0.454395  0.545605      0       1   \n",
       "375  0.154333  0.845667      0       1   \n",
       "\n",
       "                                                                                                                                                                                                                                                                                                                                                                                                                                                                                                                                                                                                                                                                                                                                       content_token_lemma  \n",
       "182                                                                                                                                                                                                                                                                                                                                                                                                                                                                                                                                                                                                                                                                                                                  james webb telescope launch countdown  \n",
       "336  what is the ultimate goal of any advanced civilization the goal is to become a level and beyond type civilization to turn the universe into nothing more than a sandbox literally unimaginable technology anything you can think of in your head will be primitive to this civilization moving star the power of god performing miracle everything in star trek creating other universe turning a galaxy into a giant computer immortality etc this is our goal this is every living being s goal in the universe so what s after that after we ve usurped god after we ve conquered all knowledge after we can travel outside of space and time what s after that it won t take that long for u to do it once the singularity happens so what s next  \n",
       "691                                                                                                                                                                                                                                                                                                                                                                                                                                                                                                                                                                                                                                                                                           nasa the moon and ancient architecture dr jason reza jorjani  \n",
       "235                                                                                                                                                                                                                                                                                                                                                                                                                                                                                                                                                                                                                                                                                                       my christmas gift to myself came a few day early  \n",
       "52                                                                                                                                                                                                                                                                                                                                                                                                                                                                                                                                                                                                                                                                                                                           if we build it they will come  \n",
       "117                                                                                                                                                                                                                                                                                                                                                                                                                                                                                                                                                                                                                                                                                      ever seen venus do this watch rite side on cross the morph the dr  \n",
       "167                                                                                                                                                                                                                                                                                                                                                                                                                                                                                                                                                                                                                                                                                this this shirt i got for christmas merry christmas fellow truth seeker  \n",
       "165                                                                                                                                                                                                                                                                                                                                                                                                                                                                                                                                                                                                                                               do alien exist the key mystery that could be unlocked after the james webb telescope launched world news  \n",
       "38                                                                                                                                                                                                                                                                                                                                                                                                                                                                                                                                                                                                                                                                                                                                        kic tabby s star  \n",
       "638                                                                                                                                                                                                                                                                                                                                                                                                                                                                                                                                                                                                                                                                                                                  what is that official nasa moon photo  \n",
       "138                                                                                                                                                                                                                                                                                                                                                                                                                                                                                                                                                                                                                                                                                                                     came across this image is it legit  \n",
       "131                                                                                                                                                                                                                                                                                                               the government is preparing u for the james webb space telescope unequivocally confirming advanced civilization in anyone else feel like all the recent medium coverage and government confirmation of ufo s is because the government know that the james webb space telescope will confirm advanced civilization the gov t ha no way to keep that under wrap so they have been slowly preparing u with leak video confirming ufo exist  \n",
       "375                                                                                                                                                                                                                                                                                                                                                                                                                                                                                                                                                                                                             what are you most excited regarding the james webb telescope is there any chance that nasa is hiding any function ability of the telescope  "
      ]
     },
     "execution_count": 3788,
     "metadata": {},
     "output_type": "execute_result"
    }
   ],
   "source": [
    "# False positive - posts that wrongly classifies as space subreddit\n",
    "\n",
    "wrong_predictions[wrong_predictions['preds'] == 0]"
   ]
  },
  {
   "cell_type": "code",
   "execution_count": 3789,
   "id": "e459ba1b-d7a4-4f25-97f8-f4a0d78ec68b",
   "metadata": {
    "scrolled": true,
    "tags": []
   },
   "outputs": [
    {
     "data": {
      "text/html": [
       "<div>\n",
       "<style scoped>\n",
       "    .dataframe tbody tr th:only-of-type {\n",
       "        vertical-align: middle;\n",
       "    }\n",
       "\n",
       "    .dataframe tbody tr th {\n",
       "        vertical-align: top;\n",
       "    }\n",
       "\n",
       "    .dataframe thead th {\n",
       "        text-align: right;\n",
       "    }\n",
       "</style>\n",
       "<table border=\"1\" class=\"dataframe\">\n",
       "  <thead>\n",
       "    <tr style=\"text-align: right;\">\n",
       "      <th></th>\n",
       "      <th>aliens</th>\n",
       "      <th>space</th>\n",
       "      <th>preds</th>\n",
       "      <th>actual</th>\n",
       "      <th>content_token_lemma</th>\n",
       "    </tr>\n",
       "  </thead>\n",
       "  <tbody>\n",
       "    <tr>\n",
       "      <th>1044</th>\n",
       "      <td>0.573166</td>\n",
       "      <td>0.426834</td>\n",
       "      <td>1</td>\n",
       "      <td>0</td>\n",
       "      <td>how did they discover quasar in the s</td>\n",
       "    </tr>\n",
       "    <tr>\n",
       "      <th>832</th>\n",
       "      <td>0.506787</td>\n",
       "      <td>0.493213</td>\n",
       "      <td>1</td>\n",
       "      <td>0</td>\n",
       "      <td>buy trustpilot review safe non drop star positive review</td>\n",
       "    </tr>\n",
       "    <tr>\n",
       "      <th>1434</th>\n",
       "      <td>0.709951</td>\n",
       "      <td>0.290049</td>\n",
       "      <td>1</td>\n",
       "      <td>0</td>\n",
       "      <td>look a fast a you can intelligent life part</td>\n",
       "    </tr>\n",
       "    <tr>\n",
       "      <th>1061</th>\n",
       "      <td>0.634881</td>\n",
       "      <td>0.365119</td>\n",
       "      <td>1</td>\n",
       "      <td>0</td>\n",
       "      <td>ign there s a weird cube on the moon ign</td>\n",
       "    </tr>\n",
       "    <tr>\n",
       "      <th>969</th>\n",
       "      <td>0.514068</td>\n",
       "      <td>0.485932</td>\n",
       "      <td>1</td>\n",
       "      <td>0</td>\n",
       "      <td>well that aged poorly</td>\n",
       "    </tr>\n",
       "    <tr>\n",
       "      <th>1444</th>\n",
       "      <td>0.566674</td>\n",
       "      <td>0.433326</td>\n",
       "      <td>1</td>\n",
       "      <td>0</td>\n",
       "      <td>looking through nvg this star is bright but appears blurry why</td>\n",
       "    </tr>\n",
       "    <tr>\n",
       "      <th>1319</th>\n",
       "      <td>0.546015</td>\n",
       "      <td>0.453985</td>\n",
       "      <td>1</td>\n",
       "      <td>0</td>\n",
       "      <td>i can t believe i am now reading wa launched instead of will a true next generation telescope ad astra</td>\n",
       "    </tr>\n",
       "    <tr>\n",
       "      <th>1323</th>\n",
       "      <td>0.651494</td>\n",
       "      <td>0.348506</td>\n",
       "      <td>1</td>\n",
       "      <td>0</td>\n",
       "      <td>we start another story for humanity</td>\n",
       "    </tr>\n",
       "    <tr>\n",
       "      <th>1324</th>\n",
       "      <td>0.665371</td>\n",
       "      <td>0.334629</td>\n",
       "      <td>1</td>\n",
       "      <td>0</td>\n",
       "      <td>guy another story unfolding itself</td>\n",
       "    </tr>\n",
       "    <tr>\n",
       "      <th>1484</th>\n",
       "      <td>0.624798</td>\n",
       "      <td>0.375202</td>\n",
       "      <td>1</td>\n",
       "      <td>0</td>\n",
       "      <td>can anyone help identifying what this project wa</td>\n",
       "    </tr>\n",
       "    <tr>\n",
       "      <th>970</th>\n",
       "      <td>0.601696</td>\n",
       "      <td>0.398304</td>\n",
       "      <td>1</td>\n",
       "      <td>0</td>\n",
       "      <td>starry night in rural colorado</td>\n",
       "    </tr>\n",
       "    <tr>\n",
       "      <th>1292</th>\n",
       "      <td>0.594544</td>\n",
       "      <td>0.405456</td>\n",
       "      <td>1</td>\n",
       "      <td>0</td>\n",
       "      <td>what is this thailand right now</td>\n",
       "    </tr>\n",
       "    <tr>\n",
       "      <th>1516</th>\n",
       "      <td>0.646608</td>\n",
       "      <td>0.353392</td>\n",
       "      <td>1</td>\n",
       "      <td>0</td>\n",
       "      <td>wouldn t the first word on the moon be contact light spoken by buzz aldrin and not one small step ever since i wa little i always felt like buzz wa cheated in that regard anyone else out there agree with me or am i just weird</td>\n",
       "    </tr>\n",
       "    <tr>\n",
       "      <th>1498</th>\n",
       "      <td>0.621818</td>\n",
       "      <td>0.378182</td>\n",
       "      <td>1</td>\n",
       "      <td>0</td>\n",
       "      <td>felt like sharing it it so informative and always amazes be evrytime i watch it</td>\n",
       "    </tr>\n",
       "    <tr>\n",
       "      <th>1105</th>\n",
       "      <td>0.551576</td>\n",
       "      <td>0.448424</td>\n",
       "      <td>1</td>\n",
       "      <td>0</td>\n",
       "      <td>the firmament short film</td>\n",
       "    </tr>\n",
       "    <tr>\n",
       "      <th>1468</th>\n",
       "      <td>0.558659</td>\n",
       "      <td>0.441341</td>\n",
       "      <td>1</td>\n",
       "      <td>0</td>\n",
       "      <td>fact about earth short fact factsaboutearth earth nature mother</td>\n",
       "    </tr>\n",
       "    <tr>\n",
       "      <th>1368</th>\n",
       "      <td>0.635459</td>\n",
       "      <td>0.364541</td>\n",
       "      <td>1</td>\n",
       "      <td>0</td>\n",
       "      <td>why doesn t science accept the truth when there is photo evidence of alien s and demon my picture can be tested in any way and i stand behind them i have a gift to be able to expose what s out there</td>\n",
       "    </tr>\n",
       "    <tr>\n",
       "      <th>1147</th>\n",
       "      <td>0.501954</td>\n",
       "      <td>0.498046</td>\n",
       "      <td>1</td>\n",
       "      <td>0</td>\n",
       "      <td>my father gave me this antique french sun earth orbital relationship on christmas day i would love to frame it but also protect the color from fading how would you frame it</td>\n",
       "    </tr>\n",
       "    <tr>\n",
       "      <th>1085</th>\n",
       "      <td>0.705130</td>\n",
       "      <td>0.294870</td>\n",
       "      <td>1</td>\n",
       "      <td>0</td>\n",
       "      <td>got this with my new nexstar se if my alignment wa correct that is the general area of m doesn t look like any pic i ve seen of andromeda though any insight</td>\n",
       "    </tr>\n",
       "    <tr>\n",
       "      <th>1223</th>\n",
       "      <td>0.511384</td>\n",
       "      <td>0.488616</td>\n",
       "      <td>1</td>\n",
       "      <td>0</td>\n",
       "      <td>evidence of orion propulsion from phobos and deimos using nuclear pulse detonation</td>\n",
       "    </tr>\n",
       "    <tr>\n",
       "      <th>800</th>\n",
       "      <td>0.722763</td>\n",
       "      <td>0.277237</td>\n",
       "      <td>1</td>\n",
       "      <td>0</td>\n",
       "      <td>why are blackholes so enigmatic couldnt they simply be a really dense sphere inside a bigger dark sphere where the light cant escape from the inside sphere singularity we just cant observe the inside sphere because the light cant escape what is complicated about it</td>\n",
       "    </tr>\n",
       "    <tr>\n",
       "      <th>1116</th>\n",
       "      <td>0.509889</td>\n",
       "      <td>0.490111</td>\n",
       "      <td>1</td>\n",
       "      <td>0</td>\n",
       "      <td>southern cross using iphone</td>\n",
       "    </tr>\n",
       "    <tr>\n",
       "      <th>1168</th>\n",
       "      <td>0.584781</td>\n",
       "      <td>0.415219</td>\n",
       "      <td>1</td>\n",
       "      <td>0</td>\n",
       "      <td>iive stream of the night sky</td>\n",
       "    </tr>\n",
       "    <tr>\n",
       "      <th>1169</th>\n",
       "      <td>0.530697</td>\n",
       "      <td>0.469303</td>\n",
       "      <td>1</td>\n",
       "      <td>0</td>\n",
       "      <td>completely unedited image of a mystery galaxy discovered by me through zooniverse galaxy zoo</td>\n",
       "    </tr>\n",
       "    <tr>\n",
       "      <th>1231</th>\n",
       "      <td>0.527793</td>\n",
       "      <td>0.472207</td>\n",
       "      <td>1</td>\n",
       "      <td>0</td>\n",
       "      <td>what would happen if the earth nearly touched the sun would we die or just feel a bit hotter than usual</td>\n",
       "    </tr>\n",
       "    <tr>\n",
       "      <th>1256</th>\n",
       "      <td>0.650650</td>\n",
       "      <td>0.349350</td>\n",
       "      <td>1</td>\n",
       "      <td>0</td>\n",
       "      <td>anyone else think it amazing we can achieve this</td>\n",
       "    </tr>\n",
       "    <tr>\n",
       "      <th>1071</th>\n",
       "      <td>0.549869</td>\n",
       "      <td>0.450131</td>\n",
       "      <td>1</td>\n",
       "      <td>0</td>\n",
       "      <td>you tell me some of my better picture so if it s just lens blare or something i made up explain these picture because it seems clear to what they are</td>\n",
       "    </tr>\n",
       "    <tr>\n",
       "      <th>808</th>\n",
       "      <td>0.692841</td>\n",
       "      <td>0.307159</td>\n",
       "      <td>1</td>\n",
       "      <td>0</td>\n",
       "      <td>life on venus could be hiding in it weird cloud</td>\n",
       "    </tr>\n",
       "  </tbody>\n",
       "</table>\n",
       "</div>"
      ],
      "text/plain": [
       "        aliens     space  preds  actual  \\\n",
       "1044  0.573166  0.426834      1       0   \n",
       "832   0.506787  0.493213      1       0   \n",
       "1434  0.709951  0.290049      1       0   \n",
       "1061  0.634881  0.365119      1       0   \n",
       "969   0.514068  0.485932      1       0   \n",
       "1444  0.566674  0.433326      1       0   \n",
       "1319  0.546015  0.453985      1       0   \n",
       "1323  0.651494  0.348506      1       0   \n",
       "1324  0.665371  0.334629      1       0   \n",
       "1484  0.624798  0.375202      1       0   \n",
       "970   0.601696  0.398304      1       0   \n",
       "1292  0.594544  0.405456      1       0   \n",
       "1516  0.646608  0.353392      1       0   \n",
       "1498  0.621818  0.378182      1       0   \n",
       "1105  0.551576  0.448424      1       0   \n",
       "1468  0.558659  0.441341      1       0   \n",
       "1368  0.635459  0.364541      1       0   \n",
       "1147  0.501954  0.498046      1       0   \n",
       "1085  0.705130  0.294870      1       0   \n",
       "1223  0.511384  0.488616      1       0   \n",
       "800   0.722763  0.277237      1       0   \n",
       "1116  0.509889  0.490111      1       0   \n",
       "1168  0.584781  0.415219      1       0   \n",
       "1169  0.530697  0.469303      1       0   \n",
       "1231  0.527793  0.472207      1       0   \n",
       "1256  0.650650  0.349350      1       0   \n",
       "1071  0.549869  0.450131      1       0   \n",
       "808   0.692841  0.307159      1       0   \n",
       "\n",
       "                                                                                                                                                                                                                                                            content_token_lemma  \n",
       "1044                                                                                                                                                                                                                                      how did they discover quasar in the s  \n",
       "832                                                                                                                                                                                                                    buy trustpilot review safe non drop star positive review  \n",
       "1434                                                                                                                                                                                                                                look a fast a you can intelligent life part  \n",
       "1061                                                                                                                                                                                                                                   ign there s a weird cube on the moon ign  \n",
       "969                                                                                                                                                                                                                                                       well that aged poorly  \n",
       "1444                                                                                                                                                                                                             looking through nvg this star is bright but appears blurry why  \n",
       "1319                                                                                                                                                                     i can t believe i am now reading wa launched instead of will a true next generation telescope ad astra  \n",
       "1323                                                                                                                                                                                                                                        we start another story for humanity  \n",
       "1324                                                                                                                                                                                                                                         guy another story unfolding itself  \n",
       "1484                                                                                                                                                                                                                           can anyone help identifying what this project wa  \n",
       "970                                                                                                                                                                                                                                              starry night in rural colorado  \n",
       "1292                                                                                                                                                                                                                                            what is this thailand right now  \n",
       "1516                                          wouldn t the first word on the moon be contact light spoken by buzz aldrin and not one small step ever since i wa little i always felt like buzz wa cheated in that regard anyone else out there agree with me or am i just weird  \n",
       "1498                                                                                                                                                                                            felt like sharing it it so informative and always amazes be evrytime i watch it  \n",
       "1105                                                                                                                                                                                                                                                   the firmament short film  \n",
       "1468                                                                                                                                                                                                            fact about earth short fact factsaboutearth earth nature mother  \n",
       "1368                                                                     why doesn t science accept the truth when there is photo evidence of alien s and demon my picture can be tested in any way and i stand behind them i have a gift to be able to expose what s out there  \n",
       "1147                                                                                               my father gave me this antique french sun earth orbital relationship on christmas day i would love to frame it but also protect the color from fading how would you frame it  \n",
       "1085                                                                                                               got this with my new nexstar se if my alignment wa correct that is the general area of m doesn t look like any pic i ve seen of andromeda though any insight  \n",
       "1223                                                                                                                                                                                         evidence of orion propulsion from phobos and deimos using nuclear pulse detonation  \n",
       "800   why are blackholes so enigmatic couldnt they simply be a really dense sphere inside a bigger dark sphere where the light cant escape from the inside sphere singularity we just cant observe the inside sphere because the light cant escape what is complicated about it  \n",
       "1116                                                                                                                                                                                                                                                southern cross using iphone  \n",
       "1168                                                                                                                                                                                                                                               iive stream of the night sky  \n",
       "1169                                                                                                                                                                               completely unedited image of a mystery galaxy discovered by me through zooniverse galaxy zoo  \n",
       "1231                                                                                                                                                                    what would happen if the earth nearly touched the sun would we die or just feel a bit hotter than usual  \n",
       "1256                                                                                                                                                                                                                           anyone else think it amazing we can achieve this  \n",
       "1071                                                                                                                      you tell me some of my better picture so if it s just lens blare or something i made up explain these picture because it seems clear to what they are  \n",
       "808                                                                                                                                                                                                                             life on venus could be hiding in it weird cloud  "
      ]
     },
     "execution_count": 3789,
     "metadata": {},
     "output_type": "execute_result"
    }
   ],
   "source": [
    "# False negative - posts that wrongly classifies as aliens subreddit\n",
    "\n",
    "wrong_predictions[wrong_predictions['preds'] == 1]"
   ]
  },
  {
   "cell_type": "markdown",
   "id": "1ad84084-7dc6-4c09-bd3f-75ca56af96d1",
   "metadata": {},
   "source": [
    "## 6. Conclusion"
   ]
  },
  {
   "cell_type": "code",
   "execution_count": 3790,
   "id": "b630c181-d238-45e4-9e01-2b266d92a6b2",
   "metadata": {},
   "outputs": [
    {
     "data": {
      "image/png": "[encoded data removed]",
      "text/plain": [
       "<Figure size 576x432 with 1 Axes>"
      ]
     },
     "metadata": {
      "needs_background": "light"
     },
     "output_type": "display_data"
    }
   ],
   "source": [
    "# Plot R2 comparison by Model & Train/Test Data\n",
    "\n",
    "labels = ['LR-CVEC', 'LR-TVEC', 'NB-CVEC', 'NB-TVEC', 'RF-CVEC', 'RF-TVEC']\n",
    "\n",
    "train_r2 = [logreg_cvec_gs.score(X_train, y_train), \n",
    "            logreg_tvec_gs.score(X_train, y_train), \n",
    "            nb_cvec_gs.score(X_train, y_train), \n",
    "            nb_tvec_gs.score(X_train, y_train),\n",
    "            rf_cvec.score(X_train, y_train), \n",
    "            rf_tvec.score(X_train, y_train),]\n",
    "\n",
    "test_r2 = [logreg_cvec_gs.score(X_test, y_test), \n",
    "           logreg_tvec_gs.score(X_test, y_test), \n",
    "           nb_cvec_gs.score(X_test, y_test), \n",
    "           nb_tvec_gs.score(X_test, y_test),\n",
    "            rf_cvec.score(X_test, y_test), \n",
    "            rf_tvec.score(X_test, y_test),]\n",
    "\n",
    "x = np.arange(len(labels))  # the label locations\n",
    "width = 0.3  # the width of the bars\n",
    "\n",
    "fig, ax = plt.subplots(figsize = (8,6))\n",
    "ax.bar(x - width/2, train_r2, width, label='train_r2')\n",
    "ax.bar(x + width/2, test_r2, width, label='test_r2', color='skyblue')\n",
    "\n",
    "# Set the y-label, x-axis tick label & title .\n",
    "ax.set_ylabel('R2 Accuracy Score')\n",
    "ax.set_xlabel('Model')\n",
    "ax.set_title('R2 Accuracy by Model')\n",
    "ax.set_xticks(x)\n",
    "ax.set_xticklabels(labels)\n",
    "ax.axhline(y = 0.507, linestyle='dotted', color='red', label='baseline accuracy')\n",
    "\n",
    "# Set the legend location\n",
    "ax.legend(loc = \"lower right\")\n",
    "fig.tight_layout()\n"
   ]
  },
  {
   "cell_type": "markdown",
   "id": "d594cca3-f95a-46cf-9f6e-1c7a46034b25",
   "metadata": {},
   "source": [
    "|Model|Vectorizer|Train Score|Test Score|F1_score|AUC|Remarks|\n",
    "|---|---|---|---|---|---|---|\n",
    "|LogisticRegression(random_state=42)|CountVectorizer(stop_words='english')|0.9774|0.8991|0.8996|0.96|With Hyperparameter Tuning| \n",
    "|LogisticRegression(random_state=42)|TfidfVectorizer(stop_words='english')|0.9718|0.9101|0.914|0.96|With Hyperparameter Tuning|\n",
    "|MultinomialNB()|CountVectorizer(stop_words='english')|0.9718|0.8969|0.9011|0.96|With Hyperparameter Tuning|\n",
    "|MultinomialNB()|TfidfVectorizer(stop_words='english')|0.9793|0.8969|0.9006|0.96|With Hyperparameter Tuning|\n",
    "|RandomForestClassifier(random_state=42)|CountVectorizer(stop_words='english')|1.0|0.8728|0.8835|0.96|Without Hyperparameter Tuning|\n",
    "|RandomForestClassifier(random_state=42)|TfidfVectorizer(stop_words='english')|1.0|0.8728|0.8835|0.96|Without Hyperparameter Tuning|"
   ]
  },
  {
   "cell_type": "markdown",
   "id": "f3dd734c-949f-4690-a16c-6587cd81fcb1",
   "metadata": {},
   "source": [
    "As we can see, all the models R2 accuracy (87.2% ~ 91%) and F1-score (88.3% ~ 91.4%) are fairly similar but still predicts much better than our baseline score(50.6%). All the models are very good at distinguishing between the <mark style=\"background-color: lightgrey\">r/aliens</mark> (positive class) and <mark style=\"background-color: lightgrey\">r/space</mark> (negative class) with AUC score equal to 0.96. This shows that <mark style=\"background-color: lightgrey\">r/aliens</mark> and <mark style=\"background-color: lightgrey\">r/space</mark> really do just talk about very different, distinct things. Overall, Logistic Regression with TF-IDF Vectorizer produces the highest accuracy results and least amount of misclassification among other models. After careful consideration and judgement, we decided to choose Logistic Regression with TF-IDF Vectorizer model as our production model because:\n",
    "\n",
    "- It is easier to implement and interpret. \n",
    "- The model coefficients can be easily interpreted as indicators of feature importance. The model is using the coefficients of each word in the post and calculates the odds of it belonging to <mark style=\"background-color: lightgrey\">r/aliens</mark> or belong to <mark style=\"background-color: lightgrey\">r/space</mark>.\n",
    "\n",
    "Even though, Random Forests reduces overfitting in decision trees and helps to improve the accuracy. The major limitation of Random Forests is it requires much computational power as well as resources as it builds numerous trees to combine their outputs. It also requires much time for training as it combines a lot of decision trees to determine the class. Last but not least, due to the ensemble of decision trees, it suffers interpretability and fails to determine the significance of each variable."
   ]
  },
  {
   "cell_type": "markdown",
   "id": "f6cd66fd-2aae-4502-bf8e-1647ae85f68a",
   "metadata": {},
   "source": [
    "## 7. Recommendations\n",
    "\n",
    "Based on our model, the key words that best differentiates posts related from <mark style=\"background-color: lightgrey\">r/aliens</mark> to <mark style=\"background-color: lightgrey\">r/space</mark> are:\n",
    "\n",
    "The top 5 words with the highest odd for <mark style=\"background-color: lightgrey\">r/aliens</mark>:\n",
    "- alien\n",
    "- ufo\n",
    "- think \n",
    "- like\n",
    "- human\n",
    "\n",
    "The top 5 words with the highest odd for <mark style=\"background-color: lightgrey\">r/space</mark>:\n",
    "- jwst\n",
    "- space\n",
    "- webb\n",
    "- telescope\n",
    "- launch\n",
    "\n",
    "The more the above listed words appear in a posts, the better the model to differentiates posts related to <mark style=\"background-color: lightgrey\">r/aliens</mark> from <mark style=\"background-color: lightgrey\">r/space</mark>. The current trend in <mark style=\"background-color: lightgrey\">r/aliens</mark> is talking about general extraterrestrial life that may exist in the universe outside of Earth. Whereas for <mark style=\"background-color: lightgrey\">r/space</mark>, the latest topic is about James Webb Space Telescope which is a space telescope and an international collaboration among NASA, the European Space Agency, and the Canadian Space Agency which launch on 25th December 2021."
   ]
  },
  {
   "cell_type": "markdown",
   "id": "3647f17a-f9cb-4914-91d8-174679b8d739",
   "metadata": {},
   "source": [
    "## 8. Limitations & Improvement\n",
    "\n",
    "As demonstrated by the false predictions above, our model does have some limitations, especially when it comes to predicting <mark style=\"background-color: lightgrey\">r/aliens</mark> posts. Mentioning James Webb Space Telescope or NASA throws off our model, even though it could potentially be an issue pertinent to <mark style=\"background-color: lightgrey\">r/aliens</mark>. Last but not least, limited computational power also unable us to try a more complex algorithm to improve our models as complex algorithm takes a longer time to train the data.  \n",
    "\n",
    "Areas for improvement and future exploration:\n",
    "1. Use word similarities (e.g. word2vec) to classify posts instead of frequency.\n",
    "2. Try Support Vector Machine algorithm for classification.\n",
    "3. Explore relationship between post content, number of comments, and upvote ratio.\n",
    "4. Implement sentiment analysis such as positive and negative Comment.\n",
    "5. Develop set of StopWords for the model."
   ]
  },
  {
   "cell_type": "markdown",
   "id": "66097fa5-7e9e-4416-a4d4-bd4f51a551cd",
   "metadata": {},
   "source": [
    "## 9. References"
   ]
  },
  {
   "cell_type": "markdown",
   "id": "76f8a863-aa1b-4cc9-bca0-8a550fe38906",
   "metadata": {},
   "source": [
    "1. https://www.upgrad.com/blog/multinomial-naive-bayes-explained/\n",
    "2. https://www.geeksforgeeks.org/advantages-and-disadvantages-of-logistic-regression/\n",
    "3. https://www.upgrad.com/blog/multinomial-naive-bayes-explained/\n",
    "4. https://www.mygreatlearning.com/blog/random-forest-algorithm/\n",
    "5. https://www.analyticsvidhya.com/blog/2020/06/auc-roc-curve-machine-learning/\n",
    "6. https://towardsdatascience.com/what-metrics-should-we-use-on-imbalanced-data-set-precision-recall-roc-e2e79252aeba\n",
    "7. https://towardsdatascience.com/interpreting-coefficients-in-linear-and-logistic-regression-6ddf1295f6f1?gi=171712960afd"
   ]
  },
  {
   "cell_type": "code",
   "execution_count": null,
   "id": "e7793ebe-9eb0-4954-80ea-ec3b6cfa23a0",
   "metadata": {},
   "outputs": [],
   "source": []
  }
 ],
 "metadata": {
  "kernelspec": {
   "display_name": "Python 3",
   "language": "python",
   "name": "python3"
  },
  "language_info": {
   "codemirror_mode": {
    "name": "ipython",
    "version": 3
   },
   "file_extension": ".py",
   "mimetype": "text/x-python",
   "name": "python",
   "nbconvert_exporter": "python",
   "pygments_lexer": "ipython3",
   "version": "3.8.8"
  }
 },
 "nbformat": 4,
 "nbformat_minor": 5
}
